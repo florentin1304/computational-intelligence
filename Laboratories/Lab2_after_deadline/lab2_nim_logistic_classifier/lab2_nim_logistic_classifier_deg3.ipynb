{
 "cells": [
  {
   "cell_type": "markdown",
   "metadata": {
    "pycharm": {
     "name": "#%% md\n"
    }
   },
   "source": [
    "Copyright **`(c)`** 2023 Florentin-Cristian Udrea (udrea.florentin00@gmail.com)  "
   ]
  },
  {
   "cell_type": "markdown",
   "metadata": {
    "pycharm": {
     "name": "#%%\n"
    }
   },
   "source": [
    "# Lab 3: ES\n",
    "\n",
    "## Task\n",
    "\n",
    "Write agents able to play [_Nim_](https://en.wikipedia.org/wiki/Nim), with an arbitrary number of rows and an upper bound $k$ on the number of objects that can be removed in a turn (a.k.a., _subtraction game_).\n",
    "\n",
    "The goal of the game is to **avoid** taking the last object.\n",
    "\n",
    "- Task2.1: An agent using fixed rules based on _nim-sum_ (i.e., an _expert system_)\n",
    "- Task2.2: An agent using evolved rules using ES\n",
    "\n",
    "## Instructions\n",
    "\n",
    "- Create the directory `lab2` inside the course repo\n",
    "- Put a `README.md` and your solution (all the files, code and auxiliary data if needed)\n",
    "\n",
    "## Notes\n",
    "\n",
    "- Working in group is not only allowed, but recommended (see: [Ubuntu](https://en.wikipedia.org/wiki/Ubuntu_philosophy) and [Cooperative Learning](https://files.eric.ed.gov/fulltext/EJ1096789.pdf)). Collaborations must be explicitly declared in the `README.md`.\n",
    "- [Yanking](https://www.emacswiki.org/emacs/KillingAndYanking) from the internet is allowed, but sources must be explicitly declared in the `README.md`.\n"
   ]
  },
  {
   "cell_type": "code",
   "execution_count": 1,
   "metadata": {},
   "outputs": [],
   "source": [
    "import logging\n",
    "from pprint import pprint, pformat\n",
    "from collections import namedtuple\n",
    "import random\n",
    "from copy import deepcopy"
   ]
  },
  {
   "cell_type": "markdown",
   "metadata": {},
   "source": [
    "## The _Nim_ and _Nimply_ classes\n"
   ]
  },
  {
   "cell_type": "code",
   "execution_count": 2,
   "metadata": {},
   "outputs": [],
   "source": [
    "Nimply = namedtuple(\"Nimply\", \"row, num_objects\")"
   ]
  },
  {
   "cell_type": "code",
   "execution_count": 3,
   "metadata": {},
   "outputs": [],
   "source": [
    "class Nim:\n",
    "    def __init__(self, num_rows: int, k: int = None) -> None:\n",
    "        self._rows = [i * 2 + 1 for i in range(num_rows)]\n",
    "        self._k = k\n",
    "        self.last_move = None\n",
    "\n",
    "    def __bool__(self):\n",
    "        return sum(self._rows) > 0\n",
    "\n",
    "    def __str__(self):\n",
    "        return \"<\" + \" \".join(str(_) for _ in self._rows) + \">\"\n",
    "\n",
    "    @property\n",
    "    def rows(self) -> tuple:\n",
    "        return tuple(self._rows)\n",
    "\n",
    "    def nimming(self, ply: Nimply) -> None:\n",
    "        row, num_objects = ply\n",
    "        assert self._rows[row] >= num_objects\n",
    "        assert self._k is None or num_objects <= self._k\n",
    "        self._rows[row] -= num_objects\n",
    "        self.last_move = ply\n",
    "    \n",
    "    def undo_nim(self):\n",
    "        assert self.last_move != None\n",
    "\n",
    "        row, num_objects = self.last_move\n",
    "        self._rows[row] += num_objects"
   ]
  },
  {
   "cell_type": "markdown",
   "metadata": {},
   "source": [
    "- Class `Nim` is defined, with an initializer method `__init__`, three methods `__bool__`, `__str__`, and `nimming`, and a property `rows`.\n",
    "- The `__init__` method takes two arguments: `num_rows` and `k` (with a default value of `None`), and initializes `self._rows` with a list of odd numbers and stores `k` in `self._k`.\n",
    "- The `__bool__` method returns a boolean value indicating whether the sum of the numbers in `self._rows` is greater than 0.\n",
    "- The `__str__` method returns a string representation of the `Nim` instance by joining the numbers in `self._rows` into a string enclosed in angle brackets.\n",
    "- The `rows` property returns a tuple containing the numbers in `self._rows`.\n",
    "- The `nimming` method takes a `Nimply` instance (or a tuple), unpacks it into `row` and `num_objects`, and performs two assertions. It subtracts `num_objects` from the number of objects in the specified row if both assertions pass.\n"
   ]
  },
  {
   "cell_type": "markdown",
   "metadata": {},
   "source": [
    "## Sample (and silly) startegies\n"
   ]
  },
  {
   "cell_type": "code",
   "execution_count": 4,
   "metadata": {},
   "outputs": [],
   "source": [
    "def pure_random(state: Nim) -> Nimply:\n",
    "    \"\"\"A completely random move\"\"\"\n",
    "    row = random.choice(\n",
    "        [r for r, c in enumerate(state.rows) if c > 0]\n",
    "    )  # select random non empty row\n",
    "    num_objects = random.randint(\n",
    "        1, state.rows[row]\n",
    "    )  # select random number of objects to be removed from row\n",
    "    return Nimply(\n",
    "        row, num_objects\n",
    "    )  # return new Nimply object for that row with updated number of objects"
   ]
  },
  {
   "cell_type": "code",
   "execution_count": 5,
   "metadata": {},
   "outputs": [],
   "source": [
    "def gabriele(state: Nim) -> Nimply:\n",
    "    \"\"\"Pick always the maximum possible number of the lowest row\"\"\"\n",
    "    possible_moves = [\n",
    "        (r, o) for r, c in enumerate(state.rows) for o in range(1, c + 1)\n",
    "    ]  # create list of all possible moves\n",
    "    return Nimply(\n",
    "        *max(possible_moves, key=lambda m: (-m[0], m[1]))\n",
    "    )  # return Nimply object with maximum number of objects from lowest row"
   ]
  },
  {
   "cell_type": "code",
   "execution_count": 6,
   "metadata": {},
   "outputs": [],
   "source": [
    "def adaptive1(state: Nim) -> Nimply:\n",
    "    \"\"\"A strategy that can adapt its parameters\"\"\"\n",
    "    genome = {\"love_small\": 0.5}  # set initial value for love_small\n",
    "\n",
    "    if state.rows[0] <= 3:  # if lowest row has 3 or less objects\n",
    "        genome[\"love_small\"] = 0.9  # increase love_small\n",
    "    elif state.rows[0] >= 7:  # if lowest row has 7 or more objects\n",
    "        genome[\"love_small\"] = 0.1  # decrease love_small\n",
    "\n",
    "    row = min(\n",
    "        range(len(state.rows)), key=lambda r: state.rows[r]\n",
    "    )  # select row with lowest number of objects\n",
    "\n",
    "    num_objects = int(\n",
    "        genome[\"love_small\"] * state.rows[row]\n",
    "    )  # select number of objects to be removed from row\n",
    "\n",
    "    return Nimply(\n",
    "        row, num_objects\n",
    "    )  # return Nimply object for that row with updated number of objects"
   ]
  },
  {
   "cell_type": "code",
   "execution_count": 7,
   "metadata": {},
   "outputs": [],
   "source": [
    "import numpy as np\n",
    "\n",
    "\n",
    "def nim_sum(state: Nim) -> int:\n",
    "    \"\"\"\n",
    "    takes a `Nim` object and calculates the Nim-sum of the current game\n",
    "    state by converting the counts of objects in the rows to binary, summing\n",
    "    them, and taking the modulo 2 to obtain an integer Nim-sum\n",
    "    \"\"\"\n",
    "    tmp = np.array([tuple(int(x) for x in f\"{c:032b}\") for c in state.rows])\n",
    "    xor = tmp.sum(axis=0) % 2\n",
    "    return int(\"\".join(str(_) for _ in xor), base=2)\n",
    "\n",
    "\n",
    "def analize(raw: Nim) -> dict:\n",
    "    \"\"\"\n",
    "    takes a `Nim` object and returns a dictionary with a single key,\n",
    "    \"possible_moves,\" which maps each possible move to its resulting Nim-sum. To\n",
    "    calculate this, it iterates over all possible moves, makes a deep copy of\n",
    "    the game state, applies the move to the copy, and calculates the Nim-sum of\n",
    "    the resulting state\n",
    "    \"\"\"\n",
    "    cooked = dict()\n",
    "    cooked[\"possible_moves\"] = dict()\n",
    "    for ply in (Nimply(r, o) for r, c in enumerate(raw.rows) for o in range(1, c + 1)):\n",
    "        tmp = deepcopy(raw)\n",
    "        tmp.nimming(ply)\n",
    "        cooked[\"possible_moves\"][ply] = nim_sum(tmp)\n",
    "    return cooked\n",
    "\n",
    "\n",
    "def optimal(state: Nim) -> Nimply:\n",
    "    \"\"\"\n",
    "    takes a `Nim` object and returns an optimal move by analyzing the\n",
    "    current game state to get the Nim-sums of all possible moves. It selects\n",
    "    moves that result in a non-zero Nim-sum, representing \"winning\" moves.\n",
    "    If no such moves exist, it selects all moves and chooses one at random\n",
    "    to return as the optimal move\n",
    "    \"\"\"\n",
    "\n",
    "    # from archimedes-lab.org:\n",
    "\n",
    "    # To win at Nim-game, always make a move, whenever possible, that leaves a\n",
    "    # configuration with a ZERO “Nim sum”, that is with ZERO unpaired multiple(s)\n",
    "    # of 4, 2 or 1. Otherwise, your opponent has the advantage, and you have to\n",
    "    # depend on his/her committing an error in order to win.\n",
    "\n",
    "    analysis = analize(state)\n",
    "    logging.debug(f\"analysis:\\n{pformat(analysis)}\")\n",
    "    spicy_moves = [ply for ply, ns in analysis[\"possible_moves\"].items() if ns != 0]\n",
    "    if not spicy_moves:\n",
    "        spicy_moves = list(analysis[\"possible_moves\"].keys())\n",
    "    ply = random.choice(spicy_moves)\n",
    "    return ply"
   ]
  },
  {
   "cell_type": "markdown",
   "metadata": {},
   "source": [
    "## Oversimplified match\n",
    "\n",
    "- The line `logging.getLogger().setLevel(logging.INFO)` sets the logging level to `INFO`, indicating that all logging messages with level `INFO` or higher will be displayed.\n",
    "\n",
    "- The `strategy` tuple contains two functions, `optimal` and `pure_random`, which are used to determine the moves of the two players.\n",
    "\n",
    "- The `while nim:` loop continues as long as the game is not over, meaning there are objects remaining in the game. Inside the loop, the current player's strategy function is invoked with the current game state to determine the next move (`ply = strategy[player](nim)`). This move is then applied to the game (`nim.nimming(ply)`), and both the game state and the move are logged. Finally, the current player is switched using `player = 1 - player`.\n",
    "\n",
    "- After the loop, the final game state is logged, along with the player who won the game.\n"
   ]
  },
  {
   "cell_type": "code",
   "execution_count": null,
   "metadata": {},
   "outputs": [],
   "source": [
    "logging.getLogger().setLevel(logging.INFO)\n",
    "\n",
    "strategy = (optimal, pure_random)\n",
    "# strategy = (optimal, adaptive1)\n",
    "\n",
    "res = []\n",
    "for _ in range(1):\n",
    "    nim = Nim(5)\n",
    "    player = 0\n",
    "    while nim:\n",
    "        ply = strategy[player](nim)\n",
    "        print(strategy[player].__name__)\n",
    "        print(nim.rows)\n",
    "        print(ply)\n",
    "        nim.nimming(ply)\n",
    "        player = 1 - player\n",
    "    res.append(player)\n",
    "    # logging.info(f\"status: Player {player} won using {strategy[player].__name__} startegy!\")\n",
    "\n",
    "print(np.array(res).mean())"
   ]
  },
  {
   "cell_type": "markdown",
   "metadata": {},
   "source": [
    "### Evolutionary Logistic Classifier\n",
    "\n",
    "The nim game is a so called 'impartial game'. This means that every state of the game can be labbeled as a P-state (P-position) or a N-state (N-position). In particular, the P-state means that the state is advantageous for the previous player (the one that just moved), while the N-state means that the state is advantageous for the next player.\n",
    "\n",
    "The strategy is to get a logistic classifier that can predict if the next state (after my agent makes the moves) is a P-state or a N-state, in order to always move into a P-state. \n",
    "\n",
    "The inputs of the logistic classifier are some hand-made extracted features that give information about the state of the game, eg. number of non-zero rows, maximum row, meadian value of non-zero rows, ecc.. Furthermore, the initial features are then enriched with their polynomial features, up to the third degree, thus having to optimise up to 165 weights.\n",
    "\n",
    "Since the problem of training a logistic classifier is a 'supervised learning' one, meaning we have to give the model inputs and answers for him to train, and we don't have a dataset (furthermore we cannot create it, as we pretend not to have the optimal agent), the way the agent was optimised was by searching for its weights through an evolutionary strategy taking as a fitness the estimated average win-rate against another agent.\n",
    "\n",
    "The fitness used during training is simply the average win-rate against the ```pure_random``` strategy over 100 games. The fitness used in the results, instead, takes the best agent in the last generation (selected with the 100 games) and plays 1000 games (to decrease uncertainty) against both ```pure_random``` and ```optimal```.\n",
    "\n",
    "**Results**:\n",
    "```\n",
    "Fitness (vs. random) -> 0.893\n",
    "Fitness (vs. optimal) -> 0.656\n",
    "```\n"
   ]
  },
  {
   "cell_type": "code",
   "execution_count": 9,
   "metadata": {},
   "outputs": [],
   "source": [
    "from sklearn.preprocessing import PolynomialFeatures\n",
    "from sklearn.linear_model import LogisticRegression\n",
    "\n",
    "NIM_DIM = 5\n",
    "\n",
    "def get_features(nim_game, degree=3):\n",
    "  features = []\n",
    "  \n",
    "  # Num of non zero rows\n",
    "  features.append(np.sum([1 if x != 0 else 0 for x in nim_game.rows]))\n",
    "  # Num of odd rows\n",
    "  features.append(np.sum([1 if (x != 0 and x%2 != 0) else 0 for x in nim_game.rows]))\n",
    "  # Num of non-odd rows\n",
    "  features.append(np.sum([1 if (x != 0 and x%2 == 0) else 0 for x in nim_game.rows]))\n",
    "  # Num of prime rows \n",
    "  primes = [2,3,5,7,11,13,17,19]\n",
    "  features.append(np.sum([1 if x in primes else 0 for x in nim_game.rows]))\n",
    "  # Maximum row\n",
    "  features.append(np.max(nim_game.rows))\n",
    "  if features[0] > 0:\n",
    "    # Minimum non-zero row\n",
    "    features.append(np.min([x for x in nim_game.rows if x != 0]))\n",
    "    # Mean value of non-zero row\n",
    "    features.append(np.mean([x for x in nim_game.rows if x != 0]))\n",
    "    # Median value of non-zero row\n",
    "    features.append(np.median([x for x in nim_game.rows if x != 0]))\n",
    "  else:\n",
    "    features.append(0)\n",
    "    features.append(0)\n",
    "    features.append(0)\n",
    "    \n",
    "  return PolynomialFeatures(degree, interaction_only=False, include_bias=True).fit_transform(np.array([features]))[0]\n",
    "\n",
    "def get_num_weights():\n",
    "  return len(get_features(Nim(NIM_DIM)))\n",
    "\n",
    "def get_logistic_score(features, weights):\n",
    "  z = np.dot(features, weights)\n",
    "  logistic_score = 1 / ( 1 + np.exp(-z) )\n",
    "  return logistic_score\n",
    "\n",
    "def my_strategy(nim, weights):\n",
    "  best_play = None\n",
    "  best_play_score = -1\n",
    "\n",
    "  \n",
    "  plays = [Nimply(r, o) for r, c in enumerate(nim.rows) for o in range(1, c + 1)]\n",
    "  if len(plays) == 1:\n",
    "    return plays[0]\n",
    "  \n",
    "  tmp_nim = deepcopy(nim)\n",
    "  for play in plays:\n",
    "    tmp_nim.nimming(play)\n",
    "\n",
    "    if sum(tmp_nim.rows) == 0:\n",
    "      continue\n",
    "\n",
    "    features = get_features(tmp_nim)\n",
    "    score = get_logistic_score(features, weights)\n",
    "    \n",
    "    if score > best_play_score:\n",
    "      best_play_score = score\n",
    "      best_play = play\n",
    "\n",
    "    tmp_nim.undo_nim()\n",
    "  \n",
    "  return best_play\n"
   ]
  },
  {
   "cell_type": "code",
   "execution_count": 10,
   "metadata": {},
   "outputs": [],
   "source": [
    "# evolutionary params\n",
    "POPULATION_SIZE = 30\n",
    "MUTATION_RATE = 0.2\n",
    "NUMBER_GENERATIONS = 150\n",
    "\n",
    "\n",
    "# number on matches in fitness\n",
    "FITNESS_MATCHES = 100\n",
    "VS_AGENT = pure_random\n",
    "\n",
    "NUM_WEIGHTS = get_num_weights()\n",
    "STD = 0.1\n"
   ]
  },
  {
   "cell_type": "code",
   "execution_count": 11,
   "metadata": {},
   "outputs": [],
   "source": [
    "def nim_match(agent1, agent2):\n",
    "    strategy = (agent1, agent2)\n",
    "\n",
    "    nim = Nim(NIM_DIM)\n",
    "    player = random.randint(0, 1)\n",
    "    number_moves = 0\n",
    "    while nim:\n",
    "        ply = strategy[player](nim)\n",
    "        nim.nimming(ply)\n",
    "        player = 1 - player\n",
    "\n",
    "    return 1 - player  # 1 if agent won, 0 if expert won\n",
    "    \n"
   ]
  },
  {
   "cell_type": "code",
   "execution_count": 12,
   "metadata": {},
   "outputs": [],
   "source": [
    "def fitness(agent, num_matches=FITNESS_MATCHES, vs_agent=VS_AGENT):\n",
    "    # plays against expert by exectuing in order the moves of the agent and the expert agent\n",
    "    # fitness is number of matches won by agent with max 10 matches\n",
    "    runs = [nim_match(agent, vs_agent) for _ in range(num_matches)]\n",
    "    return np.array(runs).mean()"
   ]
  },
  {
   "cell_type": "code",
   "execution_count": 13,
   "metadata": {},
   "outputs": [],
   "source": [
    "def mutate(agent, std=STD):\n",
    "    if random.random() < MUTATION_RATE:\n",
    "       agent[np.random.randint(NUM_WEIGHTS)] += np.random.normal(loc=0.0, scale=std, size=1)\n",
    "    return agent\n",
    "    \n",
    "\n",
    "def generate_random_agent():\n",
    "    return (np.zeros(NUM_WEIGHTS) + np.random.normal(loc=0.0, scale=0.1, size=NUM_WEIGHTS))"
   ]
  },
  {
   "cell_type": "code",
   "execution_count": 14,
   "metadata": {},
   "outputs": [],
   "source": [
    "def reproduce(agent1, agent2):\n",
    "    agent1_index = random.randint(0, NUM_WEIGHTS - 1)\n",
    "    return np.concatenate((agent1[:agent1_index], agent2[agent1_index:]))\n",
    "    #return (agent1 + agent2)/2"
   ]
  },
  {
   "cell_type": "code",
   "execution_count": 15,
   "metadata": {},
   "outputs": [
    {
     "name": "stderr",
     "output_type": "stream",
     "text": [
      "100%|██████████| 150/150 [2:58:36<00:00, 71.44s/it]\n"
     ]
    }
   ],
   "source": [
    "from tqdm import tqdm\n",
    "import threading\n",
    "import multiprocessing\n",
    "import matplotlib.pyplot as plt\n",
    "from IPython. display import clear_output\n",
    "\n",
    "# run the algo\n",
    "\n",
    "\n",
    "def thread_calculate_score(index, num_threads, population, results):\n",
    "    population_cut = (0 if (len(population) // num_threads) == 0 else 1) + (len(population) // num_threads)\n",
    "    start = index*population_cut\n",
    "    end = min((index+1)*population_cut, len(population))\n",
    "    results[index] = [fitness(lambda x: my_strategy(x, weights=w)) \\\n",
    "                        for w in population[start : end]]\n",
    "\n",
    "max_list = []\n",
    "mean_list = []\n",
    "population = [generate_random_agent() for _ in range(POPULATION_SIZE)]\n",
    "\n",
    "\n",
    "for generation in tqdm(range(NUMBER_GENERATIONS)):\n",
    "    STD = 0.1 * (1 - (generation/NUMBER_GENERATIONS))\n",
    "    try:\n",
    "        plt.plot(max_list)\n",
    "        plt.plot(mean_list)\n",
    "        plt.xlim(0, NUMBER_GENERATIONS+1)\n",
    "        plt.show()\n",
    "    except:\n",
    "        print(\"Nothing to show yet\")\n",
    "\n",
    "    # evaluate current generation\n",
    "    # print(\"Getting scores\")\n",
    "    # fitness_scores = [fitness(lambda x: my_strategy(x, weights=w)) for w in population]\n",
    "    # print(\"done\")\n",
    "\n",
    "\n",
    "    num_threads = multiprocessing.cpu_count() # num cpu - 1\n",
    "    threads = [None for _ in range(num_threads)]\n",
    "    results = [[] for _ in range(num_threads)]\n",
    "\n",
    "    for index in range(num_threads):\n",
    "        x = threading.Thread(target=thread_calculate_score, args=(index, num_threads, population, results))\n",
    "        threads[index] = x\n",
    "        x.start()\n",
    "\n",
    "    for index, thread in enumerate(threads):\n",
    "        thread.join()\n",
    "\n",
    "    fitness_scores = []\n",
    "    for i in range(num_threads):\n",
    "        fitness_scores += results[i]\n",
    "\n",
    "\n",
    "    # print(\"MAX_SCORE: \", max(fitness_scores), \" | \", end='')\n",
    "    max_list.append( max(fitness_scores) )\n",
    "    # print(\"MEAN_SCORE\", np.array(fitness_scores).mean())\n",
    "    mean_list.append( np.array(fitness_scores).mean() )\n",
    "\n",
    "\n",
    "    # next gen parents\n",
    "    #num_parents = POPULATION_SIZE//5\n",
    "    #children = 2*(POPULATION_SIZE - num_parents)//3\n",
    "    #new_people = POPULATION_SIZE - num_parents - children\n",
    "\n",
    "    #selected_parents_i = np.argsort(fitness_scores)[::-1][:num_parents]\n",
    "    #selected_parents = [population[i] for i in selected_parents_i]\n",
    "    selected_size = POPULATION_SIZE//4\n",
    "    unselected_size = POPULATION_SIZE - selected_size - 1\n",
    "    probabilities = [(score-min(fitness_scores)) / (max(fitness_scores)-min(fitness_scores)) for score in fitness_scores]\n",
    "    probabilities = np.array(probabilities)/sum(probabilities)\n",
    "    selected_parents = [population[i] for i in np.random.choice(np.arange(POPULATION_SIZE), \\\n",
    "                                                                size=selected_size, \\\n",
    "                                                                replace=False,\\\n",
    "                                                                p=probabilities)]\n",
    "\n",
    "    # create next gen\n",
    "    new_population = []\n",
    "    \n",
    "    #for i in range(children):\n",
    "    #    agent1 = random.choice(selected_parents)\n",
    "    #    agent2 = random.choice(selected_parents)\n",
    "    #    new_population.append(mutate(reproduce(agent1, agent2), std=STD))\n",
    "\n",
    "    #for i in range(num_parents): \n",
    "    #    new_population.append(selected_parents[i])\n",
    "\n",
    "    #for i in range(new_people):\n",
    "    #    new_population.append(generate_random_agent())\n",
    "    \n",
    "    for i in range(unselected_size):\n",
    "        agent1 = random.choice(selected_parents)\n",
    "        agent2 = random.choice(selected_parents)\n",
    "        new_population.append(mutate(reproduce(agent1, agent2)))\n",
    "\n",
    "    for i in range(len(selected_parents)): \n",
    "        new_population.append(mutate(selected_parents[i]))\n",
    "    \n",
    "    new_population.append(generate_random_agent())\n",
    "        \n",
    "    population = new_population\n",
    "\n",
    "    clear_output(wait=True)\n",
    "\n"
   ]
  },
  {
   "cell_type": "code",
   "execution_count": 16,
   "metadata": {},
   "outputs": [],
   "source": [
    "fitness_scores = [fitness(lambda x: my_strategy(x, weights=w), \\\n",
    "                            num_matches=100, \\\n",
    "                            vs_agent=pure_random) \\\n",
    "                            for w in population]\n",
    "i_best = np.argmax(fitness_scores)\n",
    "best_net = population[i_best]"
   ]
  },
  {
   "cell_type": "code",
   "execution_count": 22,
   "metadata": {},
   "outputs": [
    {
     "name": "stdout",
     "output_type": "stream",
     "text": [
      "Fitness (vs. random) -> 0.893\n",
      "Fitness (vs. gabriele) -> 1.0\n",
      "Fitness (vs. optimal) -> 0.656\n"
     ]
    }
   ],
   "source": [
    "#print(\"Best Agent ->\", best_agent_weights)\n",
    "print(\"Fitness (vs. random) ->\", fitness(lambda x: my_strategy(x, weights=best_net), \\\n",
    "                                   num_matches=1000, \\\n",
    "                                   vs_agent=pure_random))\n",
    "print(\"Fitness (vs. gabriele) ->\", fitness(lambda x: my_strategy(x, weights=best_net), \\\n",
    "                                    num_matches=1000, \\\n",
    "                                    vs_agent=gabriele))\n",
    "print(\"Fitness (vs. optimal) ->\", fitness(lambda x: my_strategy(x, weights=best_net), \\\n",
    "                                    num_matches=1000, \\\n",
    "                                    vs_agent=optimal))\n"
   ]
  },
  {
   "cell_type": "code",
   "execution_count": 23,
   "metadata": {},
   "outputs": [
    {
     "name": "stdout",
     "output_type": "stream",
     "text": [
      "0.97\n"
     ]
    },
    {
     "data": {
      "image/png": "[encoded data removed]",
      "text/plain": [
       "<Figure size 640x480 with 1 Axes>"
      ]
     },
     "metadata": {},
     "output_type": "display_data"
    }
   ],
   "source": [
    "import matplotlib.pyplot as plt\n",
    "from scipy.signal import savgol_filter\n",
    "\n",
    "    \n",
    "plt.plot(max_list, alpha=0.3)\n",
    "plt.plot(mean_list)\n",
    "plt.plot(savgol_filter(max_list, 15, 1))\n",
    "print(max_list[-1])\n",
    "plt.show()"
   ]
  },
  {
   "cell_type": "code",
   "execution_count": 29,
   "metadata": {},
   "outputs": [],
   "source": [
    "with open(\"logistic_best.txt\", 'w') as f:\n",
    "    f.write(str(best_net.tolist()))\n"
   ]
  }
 ],
 "metadata": {
  "kernelspec": {
   "display_name": "Python 3.10.7 ('ci22-dPIXJ0_o-py3.10')",
   "language": "python",
   "name": "python3"
  },
  "language_info": {
   "codemirror_mode": {
    "name": "ipython",
    "version": 3
   },
   "file_extension": ".py",
   "mimetype": "text/x-python",
   "name": "python",
   "nbconvert_exporter": "python",
   "pygments_lexer": "ipython3",
   "version": "3.11.3"
  },
  "vscode": {
   "interpreter": {
    "hash": "10197e8e2f2aa67e2c349105091c77f4cd384fce4877865f002d9ec653f96bc0"
   }
  }
 },
 "nbformat": 4,
 "nbformat_minor": 2
}
