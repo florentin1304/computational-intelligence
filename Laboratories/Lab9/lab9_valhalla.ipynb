{
 "cells": [
  {
   "cell_type": "code",
   "execution_count": 1,
   "metadata": {},
   "outputs": [],
   "source": [
    "import numpy as np\n",
    "import random\n",
    "from tqdm import tqdm\n",
    "from copy import deepcopy\n",
    "\n",
    "from utils.reproduce_functions import *\n",
    "from utils.mutation_functions import *\n",
    "from utils.parent_selection_functions import *\n",
    "from utils.other_fucntions import *\n",
    "from utils.valhalla_functions import *\n",
    "\n",
    "import lab9_lib"
   ]
  },
  {
   "cell_type": "code",
   "execution_count": 2,
   "metadata": {},
   "outputs": [],
   "source": [
    "PROBLEM_SIZE = 10\n",
    "\n",
    "MU = 10\n",
    "LAMBDA = 20\n",
    "strategy = 'plus' # comma or plus\n",
    "\n",
    "MUTATION_PROB = 0.2\n",
    "DYNAMIC_MUTATION_PROB = True\n",
    "DIVERSITY_THRESHOLD = 20\n",
    "\n",
    "LENGTH_SOLUTION = 1000\n",
    "NUMBER_GENERATIONS = 1_500\n",
    "\n",
    "EPOCH = 10              # Number of generation to reintroduce the best fitting\n",
    "N_CHAMPIONS = 2        # Number of champions that will rest in the Valhalla\n",
    "N_ISLANDS = 1                       # Number of different populations\n",
    "N_MIGRANTS = 5                      # Number of migrants from one island\n",
    "SIZE_VALHALLA = 3 * N_CHAMPIONS "
   ]
  },
  {
   "cell_type": "code",
   "execution_count": 3,
   "metadata": {},
   "outputs": [],
   "source": [
    "mutate = one_bit_flip\n",
    "reproduce = random_xover\n",
    "parent_selection = roulette\n",
    "when_to_pick = fixed_generations\n",
    "when_load_valhalla = fixed_generations"
   ]
  },
  {
   "cell_type": "code",
   "execution_count": 4,
   "metadata": {},
   "outputs": [],
   "source": [
    "def ga(fitness, parents, parents_evals, memoization=False):\n",
    "    generation_convergence = -1\n",
    "    valhalla = np.empty(shape = ((EPOCH // 10) * N_CHAMPIONS, LENGTH_SOLUTION), dtype=np.int16)   \n",
    "    valhalla_evals = np.empty(shape = ((EPOCH // 10) * N_CHAMPIONS, ), dtype=np.int16)   \n",
    "    \n",
    "    if memoization:\n",
    "        pop_history = {}\n",
    "        for i in range(len(parents)):\n",
    "            pop_history[parents[i].tobytes()] = parents_evals[i]\n",
    "\n",
    "    for generation in tqdm(range(NUMBER_GENERATIONS)):\n",
    "        offsprings = []\n",
    "        offsprings_evals = []\n",
    "        while len(offsprings) < LAMBDA:\n",
    "            # Parent Selection\n",
    "            p1, p2 = parent_selection(parents, parents_evals)\n",
    "\n",
    "            # Reproduce Parents\n",
    "            off_spring = reproduce(p1, p2)\n",
    "\n",
    "            # Mutate Offspring\n",
    "            if DYNAMIC_MUTATION_PROB:\n",
    "                p_div = get_parents_diversity(p1, p2)\n",
    "                new_ind1 = mutate(off_spring, \\\n",
    "                                  mutation_probability=(1 - (min(p_div,LENGTH_SOLUTION/2)/(LENGTH_SOLUTION/2))) )\n",
    "            else:    \n",
    "                new_ind1 = mutate(off_spring, mutation_probability=MUTATION_PROB)\n",
    "\n",
    "            # Evaluate Offspring\n",
    "            if memoization:\n",
    "                new_ind1_eval = pop_history.get(new_ind1.tobytes())\n",
    "                if new_ind1_eval == None:\n",
    "                    new_ind1_eval = fitness(new_ind1)\n",
    "                    pop_history[new_ind1.tobytes()] = new_ind1_eval\n",
    "            else:\n",
    "                new_ind1_eval = fitness(new_ind1)\n",
    "\n",
    "            # Add it to new population\n",
    "            offsprings.append(new_ind1)\n",
    "            offsprings_evals.append(new_ind1_eval)\n",
    "\n",
    "\n",
    "        # Create new population (with parents if plus, without if comma)\n",
    "        all_people = (parents if strategy=='plus' else []) + offsprings\n",
    "        all_evals = (parents_evals if strategy=='plus' else []) + offsprings_evals\n",
    "        best_people = np.argsort(all_evals)[::-1]\n",
    "\n",
    "        parents = []\n",
    "        parents_evals = []\n",
    "        for i in range(MU):\n",
    "            parents.append(all_people[best_people[i]])\n",
    "            parents_evals.append(all_evals[best_people[i]])\n",
    "            \n",
    "        if np.max(parents_evals) - 1.0 >= 0 and generation_convergence == -1:\n",
    "            generation_convergence = generation, fitness.calls\n",
    "\n",
    "        if when_to_pick(generation, 10):\n",
    "            offsprings = np.array(offsprings)\n",
    "            offsprings_evals = np.array(offsprings_evals)\n",
    "            champions = offsprings[np.argsort(offsprings_evals)[-N_CHAMPIONS:]]\n",
    "            start = (((generation - 1) % EPOCH) // 10) * N_CHAMPIONS\n",
    "            end = (((generation - 1) % EPOCH) // 10) * N_CHAMPIONS + N_CHAMPIONS\n",
    "            valhalla[start:end, :] = offsprings[np.argsort(offsprings_evals)[-N_CHAMPIONS:]]\n",
    "            valhalla_evals[start:end] = offsprings_evals[np.argsort(offsprings_evals)[-N_CHAMPIONS:]]\n",
    "\n",
    "        if when_load_valhalla(generation, EPOCH):\n",
    "            parents = list(np.concatenate((parents, valhalla)))\n",
    "            parents_evals = list(np.concatenate((parents_evals, valhalla_evals)))\n",
    "            # # Introduce some randomicity in order to inject champions from time to time.\n",
    "            # if random.random() < 0.8:\n",
    "            #     parents = np.concatenate((parents, random.choices(valhalla, k = 4)))\n",
    "\n",
    "    return parents, parents_evals"
   ]
  },
  {
   "cell_type": "markdown",
   "metadata": {},
   "source": [
    "Without memoization"
   ]
  },
  {
   "cell_type": "code",
   "execution_count": 5,
   "metadata": {},
   "outputs": [
    {
     "name": "stderr",
     "output_type": "stream",
     "text": [
      "  0%|          | 0/1500 [00:00<?, ?it/s]"
     ]
    },
    {
     "name": "stderr",
     "output_type": "stream",
     "text": [
      "100%|██████████| 1500/1500 [00:16<00:00, 92.21it/s]"
     ]
    },
    {
     "name": "stdout",
     "output_type": "stream",
     "text": [
      "Best score:  0.18\n",
      "Num fitness calls:  30010\n"
     ]
    },
    {
     "name": "stderr",
     "output_type": "stream",
     "text": [
      "\n"
     ]
    }
   ],
   "source": [
    "fitness = lab9_lib.make_problem(PROBLEM_SIZE)\n",
    "parents = [generate_random_individual(length=LENGTH_SOLUTION) for _ in range(MU)]\n",
    "parents_evals = [fitness(x) for x in parents]\n",
    "parents, parents_evals = ga(fitness, parents, parents_evals, memoization=False)\n",
    "i_best = np.argmax(parents_evals)\n",
    "# print(parents[i_best])\n",
    "print(\"Best score: \", parents_evals[i_best])\n",
    "print(\"Num fitness calls: \", fitness.calls)"
   ]
  },
  {
   "cell_type": "markdown",
   "metadata": {},
   "source": [
    "With memoization"
   ]
  },
  {
   "cell_type": "code",
   "execution_count": 6,
   "metadata": {},
   "outputs": [
    {
     "name": "stderr",
     "output_type": "stream",
     "text": [
      "100%|██████████| 1500/1500 [00:17<00:00, 84.51it/s] \n"
     ]
    },
    {
     "name": "stdout",
     "output_type": "stream",
     "text": [
      "Best score:  0.275\n",
      "Num fitness calls:  23516\n"
     ]
    }
   ],
   "source": [
    "fitness = lab9_lib.make_problem(PROBLEM_SIZE)\n",
    "parents = [generate_random_individual(length=LENGTH_SOLUTION) for _ in range(50)]\n",
    "parents_evals = [fitness(x) for x in parents]\n",
    "parents, parents_evals = ga(fitness, parents, parents_evals, memoization=True)\n",
    "i_best = np.argmax(parents_evals)\n",
    "# print(parents[i_best])\n",
    "print(\"Best score: \", parents_evals[i_best])\n",
    "print(\"Num fitness calls: \", fitness.calls)"
   ]
  }
 ],
 "metadata": {
  "kernelspec": {
   "display_name": "Python 3",
   "language": "python",
   "name": "python3"
  },
  "language_info": {
   "codemirror_mode": {
    "name": "ipython",
    "version": 3
   },
   "file_extension": ".py",
   "mimetype": "text/x-python",
   "name": "python",
   "nbconvert_exporter": "python",
   "pygments_lexer": "ipython3",
   "version": "3.9.6"
  }
 },
 "nbformat": 4,
 "nbformat_minor": 2
}
