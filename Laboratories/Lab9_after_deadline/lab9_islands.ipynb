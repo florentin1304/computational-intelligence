{
 "cells": [
  {
   "cell_type": "markdown",
   "metadata": {},
   "source": [
    "Copyright **`(c)`** 2023 Giovanni Squillero `<giovanni.squillero@polito.it>`  \n",
    "[`https://github.com/squillero/computational-intelligence`](https://github.com/squillero/computational-intelligence)  \n",
    "Free for personal or classroom use; see [`LICENSE.md`](https://github.com/squillero/computational-intelligence/blob/master/LICENSE.md) for details.  "
   ]
  },
  {
   "cell_type": "markdown",
   "metadata": {},
   "source": [
    "Copyright **`(c)`** 2023 Giovanni Squillero `<giovanni.squillero@polito.it>`  \n",
    "[`https://github.com/squillero/computational-intelligence`](https://github.com/squillero/computational-intelligence)  \n",
    "Free for personal or classroom use; see [`LICENSE.md`](https://github.com/squillero/computational-intelligence/blob/master/LICENSE.md) for details.  "
   ]
  },
  {
   "cell_type": "markdown",
   "metadata": {},
   "source": [
    "# LAB9\n",
    "\n",
    "\n",
    "Wrote a local-search algorithm (eg. an EA) able to solve the *Problem* instances 1, 2, 5, and 10 on a 1000-loci genomes, using a minimum number of fitness calls. That's all.\n",
    "\n",
    "### Deadlines:\n",
    "\n",
    "* Submission: Sunday, December 3 ([CET](https://www.timeanddate.com/time/zones/cet))\n",
    "* Reviews: Sunday, December 10 ([CET](https://www.timeanddate.com/time/zones/cet))\n",
    "\n",
    "Notes:\n",
    "\n",
    "* Reviews will be assigned  on Monday, November 27\n",
    "* You need to commit in order to be selected as a reviewer (ie. better to commit an empty work than not to commit)"
   ]
  },
  {
   "cell_type": "code",
   "execution_count": 109,
   "metadata": {},
   "outputs": [],
   "source": [
    "import numpy as np\n",
    "import random\n",
    "from tqdm import tqdm\n",
    "from copy import deepcopy\n",
    "\n",
    "from utils.reproduce_functions import *\n",
    "from utils.mutation_functions import *\n",
    "from utils.parent_selection_functions import *\n",
    "from utils.other_fucntions import *\n",
    "from utils.island_functions import *\n",
    "\n",
    "import lab9_lib"
   ]
  },
  {
   "cell_type": "code",
   "execution_count": 110,
   "metadata": {},
   "outputs": [],
   "source": [
    "PROBLEM_SIZE = 2\n",
    "\n",
    "MU = 15\n",
    "LAMBDA = 30\n",
    "strategy = 'plus' # comma or plus\n",
    "\n",
    "MUTATION_PROB = 0.2\n",
    "DYNAMIC_MUTATION_PROB = True\n",
    "DIVERSITY_THRESHOLD = 20\n",
    "\n",
    "LENGTH_SOLUTION = 1000\n",
    "NUMBER_GENERATIONS = 3000\n",
    "COOLDOWN_TIME = 100\n",
    "\n",
    "NUM_ISLANDS = 5"
   ]
  },
  {
   "cell_type": "code",
   "execution_count": 111,
   "metadata": {},
   "outputs": [],
   "source": [
    "# Function to perform swapping between islands\n",
    "mutate = one_bit_flip\n",
    "reproduce = two_cuts_crossover\n",
    "parent_selection = roulette\n",
    "\n",
    "when_to_swap = fitness_based \n",
    "swap_individuals_between_islands = fitness_based_migration"
   ]
  },
  {
   "cell_type": "code",
   "execution_count": 112,
   "metadata": {},
   "outputs": [],
   "source": [
    "def ga(fitness, islands, islands_evals, memoization=False, history=None):\n",
    "    if memoization:\n",
    "        pop_history = {}\n",
    "        for i in range(len(islands_evals)):\n",
    "            for j in range(len(islands_evals[i])):\n",
    "                pop_history[islands[i][j].tobytes()] = islands_evals[i][j]\n",
    "\n",
    "    best_value = -1 \n",
    "    last_change = 0\n",
    "    \n",
    "    for generation in tqdm(range(NUMBER_GENERATIONS)):\n",
    "        for island_ix, island in enumerate(islands):\n",
    "            parents = island\n",
    "            parents_evals = islands_evals[island_ix]\n",
    "            offsprings = []\n",
    "            offsprings_evals = []\n",
    "\n",
    "            while len(offsprings) < LAMBDA:\n",
    "                \n",
    "                p1, p2 = parent_selection(parents, parents_evals)\n",
    "    \n",
    "                # Reproduce Parents\n",
    "                off_spring = reproduce(p1, p2)\n",
    "                \n",
    "               # Mutate Offspring\n",
    "                if DYNAMIC_MUTATION_PROB:\n",
    "                    p_div = get_parents_diversity(p1, p2)\n",
    "                    new_ind1 = mutate(off_spring, \\\n",
    "                                    mutation_probability=(1 - (min(p_div,LENGTH_SOLUTION/2)/(LENGTH_SOLUTION/2))) )\n",
    "                else:    \n",
    "                    new_ind1 = mutate(off_spring, mutation_probability=MUTATION_PROB)\n",
    "\n",
    "                # Evaluate Offspring\n",
    "                if memoization:\n",
    "                    new_ind1_eval = pop_history.get(new_ind1.tobytes())\n",
    "                    if new_ind1_eval == None:\n",
    "                        new_ind1_eval = fitness(new_ind1)\n",
    "                        pop_history[new_ind1.tobytes()] = new_ind1_eval\n",
    "\n",
    "                else:\n",
    "                    new_ind1_eval = fitness(new_ind1)\n",
    "\n",
    "                offsprings.append(new_ind1)\n",
    "\n",
    "                offsprings_evals.append(new_ind1_eval)\n",
    "                if memoization:\n",
    "                    pop_history[new_ind1.tobytes()] = new_ind1_eval\n",
    "\n",
    "            # Create new population (with parents if plus, without if comma)\n",
    "            all_people = (parents if strategy=='plus' else []) + offsprings\n",
    "            all_evals = (parents_evals if strategy=='plus' else []) + offsprings_evals\n",
    "            best_people = np.argsort(all_evals)[::-1]\n",
    "\n",
    "            if history is not None:\n",
    "                history[island_ix].append(np.max(all_evals))\n",
    "\n",
    "            parents = []\n",
    "            parents_evals = []\n",
    "            for i in range(MU):\n",
    "                parents.append(all_people[best_people[i]])\n",
    "                parents_evals.append(all_evals[best_people[i]])\n",
    "            islands[island_ix] = parents\n",
    "            islands_evals[island_ix] = parents_evals\n",
    "            \n",
    "            # if np.max(parents_evals) - 1.0 >= 0:\n",
    "            #     print(f\"Early stopping {generation=}\")\n",
    "                # return parents, parents_evals\n",
    "\n",
    "        best_eval = max([max(x) for x in history])\n",
    "        if best_eval > best_value:\n",
    "            best_value = best_eval\n",
    "            last_change = generation\n",
    "        elif generation - last_change > COOLDOWN_TIME:\n",
    "            break\n",
    "\n",
    "        if when_to_swap(islands_evals):\n",
    "            swap_individuals_between_islands(islands, islands_evals)\n",
    "            # swap_individuals_between_islands(islands)\n",
    "\n",
    "        # if when_to_swap(generation, 10):\n",
    "        #     # swap_individuals_between_islands(islands, islands_evals)\n",
    "        #     swap_individuals_between_islands(islands, islands_evals)\n",
    "\n",
    "    return islands, islands_evals"
   ]
  },
  {
   "cell_type": "markdown",
   "metadata": {},
   "source": [
    "Without memoization"
   ]
  },
  {
   "cell_type": "code",
   "execution_count": 113,
   "metadata": {},
   "outputs": [
    {
     "data": {
      "text/plain": [
       "'\\nfitness = lab9_lib.make_problem(PROBLEM_SIZE)\\nislands = [ [generate_random_individual(length=LENGTH_SOLUTION) for _ in range(50) ] for _ in range(NUM_ISLANDS) ]\\nislands_evals = [[fitness(x) for x in island] for island in islands ]\\nparents, parents_evals = ga(fitness, islands, islands_evals, memoization=False)\\ni_best = np.argmax(parents_evals)\\nprint(parents[i_best])\\nprint(\"Best score: \", parents_evals[i_best])\\nprint(\"Num fitness calls: \", fitness.calls)\\n'"
      ]
     },
     "execution_count": 113,
     "metadata": {},
     "output_type": "execute_result"
    }
   ],
   "source": [
    "'''\n",
    "fitness = lab9_lib.make_problem(PROBLEM_SIZE)\n",
    "islands = [ [generate_random_individual(length=LENGTH_SOLUTION) for _ in range(50) ] for _ in range(NUM_ISLANDS) ]\n",
    "islands_evals = [[fitness(x) for x in island] for island in islands ]\n",
    "parents, parents_evals = ga(fitness, islands, islands_evals, memoization=False)\n",
    "i_best = np.argmax(parents_evals)\n",
    "print(parents[i_best])\n",
    "print(\"Best score: \", parents_evals[i_best])\n",
    "print(\"Num fitness calls: \", fitness.calls)\n",
    "'''"
   ]
  },
  {
   "cell_type": "markdown",
   "metadata": {},
   "source": [
    "With memoization"
   ]
  },
  {
   "cell_type": "code",
   "execution_count": 114,
   "metadata": {},
   "outputs": [
    {
     "name": "stderr",
     "output_type": "stream",
     "text": [
      "  0%|          | 2/3000 [00:00<02:57, 16.85it/s]"
     ]
    },
    {
     "name": "stderr",
     "output_type": "stream",
     "text": [
      " 19%|█▊        | 557/3000 [00:27<01:59, 20.40it/s]\n"
     ]
    },
    {
     "name": "stdout",
     "output_type": "stream",
     "text": [
      "0.838\n",
      "Num fitness calls:  83934\n"
     ]
    },
    {
     "name": "stderr",
     "output_type": "stream",
     "text": [
      " 69%|██████▉   | 2077/3000 [01:50<00:48, 18.85it/s]\n"
     ]
    },
    {
     "name": "stdout",
     "output_type": "stream",
     "text": [
      "0.964\n",
      "Num fitness calls:  311905\n"
     ]
    },
    {
     "name": "stderr",
     "output_type": "stream",
     "text": [
      " 50%|█████     | 1506/3000 [01:18<01:17, 19.21it/s]\n"
     ]
    },
    {
     "name": "stdout",
     "output_type": "stream",
     "text": [
      "0.894\n",
      "Num fitness calls:  226280\n"
     ]
    },
    {
     "name": "stderr",
     "output_type": "stream",
     "text": [
      " 21%|██        | 620/3000 [00:29<01:54, 20.76it/s]\n"
     ]
    },
    {
     "name": "stdout",
     "output_type": "stream",
     "text": [
      "0.974\n",
      "Num fitness calls:  93395\n"
     ]
    },
    {
     "name": "stderr",
     "output_type": "stream",
     "text": [
      " 21%|██        | 636/3000 [00:30<01:53, 20.74it/s]\n"
     ]
    },
    {
     "name": "stdout",
     "output_type": "stream",
     "text": [
      "0.948\n",
      "Num fitness calls:  95789\n"
     ]
    },
    {
     "name": "stderr",
     "output_type": "stream",
     "text": [
      " 11%|█▏        | 338/3000 [00:14<01:56, 22.78it/s]\n"
     ]
    },
    {
     "name": "stdout",
     "output_type": "stream",
     "text": [
      "0.73\n",
      "Num fitness calls:  51085\n"
     ]
    },
    {
     "name": "stderr",
     "output_type": "stream",
     "text": [
      " 15%|█▌        | 458/3000 [00:20<01:54, 22.18it/s]\n"
     ]
    },
    {
     "name": "stdout",
     "output_type": "stream",
     "text": [
      "0.72\n",
      "Num fitness calls:  69089\n"
     ]
    },
    {
     "name": "stderr",
     "output_type": "stream",
     "text": [
      " 30%|███       | 904/3000 [00:43<01:40, 20.86it/s]\n"
     ]
    },
    {
     "name": "stdout",
     "output_type": "stream",
     "text": [
      "0.986\n",
      "Num fitness calls:  135967\n"
     ]
    },
    {
     "name": "stderr",
     "output_type": "stream",
     "text": [
      " 13%|█▎        | 388/3000 [00:19<02:11, 19.87it/s]\n"
     ]
    },
    {
     "name": "stdout",
     "output_type": "stream",
     "text": [
      "0.728\n",
      "Num fitness calls:  58588\n"
     ]
    },
    {
     "name": "stderr",
     "output_type": "stream",
     "text": [
      " 34%|███▍      | 1026/3000 [00:50<01:36, 20.36it/s]\n"
     ]
    },
    {
     "name": "stdout",
     "output_type": "stream",
     "text": [
      "0.93\n",
      "Num fitness calls:  154286\n"
     ]
    },
    {
     "name": "stderr",
     "output_type": "stream",
     "text": [
      " 38%|███▊      | 1141/3000 [00:53<01:27, 21.26it/s]\n"
     ]
    },
    {
     "name": "stdout",
     "output_type": "stream",
     "text": [
      "0.828\n",
      "Num fitness calls:  171521\n"
     ]
    },
    {
     "name": "stderr",
     "output_type": "stream",
     "text": [
      " 36%|███▌      | 1077/3000 [00:53<01:34, 20.30it/s]\n"
     ]
    },
    {
     "name": "stdout",
     "output_type": "stream",
     "text": [
      "0.994\n",
      "Num fitness calls:  161908\n"
     ]
    },
    {
     "name": "stderr",
     "output_type": "stream",
     "text": [
      "  6%|▌         | 169/3000 [00:06<01:52, 25.26it/s]\n"
     ]
    },
    {
     "name": "stdout",
     "output_type": "stream",
     "text": [
      "0.606\n",
      "Num fitness calls:  25747\n"
     ]
    },
    {
     "name": "stderr",
     "output_type": "stream",
     "text": [
      " 29%|██▉       | 875/3000 [00:40<01:37, 21.72it/s]\n"
     ]
    },
    {
     "name": "stdout",
     "output_type": "stream",
     "text": [
      "0.98\n",
      "Num fitness calls:  131630\n"
     ]
    },
    {
     "name": "stderr",
     "output_type": "stream",
     "text": [
      " 20%|██        | 613/3000 [00:29<01:54, 20.83it/s]\n"
     ]
    },
    {
     "name": "stdout",
     "output_type": "stream",
     "text": [
      "0.836\n",
      "Num fitness calls:  92332\n"
     ]
    },
    {
     "name": "stderr",
     "output_type": "stream",
     "text": [
      " 15%|█▌        | 457/3000 [00:20<01:54, 22.25it/s]\n"
     ]
    },
    {
     "name": "stdout",
     "output_type": "stream",
     "text": [
      "0.772\n",
      "Num fitness calls:  68947\n"
     ]
    },
    {
     "name": "stderr",
     "output_type": "stream",
     "text": [
      " 17%|█▋        | 514/3000 [00:25<02:02, 20.36it/s]\n"
     ]
    },
    {
     "name": "stdout",
     "output_type": "stream",
     "text": [
      "0.952\n",
      "Num fitness calls:  77489\n"
     ]
    },
    {
     "name": "stderr",
     "output_type": "stream",
     "text": [
      " 51%|█████     | 1516/3000 [01:15<01:13, 20.16it/s]\n"
     ]
    },
    {
     "name": "stdout",
     "output_type": "stream",
     "text": [
      "0.988\n",
      "Num fitness calls:  227740\n"
     ]
    },
    {
     "name": "stderr",
     "output_type": "stream",
     "text": [
      " 45%|████▍     | 1342/3000 [01:07<01:23, 19.83it/s]\n"
     ]
    },
    {
     "name": "stdout",
     "output_type": "stream",
     "text": [
      "0.912\n",
      "Num fitness calls:  201658\n"
     ]
    },
    {
     "name": "stderr",
     "output_type": "stream",
     "text": [
      " 18%|█▊        | 547/3000 [00:26<01:58, 20.74it/s]\n"
     ]
    },
    {
     "name": "stdout",
     "output_type": "stream",
     "text": [
      "0.97\n",
      "Num fitness calls:  82443\n"
     ]
    },
    {
     "name": "stderr",
     "output_type": "stream",
     "text": [
      " 15%|█▌        | 460/3000 [00:24<02:15, 18.75it/s]\n"
     ]
    },
    {
     "name": "stdout",
     "output_type": "stream",
     "text": [
      "0.732\n",
      "Num fitness calls:  69389\n"
     ]
    },
    {
     "name": "stderr",
     "output_type": "stream",
     "text": [
      " 12%|█▏        | 359/3000 [00:16<02:04, 21.19it/s]\n"
     ]
    },
    {
     "name": "stdout",
     "output_type": "stream",
     "text": [
      "0.7\n",
      "Num fitness calls:  54243\n"
     ]
    },
    {
     "name": "stderr",
     "output_type": "stream",
     "text": [
      " 69%|██████▉   | 2080/3000 [01:48<00:47, 19.18it/s]\n"
     ]
    },
    {
     "name": "stdout",
     "output_type": "stream",
     "text": [
      "0.988\n",
      "Num fitness calls:  312361\n"
     ]
    },
    {
     "name": "stderr",
     "output_type": "stream",
     "text": [
      " 18%|█▊        | 532/3000 [00:23<01:51, 22.20it/s]\n"
     ]
    },
    {
     "name": "stdout",
     "output_type": "stream",
     "text": [
      "0.756\n",
      "Num fitness calls:  80178\n"
     ]
    },
    {
     "name": "stderr",
     "output_type": "stream",
     "text": [
      " 14%|█▍        | 419/3000 [00:19<02:00, 21.40it/s]\n"
     ]
    },
    {
     "name": "stdout",
     "output_type": "stream",
     "text": [
      "0.878\n",
      "Num fitness calls:  63245\n"
     ]
    },
    {
     "name": "stderr",
     "output_type": "stream",
     "text": [
      " 12%|█▏        | 370/3000 [00:17<02:05, 21.04it/s]\n"
     ]
    },
    {
     "name": "stdout",
     "output_type": "stream",
     "text": [
      "0.716\n",
      "Num fitness calls:  55897\n"
     ]
    },
    {
     "name": "stderr",
     "output_type": "stream",
     "text": [
      " 18%|█▊        | 540/3000 [00:26<02:02, 20.15it/s]\n"
     ]
    },
    {
     "name": "stdout",
     "output_type": "stream",
     "text": [
      "0.994\n",
      "Num fitness calls:  81380\n"
     ]
    },
    {
     "name": "stderr",
     "output_type": "stream",
     "text": [
      " 21%|██        | 628/3000 [00:32<02:01, 19.57it/s]\n"
     ]
    },
    {
     "name": "stdout",
     "output_type": "stream",
     "text": [
      "0.936\n",
      "Num fitness calls:  94581\n"
     ]
    },
    {
     "name": "stderr",
     "output_type": "stream",
     "text": [
      " 21%|██        | 625/3000 [00:30<01:55, 20.52it/s]\n"
     ]
    },
    {
     "name": "stdout",
     "output_type": "stream",
     "text": [
      "0.884\n",
      "Num fitness calls:  94136\n"
     ]
    },
    {
     "name": "stderr",
     "output_type": "stream",
     "text": [
      " 11%|█▏        | 340/3000 [00:15<01:58, 22.36it/s]"
     ]
    },
    {
     "name": "stdout",
     "output_type": "stream",
     "text": [
      "0.754\n",
      "Num fitness calls:  51395\n",
      "average fitness calls:  115951.26666666666\n",
      "average best score:  0.8629333333333334\n"
     ]
    },
    {
     "name": "stderr",
     "output_type": "stream",
     "text": [
      "\n"
     ]
    }
   ],
   "source": [
    "fitness_calls = []\n",
    "best_scores = []\n",
    "for i in range(30):\n",
    "    fitness = lab9_lib.make_problem(PROBLEM_SIZE)\n",
    "    \n",
    "    history = [[] for _ in range(NUM_ISLANDS)]\n",
    "    islands = [ [generate_random_individual(length=LENGTH_SOLUTION) for _ in range(50) ] for _ in range(NUM_ISLANDS) ]\n",
    "    islands_evals = [[fitness(x) for x in island] for island in islands]\n",
    "    parents, parents_evals = ga(fitness, islands, islands_evals, memoization=True, history=history)\n",
    "    print(max([max(x) for x in history]))\n",
    "    #i_best = np.argmax(parents_evals)\n",
    "    #print(parents[i_best])\n",
    "    #print(\"Best score: \", parents_evals[i_best])\n",
    "    print(\"Num fitness calls: \", fitness.calls)\n",
    "    fitness_calls.append(fitness.calls)\n",
    "    best_scores.append(np.max(history))\n",
    "\n",
    "print(\"average fitness calls: \", np.mean(fitness_calls))\n",
    "print(\"average best score: \", np.mean(best_scores))"
   ]
  },
  {
   "cell_type": "code",
   "execution_count": 115,
   "metadata": {},
   "outputs": [
    {
     "data": {
      "text/plain": [
       "5"
      ]
     },
     "execution_count": 115,
     "metadata": {},
     "output_type": "execute_result"
    }
   ],
   "source": [
    "len(history)"
   ]
  },
  {
   "cell_type": "code",
   "execution_count": 116,
   "metadata": {},
   "outputs": [
    {
     "data": {
      "image/png": "[encoded data removed]",
      "text/plain": [
       "<Figure size 640x480 with 1 Axes>"
      ]
     },
     "metadata": {},
     "output_type": "display_data"
    }
   ],
   "source": [
    "# plot history\n",
    "\n",
    "# plot history\n",
    "import matplotlib.pyplot as plt\n",
    "for x in history:\n",
    "    plt.plot(x)\n",
    "plt.xlabel('Generation')\n",
    "plt.ylabel('Fitness')\n",
    "plt.show()"
   ]
  }
 ],
 "metadata": {
  "kernelspec": {
   "display_name": "ci-fLJ3OwGs-py3.12",
   "language": "python",
   "name": "python3"
  },
  "language_info": {
   "codemirror_mode": {
    "name": "ipython",
    "version": 3
   },
   "file_extension": ".py",
   "mimetype": "text/x-python",
   "name": "python",
   "nbconvert_exporter": "python",
   "pygments_lexer": "ipython3",
   "version": "3.11.3"
  }
 },
 "nbformat": 4,
 "nbformat_minor": 2
}
