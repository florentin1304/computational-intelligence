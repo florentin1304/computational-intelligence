{
 "cells": [
  {
   "cell_type": "markdown",
   "metadata": {},
   "source": [
    "Copyright **`(c)`** 2023 Giovanni Squillero `<giovanni.squillero@polito.it>`  \n",
    "[`https://github.com/squillero/computational-intelligence`](https://github.com/squillero/computational-intelligence)  \n",
    "Free for personal or classroom use; see [`LICENSE.md`](https://github.com/squillero/computational-intelligence/blob/master/LICENSE.md) for details.  "
   ]
  },
  {
   "cell_type": "markdown",
   "metadata": {},
   "source": [
    "# LAB9\n",
    "\n",
    "\n",
    "Wrote a local-search algorithm (eg. an EA) able to solve the *Problem* instances 1, 2, 5, and 10 on a 1000-loci genomes, using a minimum number of fitness calls. That's all.\n",
    "\n",
    "### Deadlines:\n",
    "\n",
    "* Submission: Sunday, December 3 ([CET](https://www.timeanddate.com/time/zones/cet))\n",
    "* Reviews: Sunday, December 10 ([CET](https://www.timeanddate.com/time/zones/cet))\n",
    "\n",
    "Notes:\n",
    "\n",
    "* Reviews will be assigned  on Monday, November 27\n",
    "* You need to commit in order to be selected as a reviewer (ie. better to commit an empty work than not to commit)"
   ]
  },
  {
   "cell_type": "code",
   "execution_count": 1,
   "metadata": {},
   "outputs": [],
   "source": [
    "import numpy as np\n",
    "import random\n",
    "from tqdm import tqdm\n",
    "from copy import deepcopy\n",
    "import matplotlib.pyplot as plt\n",
    "\n",
    "from utils.reproduce_functions import *\n",
    "from utils.mutation_functions import *\n",
    "from utils.parent_selection_functions import *\n",
    "from utils.other_fucntions import *\n",
    "from utils.island_functions import *\n",
    "\n",
    "import lab9_lib"
   ]
  },
  {
   "cell_type": "code",
   "execution_count": 2,
   "metadata": {},
   "outputs": [],
   "source": [
    "PROBLEM_SIZE = 1\n",
    "\n",
    "MU = 15\n",
    "LAMBDA = 30\n",
    "strategy = 'plus' # comma or plus\n",
    "\n",
    "MUTATION_PROB = 0.2\n",
    "DYNAMIC_MUTATION_PROB = True\n",
    "DIVERSITY_THRESHOLD = 20\n",
    "\n",
    "SEGREGATION = True\n",
    "COOLDOWN_TIME = 100\n",
    "LENGTH_SOLUTION = 1000\n",
    "NUMBER_GENERATIONS = 5000\n",
    "\n",
    "NUM_ISLANDS = 5"
   ]
  },
  {
   "cell_type": "code",
   "execution_count": 3,
   "metadata": {},
   "outputs": [],
   "source": [
    "# Function to perform swapping between islands\n",
    "mutate = one_bit_flip\n",
    "reproduce = two_cuts_crossover\n",
    "parent_selection = roulette\n",
    "\n",
    "when_to_swap = fitness_based\n",
    "swap_individuals_between_islands = random_swap"
   ]
  },
  {
   "cell_type": "code",
   "execution_count": 4,
   "metadata": {},
   "outputs": [],
   "source": [
    "def ga(fitness, islands, islands_evals, memoization=False, history=None):\n",
    "    if memoization:\n",
    "        pop_history = {}\n",
    "        for i in range(len(islands_evals)):\n",
    "            for j in range(len(islands_evals[i])):\n",
    "                pop_history[islands[i][j].tobytes()] = islands_evals[i][j]\n",
    "    \n",
    "    best_value = -1 \n",
    "    last_change = -1\n",
    "    cooldown = COOLDOWN_TIME\n",
    "    for generation in tqdm(range(NUMBER_GENERATIONS)):\n",
    "        for island_ix, island in enumerate(islands):\n",
    "            parents = island\n",
    "            parents_evals = islands_evals[island_ix]\n",
    "            offsprings = []\n",
    "            offsprings_evals = []\n",
    "\n",
    "            while len(offsprings) < LAMBDA:\n",
    "                \n",
    "                p1, p2 = parent_selection(parents, parents_evals)\n",
    "    \n",
    "                # Reproduce Parents\n",
    "                off_spring = reproduce(p1, p2)\n",
    "                \n",
    "               # Mutate Offspring\n",
    "                if DYNAMIC_MUTATION_PROB:\n",
    "                    p_div = get_parents_diversity(p1, p2)\n",
    "                    new_ind1 = mutate(off_spring, \\\n",
    "                                    size=1,\n",
    "                                    mutation_probability=(1 - (min(p_div,LENGTH_SOLUTION/2)/(LENGTH_SOLUTION/2))) )\n",
    "                else:    \n",
    "                    new_ind1 = mutate(off_spring, mutation_probability=MUTATION_PROB)\n",
    "\n",
    "                # Evaluate Offspring\n",
    "                if memoization:\n",
    "                    new_ind1_eval = pop_history.get(new_ind1.tobytes())\n",
    "                    if new_ind1_eval == None:\n",
    "                        new_ind1_eval = fitness(new_ind1)\n",
    "                        pop_history[new_ind1.tobytes()] = new_ind1_eval\n",
    "                else:\n",
    "                    new_ind1_eval = fitness(new_ind1)\n",
    "\n",
    "                offsprings.append(new_ind1)\n",
    "\n",
    "                offsprings_evals.append(new_ind1_eval)\n",
    "                if memoization:\n",
    "                    pop_history[new_ind1.tobytes()] = new_ind1_eval\n",
    "\n",
    "            # Create new population (with parents if plus, without if comma)\n",
    "            all_people = (parents if strategy=='plus' else []) + offsprings\n",
    "            all_evals = (parents_evals if strategy=='plus' else []) + offsprings_evals\n",
    "            best_people = np.argsort(all_evals)[::-1]\n",
    "\n",
    "            parents = []\n",
    "            parents_evals = []\n",
    "            for i in range(MU):\n",
    "                parents.append(all_people[best_people[i]])\n",
    "                parents_evals.append(all_evals[best_people[i]])\n",
    "            islands[island_ix] = parents\n",
    "            islands_evals[island_ix] = parents_evals\n",
    "            \n",
    "\n",
    "            if history is not None:\n",
    "                history[island_ix].append(np.max(all_evals))\n",
    "\n",
    "        best_eval = max([max(x) for x in history])\n",
    "        if best_eval > best_value:\n",
    "            best_value = best_eval\n",
    "            last_change = generation\n",
    "        elif generation - last_change > COOLDOWN_TIME and len(islands) == 1:\n",
    "            break\n",
    "\n",
    "        if when_to_swap(islands_evals):\n",
    "            swap_individuals_between_islands(islands)\n",
    "\n",
    "        # if when_to_swap(generation, 10):\n",
    "        #     # swap_individuals_between_islands(islands, islands_evals)\n",
    "        #     swap_individuals_between_islands(islands)\n",
    "        \n",
    "        if history is not None and len(islands) > 1 and generation > cooldown:\n",
    "            mean_fitnesses = []\n",
    "            for island_ix, x in enumerate(islands_evals):\n",
    "                mean_fitnesses.append(np.mean(x))\n",
    "\n",
    "            mean_fitnesses = np.array(mean_fitnesses)\n",
    "            mean_fitnesses = np.reshape(mean_fitnesses, (len(mean_fitnesses), 1))\n",
    "            diff_mat = np.abs(mean_fitnesses - mean_fitnesses.transpose())\n",
    "\n",
    "            for island_ix, island in enumerate(islands):\n",
    "                if len(history[island_ix]) > COOLDOWN_TIME and \\\n",
    "                    (np.diff(history[island_ix])[-COOLDOWN_TIME:] == 0).all() and \\\n",
    "                    mean_fitnesses[island_ix] != max(mean_fitnesses):\n",
    "                    \n",
    "                    #print(\"Num islands\", len(islands)-1)\n",
    "                    # Merge two islands\n",
    "                    most_similar_island_idx = np.argsort(diff_mat[island_ix])[1] #0 is same island, diff=0\n",
    "\n",
    "                    islands[most_similar_island_idx].extend(islands[island_ix])\n",
    "                    islands_evals[most_similar_island_idx].extend(islands_evals[island_ix])\n",
    "\n",
    "                    if SEGREGATION == True:\n",
    "                        islands.pop(island_ix)\n",
    "                        islands_evals.pop(island_ix)\n",
    "                    else:\n",
    "                        if memoization:\n",
    "                            new_island = []\n",
    "                            while len(new_island) < MU:\n",
    "                                new_ind = np.random.randint(2, size=LENGTH_SOLUTION)\n",
    "                                if pop_history.get(new_ind.tobytes()) != None:\n",
    "                                    continue\n",
    "                                \n",
    "                                new_island.append(new_ind)\n",
    "                                pop_history[new_ind.tobytes()] = fitness(new_ind)\n",
    "                                \n",
    "\n",
    "                            islands[island_ix] = new_island\n",
    "                            islands_evals[island_ix] = [pop_history[ind.tobytes()] for ind in islands[island_ix]]\n",
    "                        else:\n",
    "                            islands[island_ix] = [np.random.randint(2, size=LENGTH_SOLUTION) for _ in range(MU)]\n",
    "                            islands_evals[island_ix] = [fitness(ind) for ind in islands[island_ix]]\n",
    "                    \n",
    "                    last_generation = generation\n",
    "                    cooldown = generation + COOLDOWN_TIME\n",
    "                    break\n",
    "                    \n",
    "\n",
    "\n",
    "    return parents, parents_evals"
   ]
  },
  {
   "cell_type": "code",
   "execution_count": null,
   "metadata": {},
   "outputs": [],
   "source": [
    "def ga(fitness, islands, islands_evals, memoization=False, history=None):\n",
    "    if memoization:\n",
    "        pop_history = {}\n",
    "        for i in range(len(islands_evals)):\n",
    "            for j in range(len(islands_evals[i])):\n",
    "                pop_history[islands[i][j].tobytes()] = islands_evals[i][j]\n",
    "    \n",
    "    best_value = -1 \n",
    "    last_change = -1\n",
    "    cooldown = COOLDOWN_TIME\n",
    "    for generation in tqdm(range(NUMBER_GENERATIONS)):\n",
    "        for island_ix, island in enumerate(islands):\n",
    "            parents = island\n",
    "            parents_evals = islands_evals[island_ix]\n",
    "            offsprings = []\n",
    "            offsprings_evals = []\n",
    "\n",
    "            while len(offsprings) < LAMBDA:\n",
    "                \n",
    "                p1, p2 = parent_selection(parents, parents_evals)\n",
    "    \n",
    "                # Reproduce Parents\n",
    "                off_spring = reproduce(p1, p2)\n",
    "                \n",
    "               # Mutate Offspring\n",
    "                if DYNAMIC_MUTATION_PROB:\n",
    "                    p_div = get_parents_diversity(p1, p2)\n",
    "                    new_ind1 = mutate(off_spring, \\\n",
    "                                    size=1,\n",
    "                                    mutation_probability=(1 - (min(p_div,LENGTH_SOLUTION/2)/(LENGTH_SOLUTION/2))) )\n",
    "                else:    \n",
    "                    new_ind1 = mutate(off_spring, mutation_probability=MUTATION_PROB)\n",
    "\n",
    "                # Evaluate Offspring\n",
    "                if memoization:\n",
    "                    new_ind1_eval = pop_history.get(new_ind1.tobytes())\n",
    "                    if new_ind1_eval == None:\n",
    "                        new_ind1_eval = fitness(new_ind1)\n",
    "                        pop_history[new_ind1.tobytes()] = new_ind1_eval\n",
    "                else:\n",
    "                    new_ind1_eval = fitness(new_ind1)\n",
    "\n",
    "                offsprings.append(new_ind1)\n",
    "\n",
    "                offsprings_evals.append(new_ind1_eval)\n",
    "                if memoization:\n",
    "                    pop_history[new_ind1.tobytes()] = new_ind1_eval\n",
    "\n",
    "            # Create new population (with parents if plus, without if comma)\n",
    "            all_people = (parents if strategy=='plus' else []) + offsprings\n",
    "            all_evals = (parents_evals if strategy=='plus' else []) + offsprings_evals\n",
    "            best_people = np.argsort(all_evals)[::-1]\n",
    "\n",
    "            parents = []\n",
    "            parents_evals = []\n",
    "            for i in range(MU):\n",
    "                parents.append(all_people[best_people[i]])\n",
    "                parents_evals.append(all_evals[best_people[i]])\n",
    "            islands[island_ix] = parents\n",
    "            islands_evals[island_ix] = parents_evals\n",
    "            \n",
    "\n",
    "            if history is not None:\n",
    "                history[island_ix].append(np.max(all_evals))\n",
    "\n",
    "        best_eval = max([max(x) for x in history])\n",
    "        if best_eval > best_value:\n",
    "            best_value = best_eval\n",
    "            last_change = generation\n",
    "        elif generation - last_change > COOLDOWN_TIME and len(islands) == 1:\n",
    "            break\n",
    "\n",
    "        if when_to_swap(islands_evals):\n",
    "            swap_individuals_between_islands(islands)\n",
    "\n",
    "        # if when_to_swap(generation, 10):\n",
    "        #     # swap_individuals_between_islands(islands, islands_evals)\n",
    "        #     swap_individuals_between_islands(islands)\n",
    "        \n",
    "        if history is not None and len(islands) > 1 and generation > cooldown:\n",
    "            mean_fitnesses = []\n",
    "            for island_ix, x in enumerate(islands_evals):\n",
    "                mean_fitnesses.append(np.mean(x))\n",
    "\n",
    "            mean_fitnesses = np.array(mean_fitnesses)\n",
    "            mean_fitnesses = np.reshape(mean_fitnesses, (len(mean_fitnesses), 1))\n",
    "            diff_mat = np.abs(mean_fitnesses - mean_fitnesses.transpose())\n",
    "\n",
    "            for island_ix, island in enumerate(islands):\n",
    "                if len(history[island_ix]) > COOLDOWN_TIME and \\\n",
    "                    (np.diff(history[island_ix])[-COOLDOWN_TIME:] == 0).all() and \\\n",
    "                    mean_fitnesses[island_ix] != max(mean_fitnesses):\n",
    "                    \n",
    "                    #print(\"Num islands\", len(islands)-1)\n",
    "                    # Merge two islands\n",
    "                    most_similar_island_idx = np.argsort(diff_mat[island_ix])[1] #0 is same island, diff=0\n",
    "\n",
    "                    islands[most_similar_island_idx].extend(islands[island_ix])\n",
    "                    islands_evals[most_similar_island_idx].extend(islands_evals[island_ix])\n",
    "\n",
    "                    if SEGREGATION == True:\n",
    "                        islands.pop(island_ix)\n",
    "                        islands_evals.pop(island_ix)\n",
    "                    else:\n",
    "                        if memoization:\n",
    "                            new_island = []\n",
    "                            while len(new_island) < MU:\n",
    "                                new_ind = np.random.randint(2, size=LENGTH_SOLUTION)\n",
    "                                if pop_history.get(new_ind.tobytes()) != None:\n",
    "                                    continue\n",
    "                                \n",
    "                                new_island.append(new_ind)\n",
    "                                pop_history[new_ind.tobytes()] = fitness(new_ind)\n",
    "                                \n",
    "\n",
    "                            islands[island_ix] = new_island\n",
    "                            islands_evals[island_ix] = [pop_history[ind.tobytes()] for ind in islands[island_ix]]\n",
    "                        else:\n",
    "                            islands[island_ix] = [np.random.randint(2, size=LENGTH_SOLUTION) for _ in range(MU)]\n",
    "                            islands_evals[island_ix] = [fitness(ind) for ind in islands[island_ix]]\n",
    "                    \n",
    "                    last_generation = generation\n",
    "                    cooldown = generation + COOLDOWN_TIME\n",
    "                    break\n",
    "                    \n",
    "\n",
    "\n",
    "    return parents, parents_evals"
   ]
  },
  {
   "cell_type": "markdown",
   "metadata": {},
   "source": [
    "Without memoization"
   ]
  },
  {
   "cell_type": "code",
   "execution_count": 5,
   "metadata": {},
   "outputs": [],
   "source": [
    "# fitness = lab9_lib.make_problem(PROBLEM_SIZE)\n",
    "# islands = [ [generate_random_individual(length=LENGTH_SOLUTION) for _ in range(50) ] for _ in range(NUM_ISLANDS) ]\n",
    "# history = [[] for _ in range(NUM_ISLANDS)]\n",
    "\n",
    "# islands_evals = [[fitness(x) for x in island] for island in islands ]\n",
    "# parents, parents_evals = ga(fitness, islands, islands_evals, memoization=False, history=history)\n",
    "# i_best = np.argmax(parents_evals)\n",
    "\n",
    "# print(\"Best score: \", max([max(x) for x in history]))\n",
    "# print(\"Num fitness calls: \", fitness.calls)\n",
    "\n",
    "# for x in history:\n",
    "#     plt.plot(x)\n",
    "# plt.show()"
   ]
  },
  {
   "cell_type": "markdown",
   "metadata": {},
   "source": [
    "With memoization"
   ]
  },
  {
   "cell_type": "code",
   "execution_count": 6,
   "metadata": {},
   "outputs": [
    {
     "name": "stderr",
     "output_type": "stream",
     "text": [
      "  0%|          | 3/5000 [00:00<04:16, 19.51it/s]"
     ]
    },
    {
     "name": "stderr",
     "output_type": "stream",
     "text": [
      " 10%|█         | 503/5000 [00:21<03:10, 23.64it/s]\n"
     ]
    },
    {
     "name": "stdout",
     "output_type": "stream",
     "text": [
      "Best score:  1.0\n",
      "Num fitness calls:  22518\n"
     ]
    },
    {
     "name": "stderr",
     "output_type": "stream",
     "text": [
      "100%|██████████| 5000/5000 [05:41<00:00, 14.66it/s]\n"
     ]
    },
    {
     "name": "stdout",
     "output_type": "stream",
     "text": [
      "Best score:  1.0\n",
      "Num fitness calls:  23041\n"
     ]
    },
    {
     "name": "stderr",
     "output_type": "stream",
     "text": [
      "100%|██████████| 5000/5000 [05:22<00:00, 15.52it/s]\n"
     ]
    },
    {
     "name": "stdout",
     "output_type": "stream",
     "text": [
      "Best score:  1.0\n",
      "Num fitness calls:  25926\n"
     ]
    },
    {
     "name": "stderr",
     "output_type": "stream",
     "text": [
      "100%|██████████| 5000/5000 [04:26<00:00, 18.79it/s]\n"
     ]
    },
    {
     "name": "stdout",
     "output_type": "stream",
     "text": [
      "Best score:  1.0\n",
      "Num fitness calls:  25414\n"
     ]
    },
    {
     "name": "stderr",
     "output_type": "stream",
     "text": [
      "100%|██████████| 5000/5000 [04:32<00:00, 18.33it/s]\n"
     ]
    },
    {
     "name": "stdout",
     "output_type": "stream",
     "text": [
      "Best score:  1.0\n",
      "Num fitness calls:  24462\n"
     ]
    },
    {
     "name": "stderr",
     "output_type": "stream",
     "text": [
      "100%|██████████| 5000/5000 [04:10<00:00, 19.93it/s]\n"
     ]
    },
    {
     "name": "stdout",
     "output_type": "stream",
     "text": [
      "Best score:  1.0\n",
      "Num fitness calls:  23848\n"
     ]
    },
    {
     "name": "stderr",
     "output_type": "stream",
     "text": [
      "100%|██████████| 5000/5000 [03:52<00:00, 21.49it/s]\n"
     ]
    },
    {
     "name": "stdout",
     "output_type": "stream",
     "text": [
      "Best score:  1.0\n",
      "Num fitness calls:  20137\n"
     ]
    },
    {
     "name": "stderr",
     "output_type": "stream",
     "text": [
      "100%|██████████| 5000/5000 [03:39<00:00, 22.78it/s]\n"
     ]
    },
    {
     "name": "stdout",
     "output_type": "stream",
     "text": [
      "Best score:  1.0\n",
      "Num fitness calls:  23008\n"
     ]
    },
    {
     "name": "stderr",
     "output_type": "stream",
     "text": [
      "100%|██████████| 5000/5000 [03:28<00:00, 23.95it/s]\n"
     ]
    },
    {
     "name": "stdout",
     "output_type": "stream",
     "text": [
      "Best score:  1.0\n",
      "Num fitness calls:  22130\n"
     ]
    },
    {
     "name": "stderr",
     "output_type": "stream",
     "text": [
      "100%|██████████| 5000/5000 [03:24<00:00, 24.50it/s]\n"
     ]
    },
    {
     "name": "stdout",
     "output_type": "stream",
     "text": [
      "Best score:  1.0\n",
      "Num fitness calls:  24434\n"
     ]
    },
    {
     "name": "stderr",
     "output_type": "stream",
     "text": [
      " 10%|█         | 508/5000 [00:15<02:15, 33.19it/s]\n"
     ]
    },
    {
     "name": "stdout",
     "output_type": "stream",
     "text": [
      "Best score:  1.0\n",
      "Num fitness calls:  19196\n"
     ]
    },
    {
     "name": "stderr",
     "output_type": "stream",
     "text": [
      "100%|██████████| 5000/5000 [02:54<00:00, 28.58it/s]\n"
     ]
    },
    {
     "name": "stdout",
     "output_type": "stream",
     "text": [
      "Best score:  1.0\n",
      "Num fitness calls:  26018\n"
     ]
    },
    {
     "name": "stderr",
     "output_type": "stream",
     "text": [
      " 10%|█         | 524/5000 [00:15<02:16, 32.76it/s]\n"
     ]
    },
    {
     "name": "stdout",
     "output_type": "stream",
     "text": [
      "Best score:  1.0\n",
      "Num fitness calls:  25964\n"
     ]
    },
    {
     "name": "stderr",
     "output_type": "stream",
     "text": [
      "100%|██████████| 5000/5000 [03:16<00:00, 25.46it/s]\n"
     ]
    },
    {
     "name": "stdout",
     "output_type": "stream",
     "text": [
      "Best score:  1.0\n",
      "Num fitness calls:  20785\n"
     ]
    },
    {
     "name": "stderr",
     "output_type": "stream",
     "text": [
      "100%|██████████| 5000/5000 [03:06<00:00, 26.75it/s]\n"
     ]
    },
    {
     "name": "stdout",
     "output_type": "stream",
     "text": [
      "Best score:  1.0\n",
      "Num fitness calls:  22603\n"
     ]
    },
    {
     "name": "stderr",
     "output_type": "stream",
     "text": [
      "100%|██████████| 5000/5000 [03:17<00:00, 25.35it/s]\n"
     ]
    },
    {
     "name": "stdout",
     "output_type": "stream",
     "text": [
      "Best score:  1.0\n",
      "Num fitness calls:  25335\n"
     ]
    },
    {
     "name": "stderr",
     "output_type": "stream",
     "text": [
      "100%|██████████| 5000/5000 [03:24<00:00, 24.40it/s]\n"
     ]
    },
    {
     "name": "stdout",
     "output_type": "stream",
     "text": [
      "Best score:  1.0\n",
      "Num fitness calls:  21789\n"
     ]
    },
    {
     "name": "stderr",
     "output_type": "stream",
     "text": [
      "100%|██████████| 5000/5000 [02:54<00:00, 28.66it/s]\n"
     ]
    },
    {
     "name": "stdout",
     "output_type": "stream",
     "text": [
      "Best score:  1.0\n",
      "Num fitness calls:  19232\n"
     ]
    },
    {
     "name": "stderr",
     "output_type": "stream",
     "text": [
      "100%|██████████| 5000/5000 [03:15<00:00, 25.60it/s]\n"
     ]
    },
    {
     "name": "stdout",
     "output_type": "stream",
     "text": [
      "Best score:  1.0\n",
      "Num fitness calls:  22414\n"
     ]
    },
    {
     "name": "stderr",
     "output_type": "stream",
     "text": [
      "100%|██████████| 5000/5000 [02:31<00:00, 32.99it/s]\n"
     ]
    },
    {
     "name": "stdout",
     "output_type": "stream",
     "text": [
      "Best score:  1.0\n",
      "Num fitness calls:  22464\n"
     ]
    },
    {
     "name": "stderr",
     "output_type": "stream",
     "text": [
      "100%|██████████| 5000/5000 [02:41<00:00, 30.94it/s]\n"
     ]
    },
    {
     "name": "stdout",
     "output_type": "stream",
     "text": [
      "Best score:  1.0\n",
      "Num fitness calls:  21831\n"
     ]
    },
    {
     "name": "stderr",
     "output_type": "stream",
     "text": [
      " 10%|█         | 505/5000 [00:14<02:06, 35.65it/s]\n"
     ]
    },
    {
     "name": "stdout",
     "output_type": "stream",
     "text": [
      "Best score:  1.0\n",
      "Num fitness calls:  23414\n"
     ]
    },
    {
     "name": "stderr",
     "output_type": "stream",
     "text": [
      "100%|██████████| 5000/5000 [02:40<00:00, 31.13it/s]\n"
     ]
    },
    {
     "name": "stdout",
     "output_type": "stream",
     "text": [
      "Best score:  1.0\n",
      "Num fitness calls:  21485\n"
     ]
    },
    {
     "name": "stderr",
     "output_type": "stream",
     "text": [
      "100%|██████████| 5000/5000 [02:40<00:00, 31.18it/s]\n"
     ]
    },
    {
     "name": "stdout",
     "output_type": "stream",
     "text": [
      "Best score:  1.0\n",
      "Num fitness calls:  23137\n"
     ]
    },
    {
     "name": "stderr",
     "output_type": "stream",
     "text": [
      "100%|██████████| 5000/5000 [02:40<00:00, 31.24it/s]\n"
     ]
    },
    {
     "name": "stdout",
     "output_type": "stream",
     "text": [
      "Best score:  1.0\n",
      "Num fitness calls:  20650\n"
     ]
    },
    {
     "name": "stderr",
     "output_type": "stream",
     "text": [
      "100%|██████████| 5000/5000 [02:09<00:00, 38.58it/s]\n"
     ]
    },
    {
     "name": "stdout",
     "output_type": "stream",
     "text": [
      "Best score:  1.0\n",
      "Num fitness calls:  18979\n"
     ]
    },
    {
     "name": "stderr",
     "output_type": "stream",
     "text": [
      "100%|██████████| 5000/5000 [02:40<00:00, 31.24it/s]\n"
     ]
    },
    {
     "name": "stdout",
     "output_type": "stream",
     "text": [
      "Best score:  1.0\n",
      "Num fitness calls:  25081\n"
     ]
    },
    {
     "name": "stderr",
     "output_type": "stream",
     "text": [
      "100%|██████████| 5000/5000 [02:40<00:00, 31.08it/s]\n"
     ]
    },
    {
     "name": "stdout",
     "output_type": "stream",
     "text": [
      "Best score:  1.0\n",
      "Num fitness calls:  21449\n"
     ]
    },
    {
     "name": "stderr",
     "output_type": "stream",
     "text": [
      "100%|██████████| 5000/5000 [02:09<00:00, 38.53it/s]\n"
     ]
    },
    {
     "name": "stdout",
     "output_type": "stream",
     "text": [
      "Best score:  1.0\n",
      "Num fitness calls:  28044\n"
     ]
    },
    {
     "name": "stderr",
     "output_type": "stream",
     "text": [
      "100%|██████████| 5000/5000 [02:27<00:00, 33.79it/s]\n"
     ]
    },
    {
     "name": "stdout",
     "output_type": "stream",
     "text": [
      "Best score:  1.0\n",
      "Num fitness calls:  23462\n",
      "========================================\n",
      "1.0\n",
      "22941.666666666668\n"
     ]
    },
    {
     "data": {
      "image/png": "[encoded data removed]",
      "text/plain": [
       "<Figure size 640x480 with 1 Axes>"
      ]
     },
     "metadata": {},
     "output_type": "display_data"
    }
   ],
   "source": [
    "fitnesses = []\n",
    "calls = []\n",
    "for _ in range(30):\n",
    "    fitness = lab9_lib.make_problem(PROBLEM_SIZE)\n",
    "    islands = [ [generate_random_individual(length=LENGTH_SOLUTION) for _ in range(50) ] for _ in range(NUM_ISLANDS) ]\n",
    "    islands_evals = [[fitness(x) for x in island] for island in islands ]\n",
    "\n",
    "    history = [[] for _ in range(NUM_ISLANDS)]\n",
    "\n",
    "    parents, parents_evals = ga(fitness, islands, islands_evals, memoization=True, history=history)\n",
    "    i_best = np.argmax(parents_evals)\n",
    "\n",
    "    fitnesses.append(max([max(x) for x in history]))\n",
    "    calls.append(fitness.calls)\n",
    "    print(\"Best score: \", max([max(x) for x in history]))\n",
    "    print(\"Num fitness calls: \", fitness.calls)\n",
    "    \n",
    "print(\"=\"*40)\n",
    "print(np.mean(fitnesses))\n",
    "print(np.mean(calls))\n",
    "for x in history:\n",
    "    plt.plot(x)\n",
    "plt.show()"
   ]
  },
  {
   "cell_type": "code",
   "execution_count": 7,
   "metadata": {},
   "outputs": [
    {
     "name": "stdout",
     "output_type": "stream",
     "text": [
      "[1.0, 1.0, 1.0, 1.0, 1.0, 1.0, 1.0, 1.0, 1.0, 1.0, 1.0, 1.0, 1.0, 1.0, 1.0, 1.0, 1.0, 1.0, 1.0, 1.0, 1.0, 1.0, 1.0, 1.0, 1.0, 1.0, 1.0, 1.0, 1.0, 1.0]\n"
     ]
    }
   ],
   "source": [
    "print(fitnesses)"
   ]
  }
 ],
 "metadata": {
  "kernelspec": {
   "display_name": "ci-fLJ3OwGs-py3.12",
   "language": "python",
   "name": "python3"
  },
  "language_info": {
   "codemirror_mode": {
    "name": "ipython",
    "version": 3
   },
   "file_extension": ".py",
   "mimetype": "text/x-python",
   "name": "python",
   "nbconvert_exporter": "python",
   "pygments_lexer": "ipython3",
   "version": "3.11.3"
  }
 },
 "nbformat": 4,
 "nbformat_minor": 2
}
