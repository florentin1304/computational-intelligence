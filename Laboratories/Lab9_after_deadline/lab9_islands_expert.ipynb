{
 "cells": [
  {
   "cell_type": "markdown",
   "metadata": {},
   "source": [
    "Copyright **`(c)`** 2023 Giovanni Squillero `<giovanni.squillero@polito.it>`  \n",
    "[`https://github.com/squillero/computational-intelligence`](https://github.com/squillero/computational-intelligence)  \n",
    "Free for personal or classroom use; see [`LICENSE.md`](https://github.com/squillero/computational-intelligence/blob/master/LICENSE.md) for details.  "
   ]
  },
  {
   "cell_type": "markdown",
   "metadata": {},
   "source": [
    "Copyright **`(c)`** 2023 Giovanni Squillero `<giovanni.squillero@polito.it>`  \n",
    "[`https://github.com/squillero/computational-intelligence`](https://github.com/squillero/computational-intelligence)  \n",
    "Free for personal or classroom use; see [`LICENSE.md`](https://github.com/squillero/computational-intelligence/blob/master/LICENSE.md) for details.  "
   ]
  },
  {
   "cell_type": "markdown",
   "metadata": {},
   "source": [
    "# LAB9\n",
    "\n",
    "\n",
    "Wrote a local-search algorithm (eg. an EA) able to solve the *Problem* instances 1, 2, 5, and 10 on a 1000-loci genomes, using a minimum number of fitness calls. That's all.\n",
    "\n",
    "### Deadlines:\n",
    "\n",
    "* Submission: Sunday, December 3 ([CET](https://www.timeanddate.com/time/zones/cet))\n",
    "* Reviews: Sunday, December 10 ([CET](https://www.timeanddate.com/time/zones/cet))\n",
    "\n",
    "Notes:\n",
    "\n",
    "* Reviews will be assigned  on Monday, November 27\n",
    "* You need to commit in order to be selected as a reviewer (ie. better to commit an empty work than not to commit)"
   ]
  },
  {
   "cell_type": "code",
   "execution_count": 36,
   "metadata": {},
   "outputs": [],
   "source": [
    "import numpy as np\n",
    "import random\n",
    "from tqdm import tqdm\n",
    "from copy import deepcopy\n",
    "\n",
    "from utils.reproduce_functions import *\n",
    "from utils.mutation_functions import *\n",
    "from utils.parent_selection_functions import *\n",
    "from utils.other_fucntions import *\n",
    "from utils.island_functions import *\n",
    "\n",
    "import lab9_lib"
   ]
  },
  {
   "cell_type": "code",
   "execution_count": 37,
   "metadata": {},
   "outputs": [],
   "source": [
    "PROBLEM_SIZE = 10\n",
    "\n",
    "MU = 5\n",
    "LAMBDA = 15\n",
    "strategy = 'plus' # comma or plus\n",
    "\n",
    "MUTATION_PROB = 0.2\n",
    "DYNAMIC_MUTATION_PROB = True\n",
    "DIVERSITY_THRESHOLD = 20\n",
    "\n",
    "LENGTH_SOLUTION = 1000\n",
    "NUMBER_GENERATIONS = 3000\n",
    "COOLDOWN_TIME = 20\n",
    "\n",
    "NUM_ISLANDS = 100"
   ]
  },
  {
   "cell_type": "code",
   "execution_count": 38,
   "metadata": {},
   "outputs": [],
   "source": [
    "# Function to perform swapping between islands\n",
    "mutate = one_bit_flip\n",
    "reproduce = two_cuts_crossover\n",
    "parent_selection = roulette\n",
    "\n",
    "when_to_swap = fitness_based \n",
    "swap_individuals_between_islands = fitness_based_migration"
   ]
  },
  {
   "cell_type": "code",
   "execution_count": 39,
   "metadata": {},
   "outputs": [],
   "source": [
    "def fitness_proxy(pre_solution, fitness, base, island_ix, pop_history=None):\n",
    "    this_solution = deepcopy(base)\n",
    "    start_by = island_ix * (LENGTH_SOLUTION/NUM_ISLANDS)\n",
    "    start_by = int(start_by)\n",
    "\n",
    "    for i in range(len(pre_solution)):\n",
    "        this_solution[start_by + i] = pre_solution[i]\n",
    "\n",
    "    if pop_history is not None:\n",
    "        new_ind1_eval = pop_history.get(this_solution.tobytes())\n",
    "        if new_ind1_eval == None:\n",
    "            new_ind1_eval = fitness(this_solution)\n",
    "            pop_history[this_solution.tobytes()] = new_ind1_eval\n",
    "    else:\n",
    "        new_ind1_eval = fitness(new_ind1)\n",
    "    \n",
    "    return new_ind1_eval\n",
    "         "
   ]
  },
  {
   "cell_type": "code",
   "execution_count": 40,
   "metadata": {},
   "outputs": [],
   "source": [
    "def ga(fitness, islands, islands_evals, memoization=False, history=None):\n",
    "    if memoization:\n",
    "        pop_history = {}\n",
    "        for i in range(len(islands_evals)):\n",
    "            for j in range(len(islands_evals[i])):\n",
    "                pop_history[islands[i][j].tobytes()] = islands_evals[i][j]\n",
    "\n",
    "    base = generate_random_individual(length=LENGTH_SOLUTION)\n",
    "    best_value = -1 \n",
    "    last_change = 0\n",
    "    \n",
    "    for generation in tqdm(range(NUMBER_GENERATIONS)):\n",
    "        for island_ix, island in enumerate(islands):\n",
    "            parents = island\n",
    "            parents_evals = islands_evals[island_ix]\n",
    "            offsprings = []\n",
    "            offsprings_evals = []\n",
    "\n",
    "            while len(offsprings) < LAMBDA:\n",
    "                \n",
    "                p1, p2 = parent_selection(parents, parents_evals)\n",
    "    \n",
    "                # Reproduce Parents\n",
    "                off_spring = reproduce(p1, p2)\n",
    "                \n",
    "               # Mutate Offspring\n",
    "                if DYNAMIC_MUTATION_PROB:\n",
    "                    p_div = get_parents_diversity(p1, p2)\n",
    "                    new_ind1 = mutate(off_spring, \\\n",
    "                                    mutation_probability=(1 - (min(p_div,LENGTH_SOLUTION/2)/(LENGTH_SOLUTION/2))) )\n",
    "                else:    \n",
    "                    new_ind1 = mutate(off_spring, mutation_probability=MUTATION_PROB)\n",
    "\n",
    "                # Evaluate Offspring\n",
    "                new_ind1_eval = fitness_proxy(new_ind1, fitness, base, island_ix, pop_history)\n",
    "\n",
    "                offsprings.append(new_ind1)\n",
    "                offsprings_evals.append(new_ind1_eval)\n",
    "                if memoization:\n",
    "                    pop_history[new_ind1.tobytes()] = new_ind1_eval\n",
    "\n",
    "            # Create new population (with parents if plus, without if comma)\n",
    "            all_people = (parents if strategy=='plus' else []) + offsprings\n",
    "            all_evals = (parents_evals if strategy=='plus' else []) + offsprings_evals\n",
    "            best_people = np.argsort(all_evals)[::-1]\n",
    "\n",
    "            if history is not None:\n",
    "                history[island_ix].append(np.max(all_evals))\n",
    "\n",
    "            parents = []\n",
    "            parents_evals = []\n",
    "            for i in range(MU):\n",
    "                parents.append(all_people[best_people[i]])\n",
    "                parents_evals.append(all_evals[best_people[i]])\n",
    "            islands[island_ix] = parents\n",
    "            islands_evals[island_ix] = parents_evals\n",
    " \n",
    "\n",
    "        best_eval = max([max(x) for x in history])\n",
    "        if best_eval > best_value:\n",
    "            best_value = best_eval\n",
    "            last_change = generation\n",
    "        elif generation - last_change > COOLDOWN_TIME:\n",
    "            break\n",
    "    \n",
    "    best_ind = []\n",
    "    for i in range(NUM_ISLANDS):\n",
    "        best_island_i = islands[i][ np.argmax(islands_evals[i]) ]\n",
    "        best_ind.append(best_island_i)\n",
    "    \n",
    "    best_ind = np.concatenate(best_ind)\n",
    "    best_ind_eval = fitness(best_ind)\n",
    "    return best_ind, best_ind_eval"
   ]
  },
  {
   "cell_type": "markdown",
   "metadata": {},
   "source": [
    "Without memoization"
   ]
  },
  {
   "cell_type": "code",
   "execution_count": 41,
   "metadata": {},
   "outputs": [
    {
     "data": {
      "text/plain": [
       "'\\nfitness = lab9_lib.make_problem(PROBLEM_SIZE)\\nislands = [ [generate_random_individual(length=LENGTH_SOLUTION) for _ in range(50) ] for _ in range(NUM_ISLANDS) ]\\nislands_evals = [[fitness(x) for x in island] for island in islands ]\\nparents, parents_evals = ga(fitness, islands, islands_evals, memoization=False)\\ni_best = np.argmax(parents_evals)\\nprint(parents[i_best])\\nprint(\"Best score: \", parents_evals[i_best])\\nprint(\"Num fitness calls: \", fitness.calls)\\n'"
      ]
     },
     "execution_count": 41,
     "metadata": {},
     "output_type": "execute_result"
    }
   ],
   "source": [
    "'''\n",
    "fitness = lab9_lib.make_problem(PROBLEM_SIZE)\n",
    "islands = [ [generate_random_individual(length=LENGTH_SOLUTION) for _ in range(50) ] for _ in range(NUM_ISLANDS) ]\n",
    "islands_evals = [[fitness(x) for x in island] for island in islands ]\n",
    "parents, parents_evals = ga(fitness, islands, islands_evals, memoization=False)\n",
    "i_best = np.argmax(parents_evals)\n",
    "print(parents[i_best])\n",
    "print(\"Best score: \", parents_evals[i_best])\n",
    "print(\"Num fitness calls: \", fitness.calls)\n",
    "'''"
   ]
  },
  {
   "cell_type": "markdown",
   "metadata": {},
   "source": [
    "With memoization"
   ]
  },
  {
   "cell_type": "code",
   "execution_count": 42,
   "metadata": {},
   "outputs": [
    {
     "name": "stderr",
     "output_type": "stream",
     "text": [
      "  0%|          | 0/3000 [00:00<?, ?it/s]"
     ]
    },
    {
     "name": "stderr",
     "output_type": "stream",
     "text": [
      "  1%|          | 21/3000 [00:10<23:39,  2.10it/s]\n"
     ]
    },
    {
     "name": "stdout",
     "output_type": "stream",
     "text": [
      "0.795\n",
      "Num fitness calls:  34865\n"
     ]
    },
    {
     "name": "stderr",
     "output_type": "stream",
     "text": [
      "  1%|          | 21/3000 [00:09<22:09,  2.24it/s]\n"
     ]
    },
    {
     "name": "stdout",
     "output_type": "stream",
     "text": [
      "0.7945\n",
      "Num fitness calls:  34795\n"
     ]
    },
    {
     "name": "stderr",
     "output_type": "stream",
     "text": [
      "  1%|          | 21/3000 [00:09<22:26,  2.21it/s]\n"
     ]
    },
    {
     "name": "stdout",
     "output_type": "stream",
     "text": [
      "0.6950000000000001\n",
      "Num fitness calls:  34980\n"
     ]
    },
    {
     "name": "stderr",
     "output_type": "stream",
     "text": [
      "  0%|          | 6/3000 [00:03<26:44,  1.87it/s]\n"
     ]
    },
    {
     "ename": "KeyboardInterrupt",
     "evalue": "",
     "output_type": "error",
     "traceback": [
      "\u001b[1;31m---------------------------------------------------------------------------\u001b[0m",
      "\u001b[1;31mKeyboardInterrupt\u001b[0m                         Traceback (most recent call last)",
      "\u001b[1;32md:\\repositories\\polito\\computational-intelligence\\Laboratories\\Lab9_after_deadline\\lab9_islands_expert.ipynb Cell 12\u001b[0m line \u001b[0;36m9\n\u001b[0;32m      <a href='vscode-notebook-cell:/d%3A/repositories/polito/computational-intelligence/Laboratories/Lab9_after_deadline/lab9_islands_expert.ipynb#X14sZmlsZQ%3D%3D?line=6'>7</a>\u001b[0m islands \u001b[39m=\u001b[39m [ [generate_random_individual(length\u001b[39m=\u001b[39mLENGTH_SOLUTION\u001b[39m/\u001b[39m\u001b[39m/\u001b[39mNUM_ISLANDS) \u001b[39mfor\u001b[39;00m _ \u001b[39min\u001b[39;00m \u001b[39mrange\u001b[39m(\u001b[39m50\u001b[39m) ] \u001b[39mfor\u001b[39;00m _ \u001b[39min\u001b[39;00m \u001b[39mrange\u001b[39m(NUM_ISLANDS) ]\n\u001b[0;32m      <a href='vscode-notebook-cell:/d%3A/repositories/polito/computational-intelligence/Laboratories/Lab9_after_deadline/lab9_islands_expert.ipynb#X14sZmlsZQ%3D%3D?line=7'>8</a>\u001b[0m islands_evals \u001b[39m=\u001b[39m [[fitness(x) \u001b[39mfor\u001b[39;00m x \u001b[39min\u001b[39;00m island] \u001b[39mfor\u001b[39;00m island \u001b[39min\u001b[39;00m islands]\n\u001b[1;32m----> <a href='vscode-notebook-cell:/d%3A/repositories/polito/computational-intelligence/Laboratories/Lab9_after_deadline/lab9_islands_expert.ipynb#X14sZmlsZQ%3D%3D?line=8'>9</a>\u001b[0m parents, parents_evals \u001b[39m=\u001b[39m ga(fitness, islands, islands_evals, memoization\u001b[39m=\u001b[39;49m\u001b[39mTrue\u001b[39;49;00m, history\u001b[39m=\u001b[39;49mhistory)\n\u001b[0;32m     <a href='vscode-notebook-cell:/d%3A/repositories/polito/computational-intelligence/Laboratories/Lab9_after_deadline/lab9_islands_expert.ipynb#X14sZmlsZQ%3D%3D?line=9'>10</a>\u001b[0m \u001b[39mprint\u001b[39m(\u001b[39mmax\u001b[39m([\u001b[39mmax\u001b[39m(x) \u001b[39mfor\u001b[39;00m x \u001b[39min\u001b[39;00m history]))\n\u001b[0;32m     <a href='vscode-notebook-cell:/d%3A/repositories/polito/computational-intelligence/Laboratories/Lab9_after_deadline/lab9_islands_expert.ipynb#X14sZmlsZQ%3D%3D?line=10'>11</a>\u001b[0m \u001b[39m#i_best = np.argmax(parents_evals)\u001b[39;00m\n\u001b[0;32m     <a href='vscode-notebook-cell:/d%3A/repositories/polito/computational-intelligence/Laboratories/Lab9_after_deadline/lab9_islands_expert.ipynb#X14sZmlsZQ%3D%3D?line=11'>12</a>\u001b[0m \u001b[39m#print(parents[i_best])\u001b[39;00m\n\u001b[0;32m     <a href='vscode-notebook-cell:/d%3A/repositories/polito/computational-intelligence/Laboratories/Lab9_after_deadline/lab9_islands_expert.ipynb#X14sZmlsZQ%3D%3D?line=12'>13</a>\u001b[0m \u001b[39m#print(\"Best score: \", parents_evals[i_best])\u001b[39;00m\n",
      "\u001b[1;32md:\\repositories\\polito\\computational-intelligence\\Laboratories\\Lab9_after_deadline\\lab9_islands_expert.ipynb Cell 12\u001b[0m line \u001b[0;36m3\n\u001b[0;32m     <a href='vscode-notebook-cell:/d%3A/repositories/polito/computational-intelligence/Laboratories/Lab9_after_deadline/lab9_islands_expert.ipynb#X14sZmlsZQ%3D%3D?line=31'>32</a>\u001b[0m     new_ind1 \u001b[39m=\u001b[39m mutate(off_spring, mutation_probability\u001b[39m=\u001b[39mMUTATION_PROB)\n\u001b[0;32m     <a href='vscode-notebook-cell:/d%3A/repositories/polito/computational-intelligence/Laboratories/Lab9_after_deadline/lab9_islands_expert.ipynb#X14sZmlsZQ%3D%3D?line=33'>34</a>\u001b[0m \u001b[39m# Evaluate Offspring\u001b[39;00m\n\u001b[1;32m---> <a href='vscode-notebook-cell:/d%3A/repositories/polito/computational-intelligence/Laboratories/Lab9_after_deadline/lab9_islands_expert.ipynb#X14sZmlsZQ%3D%3D?line=34'>35</a>\u001b[0m new_ind1_eval \u001b[39m=\u001b[39m fitness_proxy(new_ind1, fitness, base, island_ix, pop_history)\n\u001b[0;32m     <a href='vscode-notebook-cell:/d%3A/repositories/polito/computational-intelligence/Laboratories/Lab9_after_deadline/lab9_islands_expert.ipynb#X14sZmlsZQ%3D%3D?line=36'>37</a>\u001b[0m offsprings\u001b[39m.\u001b[39mappend(new_ind1)\n\u001b[0;32m     <a href='vscode-notebook-cell:/d%3A/repositories/polito/computational-intelligence/Laboratories/Lab9_after_deadline/lab9_islands_expert.ipynb#X14sZmlsZQ%3D%3D?line=37'>38</a>\u001b[0m offsprings_evals\u001b[39m.\u001b[39mappend(new_ind1_eval)\n",
      "\u001b[1;32md:\\repositories\\polito\\computational-intelligence\\Laboratories\\Lab9_after_deadline\\lab9_islands_expert.ipynb Cell 12\u001b[0m line \u001b[0;36m1\n\u001b[1;32m----> <a href='vscode-notebook-cell:/d%3A/repositories/polito/computational-intelligence/Laboratories/Lab9_after_deadline/lab9_islands_expert.ipynb#X14sZmlsZQ%3D%3D?line=0'>1</a>\u001b[0m \u001b[39mdef\u001b[39;00m \u001b[39mfitness_proxy\u001b[39m(pre_solution, fitness, base, island_ix, pop_history\u001b[39m=\u001b[39m\u001b[39mNone\u001b[39;00m):\n\u001b[0;32m      <a href='vscode-notebook-cell:/d%3A/repositories/polito/computational-intelligence/Laboratories/Lab9_after_deadline/lab9_islands_expert.ipynb#X14sZmlsZQ%3D%3D?line=1'>2</a>\u001b[0m     this_solution \u001b[39m=\u001b[39m deepcopy(base)\n\u001b[0;32m      <a href='vscode-notebook-cell:/d%3A/repositories/polito/computational-intelligence/Laboratories/Lab9_after_deadline/lab9_islands_expert.ipynb#X14sZmlsZQ%3D%3D?line=2'>3</a>\u001b[0m     start_by \u001b[39m=\u001b[39m island_ix \u001b[39m*\u001b[39m (LENGTH_SOLUTION\u001b[39m/\u001b[39mNUM_ISLANDS)\n",
      "\u001b[1;31mKeyboardInterrupt\u001b[0m: "
     ]
    }
   ],
   "source": [
    "fitness_calls = []\n",
    "best_scores = []\n",
    "for i in range(30):\n",
    "    fitness = lab9_lib.make_problem(PROBLEM_SIZE)\n",
    "    \n",
    "    history = [[] for _ in range(NUM_ISLANDS)]\n",
    "    islands = [ [generate_random_individual(length=LENGTH_SOLUTION//NUM_ISLANDS) for _ in range(50) ] for _ in range(NUM_ISLANDS) ]\n",
    "    islands_evals = [[fitness(x) for x in island] for island in islands]\n",
    "    parents, parents_evals = ga(fitness, islands, islands_evals, memoization=True, history=history)\n",
    "    print(max([max(x) for x in history]))\n",
    "    #i_best = np.argmax(parents_evals)\n",
    "    #print(parents[i_best])\n",
    "    #print(\"Best score: \", parents_evals[i_best])\n",
    "    print(\"Num fitness calls: \", fitness.calls)\n",
    "    fitness_calls.append(fitness.calls)\n",
    "    best_scores.append(np.max(history))\n",
    "\n",
    "print(\"average fitness calls: \", np.mean(fitness_calls))\n",
    "print(\"average best score: \", np.mean(best_scores))"
   ]
  }
 ],
 "metadata": {
  "kernelspec": {
   "display_name": "ci-fLJ3OwGs-py3.12",
   "language": "python",
   "name": "python3"
  },
  "language_info": {
   "codemirror_mode": {
    "name": "ipython",
    "version": 3
   },
   "file_extension": ".py",
   "mimetype": "text/x-python",
   "name": "python",
   "nbconvert_exporter": "python",
   "pygments_lexer": "ipython3",
   "version": "3.11.3"
  }
 },
 "nbformat": 4,
 "nbformat_minor": 2
}
