{
 "cells": [
  {
   "cell_type": "code",
   "execution_count": null,
   "metadata": {},
   "outputs": [],
   "source": [
    "import numpy as np\n",
    "import random\n",
    "from tqdm import tqdm\n",
    "from copy import deepcopy\n",
    "\n",
    "from utils.reproduce_functions import *\n",
    "from utils.mutation_functions import *\n",
    "from utils.parent_selection_functions import *\n",
    "from utils.other_fucntions import *\n",
    "\n",
    "import lab9_lib"
   ]
  },
  {
   "cell_type": "code",
   "execution_count": null,
   "metadata": {},
   "outputs": [],
   "source": [
    "PROBLEM_SIZE = 5\n",
    "\n",
    "MU = 15\n",
    "LAMBDA = 30\n",
    "strategy = 'plus' # comma or plus\n",
    "\n",
    "MUTATION_PROB = 0.2\n",
    "DYNAMIC_MUTATION_PROB = True\n",
    "DIVERSITY_THRESHOLD = 20\n",
    "\n",
    "LENGTH_SOLUTION = 1000\n",
    "NUMBER_GENERATIONS = 3_000\n",
    "COOLDOWN_TIME = 100"
   ]
  },
  {
   "cell_type": "code",
   "execution_count": null,
   "metadata": {},
   "outputs": [],
   "source": [
    "mutate = three_bit_flip\n",
    "reproduce = uniform_crossover\n",
    "parent_selection = roulette"
   ]
  },
  {
   "cell_type": "code",
   "execution_count": null,
   "metadata": {},
   "outputs": [],
   "source": [
    "def ga(fitness, parents, parents_evals, memoization=False, history=[]):\n",
    "    generation_convergence = -1\n",
    "\n",
    "    if memoization:\n",
    "        pop_history = {}\n",
    "        for i in range(len(parents)):\n",
    "            pop_history[parents[i].tobytes()] = parents_evals[i]\n",
    "\n",
    "    best_value = -1 \n",
    "    last_change = -1\n",
    "    \n",
    "    for generation in tqdm(range(NUMBER_GENERATIONS)):\n",
    "        offsprings = []\n",
    "        offsprings_evals = []\n",
    "        while len(offsprings) < LAMBDA:\n",
    "            # Parent Selection\n",
    "            p1, p2 = parent_selection(parents, parents_evals)\n",
    "\n",
    "            # Reproduce Parents\n",
    "            off_spring = reproduce(p1, p2)\n",
    "\n",
    "            # Mutate Offspring\n",
    "            if DYNAMIC_MUTATION_PROB:\n",
    "                p_div = get_parents_diversity(p1, p2)\n",
    "                new_ind1 = mutate(off_spring, \\\n",
    "                                  mutation_probability=(1 - (min(p_div,LENGTH_SOLUTION/2)/(LENGTH_SOLUTION/2))) )\n",
    "            else:    \n",
    "                new_ind1 = mutate(off_spring, mutation_probability=MUTATION_PROB)\n",
    "\n",
    "            # Evaluate Offspring\n",
    "            if memoization:\n",
    "                new_ind1_eval = pop_history.get(new_ind1.tobytes())\n",
    "                if new_ind1_eval == None:\n",
    "                    new_ind1_eval = fitness(new_ind1)\n",
    "                    pop_history[new_ind1.tobytes()] = new_ind1_eval\n",
    "            else:\n",
    "                new_ind1_eval = fitness(new_ind1)\n",
    "\n",
    "            # Add it to new population\n",
    "            offsprings.append(new_ind1)\n",
    "            offsprings_evals.append(new_ind1_eval)\n",
    "\n",
    "        # Create new population (with parents if plus, without if comma)\n",
    "        all_people = (parents if strategy=='plus' else []) + offsprings\n",
    "        all_evals = (parents_evals if strategy=='plus' else []) + offsprings_evals\n",
    "        best_people = np.argsort(all_evals)[::-1]\n",
    "\n",
    "        best_eval = all_evals[best_people[0]]\n",
    "        history.append(best_eval)\n",
    "        if best_eval > best_value:\n",
    "            best_value = best_eval\n",
    "            last_change = generation\n",
    "        elif generation - last_change > COOLDOWN_TIME:\n",
    "            break\n",
    "\n",
    "        parents = []\n",
    "        parents_evals = []\n",
    "        for i in range(MU):\n",
    "            parents.append(all_people[best_people[i]])\n",
    "            parents_evals.append(all_evals[best_people[i]])\n",
    "            \n",
    "        if np.max(parents_evals) - 1.0 >= 0 and generation_convergence == -1:\n",
    "            generation_convergence = generation, fitness.calls\n",
    "\n",
    "    return parents, parents_evals, generation_convergence"
   ]
  },
  {
   "cell_type": "markdown",
   "metadata": {},
   "source": [
    "Without memoization"
   ]
  },
  {
   "cell_type": "code",
   "execution_count": null,
   "metadata": {},
   "outputs": [],
   "source": [
    "'''\n",
    "fitness = lab9_lib.make_problem(PROBLEM_SIZE)\n",
    "history = []\n",
    "parents = [generate_random_individual(length=LENGTH_SOLUTION) for _ in range(MU)]\n",
    "parents_evals = [fitness(x) for x in parents]\n",
    "parents, parents_evals, gc = ga(fitness, parents, parents_evals, memoization=False, history=history)\n",
    "i_best = np.argmax(parents_evals)\n",
    "# print(parents[i_best])\n",
    "print(\"Best score: \", parents_evals[i_best])\n",
    "print(\"Num fitness calls: \", fitness.calls)\n",
    "print(\"Generation, NumCalls @ fitness=1.0 : \", gc)\n",
    "'''"
   ]
  },
  {
   "cell_type": "code",
   "execution_count": null,
   "metadata": {},
   "outputs": [],
   "source": [
    "# fitness = lab9_lib.make_problem(PROBLEM_SIZE)\n",
    "# history = []\n",
    "# parents = [generate_random_individual(length=LENGTH_SOLUTION) for _ in range(MU)]\n",
    "# parents_evals = [fitness(x) for x in parents]\n",
    "# parents, parents_evals, gc = ga(fitness, parents, parents_evals, memoization=False, history=history)\n",
    "# i_best = np.argmax(parents_evals)\n",
    "# # print(parents[i_best])\n",
    "# print(\"Best score: \", parents_evals[i_best])\n",
    "# print(\"Num fitness calls: \", fitness.calls)\n",
    "# print(\"Generation, NumCalls @ fitness=1.0 : \", gc)\n",
    "\n",
    "#import matplotlib.pyplot as plt\n",
    "\n",
    "#plt.plot(history)\n",
    "#plt.xlabel('Generation')\n",
    "#plt.ylabel('Fitness')\n",
    "#plt.show()"
   ]
  },
  {
   "cell_type": "markdown",
   "metadata": {},
   "source": [
    "With memoization"
   ]
  },
  {
   "cell_type": "code",
   "execution_count": null,
   "metadata": {},
   "outputs": [],
   "source": [
    "fitness_calls = []\n",
    "best_scores = []\n",
    "for i in range(10):\n",
    "    fitness = lab9_lib.make_problem(PROBLEM_SIZE)\n",
    "    history = []\n",
    "    parents = [generate_random_individual(length=LENGTH_SOLUTION) for _ in range(50)]\n",
    "    parents_evals = [fitness(x) for x in parents]\n",
    "    parents, parents_evals, gc = ga(fitness, parents, parents_evals, memoization=True, history=history)\n",
    "    #i_best = np.argmax(history)\n",
    "    # print(parents[i_best])\n",
    "    #print(\"Best score: \", np.max(history))\n",
    "    #print(\"Num fitness calls: \", fitness.calls)\n",
    "    #print(\"Generation, NumCalls @ fitness=1.0 : \", gc)\n",
    "    fitness_calls.append(fitness.calls)\n",
    "    best_scores.append(np.max(history))\n",
    "\n",
    "print(\"average fitness calls: \", np.mean(fitness_calls))\n",
    "print(\"average best score: \", np.mean(best_scores))\n"
   ]
  },
  {
   "cell_type": "code",
   "execution_count": null,
   "metadata": {},
   "outputs": [],
   "source": [
    "# plot history\n",
    "\n",
    "# plot history\n",
    "import matplotlib.pyplot as plt\n",
    "\n",
    "plt.plot(history)\n",
    "plt.xlabel('Generation')\n",
    "plt.ylabel('Fitness')\n",
    "plt.show()"
   ]
  }
 ],
 "metadata": {
  "kernelspec": {
   "display_name": "Python 3",
   "language": "python",
   "name": "python3"
  },
  "language_info": {
   "codemirror_mode": {
    "name": "ipython",
    "version": 3
   },
   "file_extension": ".py",
   "mimetype": "text/x-python",
   "name": "python",
   "nbconvert_exporter": "python",
   "pygments_lexer": "ipython3",
   "version": "3.9.7"
  }
 },
 "nbformat": 4,
 "nbformat_minor": 2
}
