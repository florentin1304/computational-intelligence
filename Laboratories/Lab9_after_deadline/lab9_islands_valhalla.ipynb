{
 "cells": [
  {
   "cell_type": "code",
   "execution_count": 1,
   "metadata": {},
   "outputs": [],
   "source": [
    "import numpy as np\n",
    "import random\n",
    "from tqdm import tqdm\n",
    "from copy import deepcopy\n",
    "\n",
    "from utils.reproduce_functions import *\n",
    "from utils.mutation_functions import *\n",
    "from utils.parent_selection_functions import *\n",
    "from utils.other_fucntions import *\n",
    "from utils.valhalla_functions import *\n",
    "from utils.island_functions import *\n",
    "\n",
    "import lab9_lib"
   ]
  },
  {
   "cell_type": "code",
   "execution_count": 2,
   "metadata": {},
   "outputs": [],
   "source": [
    "PROBLEM_SIZE = 10\n",
    "\n",
    "MU = 15\n",
    "LAMBDA = 30\n",
    "strategy = 'plus' # comma or plus\n",
    "\n",
    "MUTATION_PROB = 0.2\n",
    "DYNAMIC_MUTATION_PROB = True\n",
    "DIVERSITY_THRESHOLD = 20\n",
    "\n",
    "LENGTH_SOLUTION = 1000\n",
    "NUMBER_GENERATIONS = 3000\n",
    "\n",
    "EPOCH = 10              # Number of generation to reintroduce the best fitting\n",
    "N_CHAMPIONS = 30        # Number of champions that will rest in the Valhalla\n",
    "NUM_ISLANDS = 5                       # Number of different populations\n",
    "N_MIGRANTS = 5                      # Number of migrants from one island\n",
    "\n",
    "COOLDOWN_TIME = 100"
   ]
  },
  {
   "cell_type": "code",
   "execution_count": 3,
   "metadata": {},
   "outputs": [],
   "source": [
    "mutate = one_bit_flip\n",
    "reproduce = two_cuts_crossover\n",
    "parent_selection = roulette\n",
    "when_to_pick = fixed_generations\n",
    "when_load_valhalla = fixed_generations\n",
    "\n",
    "when_to_swap = fitness_based \n",
    "swap_individuals_between_islands = random_swap"
   ]
  },
  {
   "cell_type": "code",
   "execution_count": 4,
   "metadata": {},
   "outputs": [],
   "source": [
    "def ga(fitness, islands, islands_evals, memoization=False, history=None):\n",
    "    generation_convergence = -1\n",
    "    valhalla = []\n",
    "    valhalla_evals = [] \n",
    "    \n",
    "    best_value = -1 \n",
    "    last_change = 0\n",
    "    \n",
    "    if memoization:\n",
    "        pop_history = {}\n",
    "        for i in range(len(islands_evals)):\n",
    "            for j in range(len(islands_evals[i])):\n",
    "                pop_history[islands[i][j].tobytes()] = islands_evals[i][j]\n",
    "\n",
    "    for generation in tqdm(range(NUMBER_GENERATIONS)):\n",
    "        for island_ix, island in enumerate(islands):\n",
    "            parents = island\n",
    "            parents_evals = islands_evals[island_ix]\n",
    "            offsprings = []\n",
    "            offsprings_evals = []\n",
    "            while len(offsprings) < LAMBDA:\n",
    "                # Parent Selection\n",
    "                p1, p2 = parent_selection(parents, parents_evals)\n",
    "\n",
    "                # Reproduce Parents\n",
    "                off_spring = reproduce(p1, p2)\n",
    "\n",
    "                # Mutate Offspring\n",
    "                if DYNAMIC_MUTATION_PROB:\n",
    "                    p_div = get_parents_diversity(p1, p2)\n",
    "                    new_ind1 = mutate(off_spring, \\\n",
    "                                    mutation_probability=(1 - (min(p_div,LENGTH_SOLUTION/2)/(LENGTH_SOLUTION/2))) )\n",
    "                else:    \n",
    "                    new_ind1 = mutate(off_spring, mutation_probability=MUTATION_PROB)\n",
    "\n",
    "                # Evaluate Offspring\n",
    "                if memoization:\n",
    "                    new_ind1_eval = pop_history.get(new_ind1.tobytes())\n",
    "                    if new_ind1_eval == None:\n",
    "                        new_ind1_eval = fitness(new_ind1)\n",
    "                        pop_history[new_ind1.tobytes()] = new_ind1_eval\n",
    "                else:\n",
    "                    new_ind1_eval = fitness(new_ind1)\n",
    "\n",
    "                # Add it to new population\n",
    "                offsprings.append(new_ind1)\n",
    "                offsprings_evals.append(new_ind1_eval)\n",
    "\n",
    "\n",
    "            # Create new population (with parents if plus, without if comma)\n",
    "            all_people = (parents if strategy=='plus' else []) + offsprings\n",
    "            all_evals = (parents_evals if strategy=='plus' else []) + offsprings_evals\n",
    "            best_people = np.argsort(all_evals)[::-1]\n",
    "\n",
    "            if history is not None:\n",
    "                history[island_ix].append(np.max(all_evals))\n",
    "\n",
    "            parents = []\n",
    "            parents_evals = []\n",
    "            for i in range(MU):\n",
    "                parents.append(all_people[best_people[i]])\n",
    "                parents_evals.append(all_evals[best_people[i]])\n",
    "            islands[island_ix] = parents\n",
    "            islands_evals[island_ix] = parents_evals\n",
    "            \n",
    "            if np.max(parents_evals) - 1.0 >= 0 and generation_convergence == -1:\n",
    "                generation_convergence = generation, fitness.calls\n",
    "\n",
    "        best_eval = max([max(x) for x in history])\n",
    "        if best_eval > best_value:\n",
    "            best_value = best_eval\n",
    "            last_change = generation\n",
    "        elif generation - last_change > COOLDOWN_TIME:\n",
    "            break\n",
    "\n",
    "        \n",
    "        if when_to_pick(generation, 25):\n",
    "            for island_ix, island in enumerate(islands):\n",
    "                population = island\n",
    "                population_evals = islands_evals[island_ix]\n",
    "                \n",
    "                max_index = np.argmax(population_evals)\n",
    "                min_valhalla = np.min(valhalla_evals) if len(valhalla) > 0 else -1\n",
    "                if population_evals[max_index] > min_valhalla:\n",
    "                    best_individual = population.pop(max_index)\n",
    "                    best_ind_eval = population_evals.pop(max_index)\n",
    "\n",
    "                    valhalla.append(best_individual)\n",
    "                    valhalla_evals.append(best_ind_eval)\n",
    "            \n",
    "            # if valhalla too big, empty it by migrating to islands\n",
    "            while (len(valhalla)) > N_CHAMPIONS:\n",
    "                champ_idx = np.random.randint(0, len(valhalla))\n",
    "                champ = valhalla.pop(champ_idx)\n",
    "                champ_eval = valhalla_evals.pop(champ_idx)\n",
    "\n",
    "                island_idx = np.random.randint(len(islands))\n",
    "                islands[island_idx].append(champ)\n",
    "                islands_evals[island_idx].append(champ_eval)\n",
    "\n",
    "\n",
    "\n",
    "        # if when_to_swap(generation, 10):\n",
    "        #     # swap_individuals_between_islands(islands, islands_evals)\n",
    "        #     swap_individuals_between_islands(islands)\n",
    "\n",
    "\n",
    "        if when_to_swap(islands_evals):\n",
    "            # swap_individuals_between_islands(islands, islands_evals)\n",
    "            swap_individuals_between_islands(islands)\n",
    "            \n",
    "            # offsprings = np.array(offsprings)\n",
    "            # offsprings_evals = np.array(offsprings_evals)\n",
    "            # champions = offsprings[np.argsort(offsprings_evals)[-N_CHAMPIONS:]]\n",
    "            # start = (((generation - 1) % EPOCH) // 10) * N_CHAMPIONS\n",
    "            # end = (((generation - 1) % EPOCH) // 10) * N_CHAMPIONS + N_CHAMPIONS\n",
    "            # valhalla[start:end, :] = offsprings[np.argsort(offsprings_evals)[-N_CHAMPIONS:]]\n",
    "            # valhalla_evals[start:end] = offsprings_evals[np.argsort(offsprings_evals)[-N_CHAMPIONS:]]\n",
    "\n",
    "        # if when_load_valhalla(generation, EPOCH):\n",
    "        #     parents = list(np.concatenate((parents, valhalla)))\n",
    "        #     parents_evals = list(np.concatenate((parents_evals, valhalla_evals)))\n",
    "            # # Introduce some randomicity in order to inject champions from time to time.\n",
    "            # if random.random() < 0.8:\n",
    "            #     parents = np.concatenate((parents, random.choices(valhalla, k = 4)))\n",
    "\n",
    "\n",
    "    return islands, islands_evals, valhalla, valhalla_evals"
   ]
  },
  {
   "cell_type": "code",
   "execution_count": 5,
   "metadata": {},
   "outputs": [
    {
     "name": "stderr",
     "output_type": "stream",
     "text": [
      "  0%|          | 0/3000 [00:00<?, ?it/s]"
     ]
    },
    {
     "name": "stderr",
     "output_type": "stream",
     "text": [
      "  5%|▌         | 152/3000 [00:06<02:03, 23.14it/s]\n"
     ]
    },
    {
     "name": "stdout",
     "output_type": "stream",
     "text": [
      "Best score:  0.3183476\n",
      "Num fitness calls:  23194\n"
     ]
    },
    {
     "name": "stderr",
     "output_type": "stream",
     "text": [
      "  7%|▋         | 213/3000 [00:10<02:22, 19.60it/s]\n"
     ]
    },
    {
     "name": "stdout",
     "output_type": "stream",
     "text": [
      "Best score:  0.365477\n",
      "Num fitness calls:  32343\n"
     ]
    },
    {
     "name": "stderr",
     "output_type": "stream",
     "text": [
      "  8%|▊         | 240/3000 [00:10<01:59, 23.14it/s]\n"
     ]
    },
    {
     "name": "stdout",
     "output_type": "stream",
     "text": [
      "Best score:  0.3183687\n",
      "Num fitness calls:  36383\n"
     ]
    },
    {
     "name": "stderr",
     "output_type": "stream",
     "text": [
      "  4%|▍         | 130/3000 [00:06<02:15, 21.23it/s]\n"
     ]
    },
    {
     "name": "stdout",
     "output_type": "stream",
     "text": [
      "Best score:  0.31815839999999995\n",
      "Num fitness calls:  19894\n"
     ]
    },
    {
     "name": "stderr",
     "output_type": "stream",
     "text": [
      " 16%|█▌        | 480/3000 [00:19<01:40, 25.09it/s]\n"
     ]
    },
    {
     "name": "stdout",
     "output_type": "stream",
     "text": [
      "Best score:  0.44265\n",
      "Num fitness calls:  72369\n"
     ]
    },
    {
     "name": "stderr",
     "output_type": "stream",
     "text": [
      "  8%|▊         | 254/3000 [00:09<01:47, 25.52it/s]\n"
     ]
    },
    {
     "name": "stdout",
     "output_type": "stream",
     "text": [
      "Best score:  0.386343\n",
      "Num fitness calls:  38485\n"
     ]
    },
    {
     "name": "stderr",
     "output_type": "stream",
     "text": [
      "  6%|▋         | 191/3000 [00:07<01:51, 25.17it/s]\n"
     ]
    },
    {
     "name": "stdout",
     "output_type": "stream",
     "text": [
      "Best score:  0.3007933\n",
      "Num fitness calls:  29043\n"
     ]
    },
    {
     "name": "stderr",
     "output_type": "stream",
     "text": [
      "  4%|▍         | 119/3000 [00:04<01:53, 25.42it/s]\n"
     ]
    },
    {
     "name": "stdout",
     "output_type": "stream",
     "text": [
      "Best score:  0.3183362\n",
      "Num fitness calls:  18244\n"
     ]
    },
    {
     "name": "stderr",
     "output_type": "stream",
     "text": [
      "  6%|▌         | 178/3000 [00:07<01:51, 25.41it/s]\n"
     ]
    },
    {
     "name": "stdout",
     "output_type": "stream",
     "text": [
      "Best score:  0.3476898\n",
      "Num fitness calls:  27088\n"
     ]
    },
    {
     "name": "stderr",
     "output_type": "stream",
     "text": [
      "  5%|▍         | 139/3000 [00:05<02:00, 23.67it/s]\n"
     ]
    },
    {
     "name": "stdout",
     "output_type": "stream",
     "text": [
      "Best score:  0.312347\n",
      "Num fitness calls:  21244\n"
     ]
    },
    {
     "name": "stderr",
     "output_type": "stream",
     "text": [
      "  8%|▊         | 240/3000 [00:11<02:14, 20.50it/s]\n"
     ]
    },
    {
     "name": "stdout",
     "output_type": "stream",
     "text": [
      "Best score:  0.3242806\n",
      "Num fitness calls:  36389\n"
     ]
    },
    {
     "name": "stderr",
     "output_type": "stream",
     "text": [
      "  8%|▊         | 228/3000 [00:09<02:01, 22.87it/s]\n"
     ]
    },
    {
     "name": "stdout",
     "output_type": "stream",
     "text": [
      "Best score:  0.3241909\n",
      "Num fitness calls:  34581\n"
     ]
    },
    {
     "name": "stderr",
     "output_type": "stream",
     "text": [
      "  8%|▊         | 239/3000 [00:09<01:49, 25.12it/s]\n"
     ]
    },
    {
     "name": "stdout",
     "output_type": "stream",
     "text": [
      "Best score:  0.3302577\n",
      "Num fitness calls:  36233\n"
     ]
    },
    {
     "name": "stderr",
     "output_type": "stream",
     "text": [
      " 10%|▉         | 290/3000 [00:11<01:45, 25.61it/s]\n"
     ]
    },
    {
     "name": "stdout",
     "output_type": "stream",
     "text": [
      "Best score:  0.37234100000000003\n",
      "Num fitness calls:  43882\n"
     ]
    },
    {
     "name": "stderr",
     "output_type": "stream",
     "text": [
      "  5%|▌         | 153/3000 [00:06<02:01, 23.49it/s]\n"
     ]
    },
    {
     "name": "stdout",
     "output_type": "stream",
     "text": [
      "Best score:  0.372475\n",
      "Num fitness calls:  23340\n"
     ]
    },
    {
     "name": "stderr",
     "output_type": "stream",
     "text": [
      "  6%|▌         | 174/3000 [00:07<02:01, 23.30it/s]\n"
     ]
    },
    {
     "name": "stdout",
     "output_type": "stream",
     "text": [
      "Best score:  0.29933684\n",
      "Num fitness calls:  26486\n"
     ]
    },
    {
     "name": "stderr",
     "output_type": "stream",
     "text": [
      " 14%|█▍        | 429/3000 [00:18<01:49, 23.53it/s]\n"
     ]
    },
    {
     "name": "stdout",
     "output_type": "stream",
     "text": [
      "Best score:  0.39301200000000003\n",
      "Num fitness calls:  64709\n"
     ]
    },
    {
     "name": "stderr",
     "output_type": "stream",
     "text": [
      "  4%|▍         | 119/3000 [00:05<02:09, 22.29it/s]\n"
     ]
    },
    {
     "name": "stdout",
     "output_type": "stream",
     "text": [
      "Best score:  0.3240474\n",
      "Num fitness calls:  18244\n"
     ]
    },
    {
     "name": "stderr",
     "output_type": "stream",
     "text": [
      " 11%|█▏        | 339/3000 [00:16<02:06, 21.09it/s]\n"
     ]
    },
    {
     "name": "stdout",
     "output_type": "stream",
     "text": [
      "Best score:  0.41845\n",
      "Num fitness calls:  51225\n"
     ]
    },
    {
     "name": "stderr",
     "output_type": "stream",
     "text": [
      " 11%|█         | 323/3000 [00:15<02:07, 20.98it/s]\n"
     ]
    },
    {
     "name": "stdout",
     "output_type": "stream",
     "text": [
      "Best score:  0.379131\n",
      "Num fitness calls:  48837\n"
     ]
    },
    {
     "name": "stderr",
     "output_type": "stream",
     "text": [
      "  6%|▌         | 184/3000 [00:08<02:15, 20.85it/s]\n"
     ]
    },
    {
     "name": "stdout",
     "output_type": "stream",
     "text": [
      "Best score:  0.2949042\n",
      "Num fitness calls:  27993\n"
     ]
    },
    {
     "name": "stderr",
     "output_type": "stream",
     "text": [
      " 10%|█         | 308/3000 [00:12<01:45, 25.64it/s]\n"
     ]
    },
    {
     "name": "stdout",
     "output_type": "stream",
     "text": [
      "Best score:  0.365351\n",
      "Num fitness calls:  46582\n"
     ]
    },
    {
     "name": "stderr",
     "output_type": "stream",
     "text": [
      "  9%|▊         | 260/3000 [00:10<01:49, 25.03it/s]\n"
     ]
    },
    {
     "name": "stdout",
     "output_type": "stream",
     "text": [
      "Best score:  0.3241483\n",
      "Num fitness calls:  39386\n"
     ]
    },
    {
     "name": "stderr",
     "output_type": "stream",
     "text": [
      " 14%|█▍        | 430/3000 [00:19<01:59, 21.52it/s]\n"
     ]
    },
    {
     "name": "stdout",
     "output_type": "stream",
     "text": [
      "Best score:  0.36547199999999996\n",
      "Num fitness calls:  64885\n"
     ]
    },
    {
     "name": "stderr",
     "output_type": "stream",
     "text": [
      "  7%|▋         | 222/3000 [00:09<01:59, 23.19it/s]\n"
     ]
    },
    {
     "name": "stdout",
     "output_type": "stream",
     "text": [
      "Best score:  0.3420066\n",
      "Num fitness calls:  33686\n"
     ]
    },
    {
     "name": "stderr",
     "output_type": "stream",
     "text": [
      "  5%|▌         | 156/3000 [00:07<02:16, 20.91it/s]\n"
     ]
    },
    {
     "name": "stdout",
     "output_type": "stream",
     "text": [
      "Best score:  0.32418990000000003\n",
      "Num fitness calls:  23793\n"
     ]
    },
    {
     "name": "stderr",
     "output_type": "stream",
     "text": [
      "  7%|▋         | 199/3000 [00:08<02:03, 22.60it/s]\n"
     ]
    },
    {
     "name": "stdout",
     "output_type": "stream",
     "text": [
      "Best score:  0.3006929\n",
      "Num fitness calls:  30239\n"
     ]
    },
    {
     "name": "stderr",
     "output_type": "stream",
     "text": [
      "  7%|▋         | 197/3000 [00:09<02:08, 21.84it/s]\n"
     ]
    },
    {
     "name": "stdout",
     "output_type": "stream",
     "text": [
      "Best score:  0.3123475\n",
      "Num fitness calls:  29929\n"
     ]
    },
    {
     "name": "stderr",
     "output_type": "stream",
     "text": [
      "  6%|▌         | 180/3000 [00:08<02:15, 20.89it/s]\n"
     ]
    },
    {
     "name": "stdout",
     "output_type": "stream",
     "text": [
      "Best score:  0.351464\n",
      "Num fitness calls:  27392\n"
     ]
    },
    {
     "name": "stderr",
     "output_type": "stream",
     "text": [
      "  5%|▌         | 151/3000 [00:07<02:28, 19.18it/s]\n"
     ]
    },
    {
     "name": "stdout",
     "output_type": "stream",
     "text": [
      "Best score:  0.344591\n",
      "Num fitness calls:  23045\n"
     ]
    },
    {
     "name": "stderr",
     "output_type": "stream",
     "text": [
      "  5%|▌         | 162/3000 [00:07<02:14, 21.16it/s]\n"
     ]
    },
    {
     "name": "stdout",
     "output_type": "stream",
     "text": [
      "Best score:  0.3420368\n",
      "Num fitness calls:  24695\n"
     ]
    },
    {
     "name": "stderr",
     "output_type": "stream",
     "text": [
      "  7%|▋         | 196/3000 [00:09<02:10, 21.55it/s]\n"
     ]
    },
    {
     "name": "stdout",
     "output_type": "stream",
     "text": [
      "Best score:  0.365674\n",
      "Num fitness calls:  29789\n"
     ]
    },
    {
     "name": "stderr",
     "output_type": "stream",
     "text": [
      "  9%|▉         | 274/3000 [00:11<01:56, 23.32it/s]\n"
     ]
    },
    {
     "name": "stdout",
     "output_type": "stream",
     "text": [
      "Best score:  0.379817\n",
      "Num fitness calls:  41480\n"
     ]
    },
    {
     "name": "stderr",
     "output_type": "stream",
     "text": [
      " 12%|█▏        | 371/3000 [00:15<01:52, 23.37it/s]\n"
     ]
    },
    {
     "name": "stdout",
     "output_type": "stream",
     "text": [
      "Best score:  0.3363473\n",
      "Num fitness calls:  56028\n"
     ]
    },
    {
     "name": "stderr",
     "output_type": "stream",
     "text": [
      "  6%|▌         | 182/3000 [00:07<01:59, 23.60it/s]\n"
     ]
    },
    {
     "name": "stdout",
     "output_type": "stream",
     "text": [
      "Best score:  0.3241147\n",
      "Num fitness calls:  27695\n"
     ]
    },
    {
     "name": "stderr",
     "output_type": "stream",
     "text": [
      "  6%|▋         | 194/3000 [00:08<02:00, 23.37it/s]\n"
     ]
    },
    {
     "name": "stdout",
     "output_type": "stream",
     "text": [
      "Best score:  0.358464\n",
      "Num fitness calls:  29490\n"
     ]
    },
    {
     "name": "stderr",
     "output_type": "stream",
     "text": [
      "  6%|▋         | 188/3000 [00:07<01:58, 23.83it/s]\n"
     ]
    },
    {
     "name": "stdout",
     "output_type": "stream",
     "text": [
      "Best score:  0.31814749999999997\n",
      "Num fitness calls:  28595\n"
     ]
    },
    {
     "name": "stderr",
     "output_type": "stream",
     "text": [
      "  8%|▊         | 227/3000 [00:09<01:57, 23.55it/s]\n"
     ]
    },
    {
     "name": "stdout",
     "output_type": "stream",
     "text": [
      "Best score:  0.37928300000000004\n",
      "Num fitness calls:  34433\n"
     ]
    },
    {
     "name": "stderr",
     "output_type": "stream",
     "text": [
      "  4%|▍         | 115/3000 [00:04<02:03, 23.43it/s]\n"
     ]
    },
    {
     "name": "stdout",
     "output_type": "stream",
     "text": [
      "Best score:  0.3182353\n",
      "Num fitness calls:  17647\n"
     ]
    },
    {
     "name": "stderr",
     "output_type": "stream",
     "text": [
      " 13%|█▎        | 384/3000 [00:16<01:51, 23.37it/s]\n"
     ]
    },
    {
     "name": "stdout",
     "output_type": "stream",
     "text": [
      "Best score:  0.386106\n",
      "Num fitness calls:  57981\n"
     ]
    },
    {
     "name": "stderr",
     "output_type": "stream",
     "text": [
      "  5%|▌         | 161/3000 [00:06<01:59, 23.85it/s]\n"
     ]
    },
    {
     "name": "stdout",
     "output_type": "stream",
     "text": [
      "Best score:  0.28880272\n",
      "Num fitness calls:  24543\n"
     ]
    },
    {
     "name": "stderr",
     "output_type": "stream",
     "text": [
      " 13%|█▎        | 379/3000 [00:15<01:49, 23.95it/s]\n"
     ]
    },
    {
     "name": "stdout",
     "output_type": "stream",
     "text": [
      "Best score:  0.41843\n",
      "Num fitness calls:  57226\n"
     ]
    },
    {
     "name": "stderr",
     "output_type": "stream",
     "text": [
      "  4%|▍         | 113/3000 [00:04<01:57, 24.49it/s]\n"
     ]
    },
    {
     "name": "stdout",
     "output_type": "stream",
     "text": [
      "Best score:  0.30644740000000004\n",
      "Num fitness calls:  17346\n"
     ]
    },
    {
     "name": "stderr",
     "output_type": "stream",
     "text": [
      "  4%|▍         | 123/3000 [00:05<02:02, 23.56it/s]\n"
     ]
    },
    {
     "name": "stdout",
     "output_type": "stream",
     "text": [
      "Best score:  0.35183800000000004\n",
      "Num fitness calls:  18845\n"
     ]
    },
    {
     "name": "stderr",
     "output_type": "stream",
     "text": [
      "  9%|▊         | 261/3000 [00:11<01:59, 23.01it/s]\n"
     ]
    },
    {
     "name": "stdout",
     "output_type": "stream",
     "text": [
      "Best score:  0.3358135\n",
      "Num fitness calls:  39530\n"
     ]
    },
    {
     "name": "stderr",
     "output_type": "stream",
     "text": [
      "  8%|▊         | 247/3000 [00:10<01:53, 24.19it/s]\n"
     ]
    },
    {
     "name": "stdout",
     "output_type": "stream",
     "text": [
      "Best score:  0.40277999999999997\n",
      "Num fitness calls:  37435\n"
     ]
    },
    {
     "name": "stderr",
     "output_type": "stream",
     "text": [
      " 13%|█▎        | 383/3000 [00:15<01:49, 23.95it/s]\n"
     ]
    },
    {
     "name": "stdout",
     "output_type": "stream",
     "text": [
      "Best score:  0.365784\n",
      "Num fitness calls:  57827\n"
     ]
    },
    {
     "name": "stderr",
     "output_type": "stream",
     "text": [
      " 17%|█▋        | 509/3000 [00:20<01:42, 24.29it/s]\n"
     ]
    },
    {
     "name": "stdout",
     "output_type": "stream",
     "text": [
      "Best score:  0.372575\n",
      "Num fitness calls:  76718\n"
     ]
    },
    {
     "name": "stderr",
     "output_type": "stream",
     "text": [
      "  6%|▋         | 193/3000 [00:07<01:55, 24.24it/s]\n"
     ]
    },
    {
     "name": "stdout",
     "output_type": "stream",
     "text": [
      "Best score:  0.358709\n",
      "Num fitness calls:  29339\n"
     ]
    },
    {
     "name": "stderr",
     "output_type": "stream",
     "text": [
      "  7%|▋         | 210/3000 [00:08<01:58, 23.53it/s]\n"
     ]
    },
    {
     "name": "stdout",
     "output_type": "stream",
     "text": [
      "Best score:  0.3300248\n",
      "Num fitness calls:  31884\n"
     ]
    },
    {
     "name": "stderr",
     "output_type": "stream",
     "text": [
      "  7%|▋         | 197/3000 [00:08<01:56, 23.98it/s]\n"
     ]
    },
    {
     "name": "stdout",
     "output_type": "stream",
     "text": [
      "Best score:  0.3182411\n",
      "Num fitness calls:  29933\n"
     ]
    },
    {
     "name": "stderr",
     "output_type": "stream",
     "text": [
      " 10%|█         | 304/3000 [00:16<02:25, 18.54it/s]\n"
     ]
    },
    {
     "name": "stdout",
     "output_type": "stream",
     "text": [
      "Best score:  0.37271\n",
      "Num fitness calls:  45990\n"
     ]
    },
    {
     "name": "stderr",
     "output_type": "stream",
     "text": [
      "  8%|▊         | 245/3000 [00:13<02:33, 17.90it/s]\n"
     ]
    },
    {
     "name": "stdout",
     "output_type": "stream",
     "text": [
      "Best score:  0.358354\n",
      "Num fitness calls:  37140\n"
     ]
    },
    {
     "name": "stderr",
     "output_type": "stream",
     "text": [
      "  7%|▋         | 218/3000 [00:15<03:20, 13.86it/s]\n"
     ]
    },
    {
     "name": "stdout",
     "output_type": "stream",
     "text": [
      "Best score:  0.28945785\n",
      "Num fitness calls:  33088\n"
     ]
    },
    {
     "name": "stderr",
     "output_type": "stream",
     "text": [
      "  5%|▍         | 144/3000 [00:10<03:29, 13.63it/s]\n"
     ]
    },
    {
     "name": "stdout",
     "output_type": "stream",
     "text": [
      "Best score:  0.351676\n",
      "Num fitness calls:  21998\n"
     ]
    },
    {
     "name": "stderr",
     "output_type": "stream",
     "text": [
      " 10%|█         | 300/3000 [00:17<02:39, 16.88it/s]\n"
     ]
    },
    {
     "name": "stdout",
     "output_type": "stream",
     "text": [
      "Best score:  0.365362\n",
      "Num fitness calls:  45381\n"
     ]
    },
    {
     "name": "stderr",
     "output_type": "stream",
     "text": [
      "  8%|▊         | 235/3000 [00:14<02:48, 16.43it/s]\n"
     ]
    },
    {
     "name": "stdout",
     "output_type": "stream",
     "text": [
      "Best score:  0.36551\n",
      "Num fitness calls:  35633\n"
     ]
    },
    {
     "name": "stderr",
     "output_type": "stream",
     "text": [
      "  6%|▌         | 166/3000 [00:09<02:45, 17.12it/s]\n"
     ]
    },
    {
     "name": "stdout",
     "output_type": "stream",
     "text": [
      "Best score:  0.3244673\n",
      "Num fitness calls:  25292\n"
     ]
    },
    {
     "name": "stderr",
     "output_type": "stream",
     "text": [
      "  9%|▉         | 272/3000 [00:16<02:46, 16.36it/s]\n"
     ]
    },
    {
     "name": "stdout",
     "output_type": "stream",
     "text": [
      "Best score:  0.37233999999999995\n",
      "Num fitness calls:  41181\n"
     ]
    },
    {
     "name": "stderr",
     "output_type": "stream",
     "text": [
      "  7%|▋         | 199/3000 [00:12<02:54, 16.05it/s]\n"
     ]
    },
    {
     "name": "stdout",
     "output_type": "stream",
     "text": [
      "Best score:  0.3301576\n",
      "Num fitness calls:  30239\n"
     ]
    },
    {
     "name": "stderr",
     "output_type": "stream",
     "text": [
      "  9%|▉         | 280/3000 [00:19<03:12, 14.10it/s]\n"
     ]
    },
    {
     "name": "stdout",
     "output_type": "stream",
     "text": [
      "Best score:  0.3242908\n",
      "Num fitness calls:  42390\n"
     ]
    },
    {
     "name": "stderr",
     "output_type": "stream",
     "text": [
      " 16%|█▌        | 475/3000 [00:27<02:27, 17.15it/s]\n"
     ]
    },
    {
     "name": "stdout",
     "output_type": "stream",
     "text": [
      "Best score:  0.37212900000000004\n",
      "Num fitness calls:  71628\n"
     ]
    },
    {
     "name": "stderr",
     "output_type": "stream",
     "text": [
      "  4%|▍         | 128/3000 [00:07<02:45, 17.37it/s]\n"
     ]
    },
    {
     "name": "stdout",
     "output_type": "stream",
     "text": [
      "Best score:  0.30655720000000003\n",
      "Num fitness calls:  19597\n"
     ]
    },
    {
     "name": "stderr",
     "output_type": "stream",
     "text": [
      "  6%|▋         | 195/3000 [00:12<03:02, 15.40it/s]\n"
     ]
    },
    {
     "name": "stdout",
     "output_type": "stream",
     "text": [
      "Best score:  0.31813420000000003\n",
      "Num fitness calls:  29640\n"
     ]
    },
    {
     "name": "stderr",
     "output_type": "stream",
     "text": [
      " 10%|▉         | 297/3000 [00:18<02:50, 15.87it/s]\n"
     ]
    },
    {
     "name": "stdout",
     "output_type": "stream",
     "text": [
      "Best score:  0.386253\n",
      "Num fitness calls:  44930\n"
     ]
    },
    {
     "name": "stderr",
     "output_type": "stream",
     "text": [
      "  7%|▋         | 199/3000 [00:11<02:41, 17.30it/s]\n"
     ]
    },
    {
     "name": "stdout",
     "output_type": "stream",
     "text": [
      "Best score:  0.32413569999999997\n",
      "Num fitness calls:  30239\n"
     ]
    },
    {
     "name": "stderr",
     "output_type": "stream",
     "text": [
      "  7%|▋         | 200/3000 [00:11<02:42, 17.26it/s]\n"
     ]
    },
    {
     "name": "stdout",
     "output_type": "stream",
     "text": [
      "Best score:  0.36568599999999996\n",
      "Num fitness calls:  30390\n"
     ]
    },
    {
     "name": "stderr",
     "output_type": "stream",
     "text": [
      "  5%|▍         | 136/3000 [00:07<02:40, 17.85it/s]\n"
     ]
    },
    {
     "name": "stdout",
     "output_type": "stream",
     "text": [
      "Best score:  0.3064486\n",
      "Num fitness calls:  20783\n"
     ]
    },
    {
     "name": "stderr",
     "output_type": "stream",
     "text": [
      "  7%|▋         | 216/3000 [00:12<02:37, 17.66it/s]\n"
     ]
    },
    {
     "name": "stdout",
     "output_type": "stream",
     "text": [
      "Best score:  0.392929\n",
      "Num fitness calls:  32795\n"
     ]
    },
    {
     "name": "stderr",
     "output_type": "stream",
     "text": [
      " 10%|█         | 307/3000 [00:17<02:36, 17.23it/s]\n"
     ]
    },
    {
     "name": "stdout",
     "output_type": "stream",
     "text": [
      "Best score:  0.35869999999999996\n",
      "Num fitness calls:  46431\n"
     ]
    },
    {
     "name": "stderr",
     "output_type": "stream",
     "text": [
      "  6%|▌         | 172/3000 [00:10<02:47, 16.91it/s]\n"
     ]
    },
    {
     "name": "stdout",
     "output_type": "stream",
     "text": [
      "Best score:  0.34456200000000003\n",
      "Num fitness calls:  26192\n"
     ]
    },
    {
     "name": "stderr",
     "output_type": "stream",
     "text": [
      "  6%|▌         | 175/3000 [00:10<02:42, 17.40it/s]\n"
     ]
    },
    {
     "name": "stdout",
     "output_type": "stream",
     "text": [
      "Best score:  0.37934300000000004\n",
      "Num fitness calls:  26646\n"
     ]
    },
    {
     "name": "stderr",
     "output_type": "stream",
     "text": [
      "  4%|▍         | 116/3000 [00:07<02:54, 16.52it/s]\n"
     ]
    },
    {
     "name": "stdout",
     "output_type": "stream",
     "text": [
      "Best score:  0.3183611\n",
      "Num fitness calls:  17799\n"
     ]
    },
    {
     "name": "stderr",
     "output_type": "stream",
     "text": [
      "  7%|▋         | 219/3000 [00:13<02:46, 16.73it/s]\n"
     ]
    },
    {
     "name": "stdout",
     "output_type": "stream",
     "text": [
      "Best score:  0.379428\n",
      "Num fitness calls:  33229\n"
     ]
    },
    {
     "name": "stderr",
     "output_type": "stream",
     "text": [
      "  6%|▋         | 190/3000 [00:11<02:51, 16.35it/s]\n"
     ]
    },
    {
     "name": "stdout",
     "output_type": "stream",
     "text": [
      "Best score:  0.358784\n",
      "Num fitness calls:  28890\n"
     ]
    },
    {
     "name": "stderr",
     "output_type": "stream",
     "text": [
      "  5%|▌         | 156/3000 [00:09<02:45, 17.19it/s]\n"
     ]
    },
    {
     "name": "stdout",
     "output_type": "stream",
     "text": [
      "Best score:  0.3418074\n",
      "Num fitness calls:  23797\n"
     ]
    },
    {
     "name": "stderr",
     "output_type": "stream",
     "text": [
      "  8%|▊         | 243/3000 [00:13<02:36, 17.61it/s]\n"
     ]
    },
    {
     "name": "stdout",
     "output_type": "stream",
     "text": [
      "Best score:  0.3123686\n",
      "Num fitness calls:  36831\n"
     ]
    },
    {
     "name": "stderr",
     "output_type": "stream",
     "text": [
      "  5%|▍         | 143/3000 [00:08<02:48, 16.94it/s]\n"
     ]
    },
    {
     "name": "stdout",
     "output_type": "stream",
     "text": [
      "Best score:  0.3005007\n",
      "Num fitness calls:  21839\n"
     ]
    },
    {
     "name": "stderr",
     "output_type": "stream",
     "text": [
      "  5%|▌         | 157/3000 [00:08<02:42, 17.54it/s]\n"
     ]
    },
    {
     "name": "stdout",
     "output_type": "stream",
     "text": [
      "Best score:  0.31267860000000003\n",
      "Num fitness calls:  23936\n"
     ]
    },
    {
     "name": "stderr",
     "output_type": "stream",
     "text": [
      " 11%|█         | 330/3000 [00:18<02:33, 17.37it/s]\n"
     ]
    },
    {
     "name": "stdout",
     "output_type": "stream",
     "text": [
      "Best score:  0.3244564\n",
      "Num fitness calls:  49884\n"
     ]
    },
    {
     "name": "stderr",
     "output_type": "stream",
     "text": [
      "  5%|▍         | 137/3000 [00:08<02:47, 17.05it/s]\n"
     ]
    },
    {
     "name": "stdout",
     "output_type": "stream",
     "text": [
      "Best score:  0.3122565\n",
      "Num fitness calls:  20947\n"
     ]
    },
    {
     "name": "stderr",
     "output_type": "stream",
     "text": [
      "  6%|▌         | 180/3000 [00:10<02:44, 17.13it/s]\n"
     ]
    },
    {
     "name": "stdout",
     "output_type": "stream",
     "text": [
      "Best score:  0.3125696\n",
      "Num fitness calls:  27394\n"
     ]
    },
    {
     "name": "stderr",
     "output_type": "stream",
     "text": [
      "  8%|▊         | 234/3000 [00:13<02:35, 17.79it/s]\n"
     ]
    },
    {
     "name": "stdout",
     "output_type": "stream",
     "text": [
      "Best score:  0.31834640000000003\n",
      "Num fitness calls:  35489\n"
     ]
    },
    {
     "name": "stderr",
     "output_type": "stream",
     "text": [
      "  5%|▍         | 143/3000 [00:07<02:37, 18.10it/s]\n"
     ]
    },
    {
     "name": "stdout",
     "output_type": "stream",
     "text": [
      "Best score:  0.30056849999999996\n",
      "Num fitness calls:  21844\n"
     ]
    },
    {
     "name": "stderr",
     "output_type": "stream",
     "text": [
      "  7%|▋         | 208/3000 [00:13<03:04, 15.17it/s]\n"
     ]
    },
    {
     "name": "stdout",
     "output_type": "stream",
     "text": [
      "Best score:  0.344784\n",
      "Num fitness calls:  31593\n"
     ]
    },
    {
     "name": "stderr",
     "output_type": "stream",
     "text": [
      " 10%|█         | 307/3000 [00:19<02:48, 15.99it/s]\n"
     ]
    },
    {
     "name": "stdout",
     "output_type": "stream",
     "text": [
      "Best score:  0.372585\n",
      "Num fitness calls:  46425\n"
     ]
    },
    {
     "name": "stderr",
     "output_type": "stream",
     "text": [
      "  8%|▊         | 236/3000 [00:13<02:41, 17.11it/s]\n"
     ]
    },
    {
     "name": "stdout",
     "output_type": "stream",
     "text": [
      "Best score:  0.358686\n",
      "Num fitness calls:  35788\n"
     ]
    },
    {
     "name": "stderr",
     "output_type": "stream",
     "text": [
      "  7%|▋         | 198/3000 [00:11<02:47, 16.69it/s]\n"
     ]
    },
    {
     "name": "stdout",
     "output_type": "stream",
     "text": [
      "Best score:  0.372353\n",
      "Num fitness calls:  30087\n"
     ]
    },
    {
     "name": "stderr",
     "output_type": "stream",
     "text": [
      " 15%|█▌        | 452/3000 [00:29<02:47, 15.22it/s]\n"
     ]
    },
    {
     "name": "stdout",
     "output_type": "stream",
     "text": [
      "Best score:  0.44251\n",
      "Num fitness calls:  68165\n"
     ]
    },
    {
     "name": "stderr",
     "output_type": "stream",
     "text": [
      "  7%|▋         | 212/3000 [00:19<04:22, 10.61it/s]\n"
     ]
    },
    {
     "name": "stdout",
     "output_type": "stream",
     "text": [
      "Best score:  0.36546100000000004\n",
      "Num fitness calls:  32185\n"
     ]
    },
    {
     "name": "stderr",
     "output_type": "stream",
     "text": [
      "  5%|▌         | 151/3000 [00:10<03:10, 14.94it/s]\n"
     ]
    },
    {
     "name": "stdout",
     "output_type": "stream",
     "text": [
      "Best score:  0.41045\n",
      "Num fitness calls:  23039\n"
     ]
    },
    {
     "name": "stderr",
     "output_type": "stream",
     "text": [
      "  5%|▍         | 136/3000 [00:09<03:15, 14.66it/s]\n"
     ]
    },
    {
     "name": "stdout",
     "output_type": "stream",
     "text": [
      "Best score:  0.3009019\n",
      "Num fitness calls:  20793\n"
     ]
    },
    {
     "name": "stderr",
     "output_type": "stream",
     "text": [
      "  5%|▌         | 164/3000 [00:12<03:41, 12.82it/s]\n"
     ]
    },
    {
     "name": "stdout",
     "output_type": "stream",
     "text": [
      "Best score:  0.3184562\n",
      "Num fitness calls:  24990\n"
     ]
    },
    {
     "name": "stderr",
     "output_type": "stream",
     "text": [
      "  4%|▍         | 131/3000 [00:07<02:48, 17.03it/s]\n"
     ]
    },
    {
     "name": "stdout",
     "output_type": "stream",
     "text": [
      "Best score:  0.3185796\n",
      "Num fitness calls:  20048\n"
     ]
    },
    {
     "name": "stderr",
     "output_type": "stream",
     "text": [
      "  5%|▌         | 159/3000 [00:09<02:46, 17.05it/s]\n"
     ]
    },
    {
     "name": "stdout",
     "output_type": "stream",
     "text": [
      "Best score:  0.3181585\n",
      "Num fitness calls:  24240\n"
     ]
    },
    {
     "name": "stderr",
     "output_type": "stream",
     "text": [
      " 13%|█▎        | 381/3000 [00:23<02:41, 16.26it/s]\n"
     ]
    },
    {
     "name": "stdout",
     "output_type": "stream",
     "text": [
      "Best score:  0.39292\n",
      "Num fitness calls:  57524\n"
     ]
    },
    {
     "name": "stderr",
     "output_type": "stream",
     "text": [
      "  4%|▍         | 122/3000 [00:07<02:53, 16.61it/s]\n"
     ]
    },
    {
     "name": "stdout",
     "output_type": "stream",
     "text": [
      "Best score:  0.3303461\n",
      "Num fitness calls:  18697\n"
     ]
    },
    {
     "name": "stderr",
     "output_type": "stream",
     "text": [
      "  6%|▌         | 175/3000 [00:10<02:42, 17.40it/s]\n"
     ]
    },
    {
     "name": "stdout",
     "output_type": "stream",
     "text": [
      "Best score:  0.351462\n",
      "Num fitness calls:  26646\n"
     ]
    },
    {
     "name": "stderr",
     "output_type": "stream",
     "text": [
      "  5%|▌         | 163/3000 [00:09<02:45, 17.10it/s]\n"
     ]
    },
    {
     "name": "stdout",
     "output_type": "stream",
     "text": [
      "Best score:  0.365594\n",
      "Num fitness calls:  24838\n"
     ]
    },
    {
     "name": "stderr",
     "output_type": "stream",
     "text": [
      " 12%|█▏        | 363/3000 [00:20<02:32, 17.34it/s]"
     ]
    },
    {
     "name": "stdout",
     "output_type": "stream",
     "text": [
      "Best score:  0.35148599999999997\n",
      "Num fitness calls:  54828\n",
      "========================================\n",
      "average fitness calls:  34369.7\n",
      "average best score:  0.34564934310000006\n"
     ]
    },
    {
     "name": "stderr",
     "output_type": "stream",
     "text": [
      "\n"
     ]
    }
   ],
   "source": [
    "fitness_calls = []\n",
    "best_scores = []\n",
    "for i in range(100):\n",
    "    fitness = lab9_lib.make_problem(PROBLEM_SIZE)\n",
    "\n",
    "    islands = [ [generate_random_individual(length=LENGTH_SOLUTION) for _ in range(50) ] for _ in range(NUM_ISLANDS) ]\n",
    "    islands_evals = [[fitness(x) for x in island] for island in islands]\n",
    "    history = [[] for _ in range(NUM_ISLANDS)]\n",
    "    islands, islands_evals, valhalla, valhalla_evals = ga(fitness, islands, islands_evals, memoization=True, history=history)\n",
    "\n",
    "    print(\"Best score: \", max([max(x) for x in history] + valhalla_evals))\n",
    "    print(\"Num fitness calls: \", fitness.calls)\n",
    "    fitness_calls.append(fitness.calls)\n",
    "    best_scores.append(np.max(history))\n",
    "\n",
    "\n",
    "print(\"=\"*40)\n",
    "print(\"average fitness calls: \", np.mean(fitness_calls))\n",
    "print(\"average best score: \", np.mean(best_scores))"
   ]
  },
  {
   "cell_type": "code",
   "execution_count": 6,
   "metadata": {},
   "outputs": [
    {
     "data": {
      "image/png": "[encoded data removed]",
      "text/plain": [
       "<Figure size 640x480 with 1 Axes>"
      ]
     },
     "metadata": {},
     "output_type": "display_data"
    }
   ],
   "source": [
    "import matplotlib.pyplot as plt\n",
    "\n",
    "for x in history:\n",
    "    plt.plot(x)\n",
    "plt.show()"
   ]
  }
 ],
 "metadata": {
  "kernelspec": {
   "display_name": "Python 3",
   "language": "python",
   "name": "python3"
  },
  "language_info": {
   "codemirror_mode": {
    "name": "ipython",
    "version": 3
   },
   "file_extension": ".py",
   "mimetype": "text/x-python",
   "name": "python",
   "nbconvert_exporter": "python",
   "pygments_lexer": "ipython3",
   "version": "3.11.3"
  }
 },
 "nbformat": 4,
 "nbformat_minor": 2
}
