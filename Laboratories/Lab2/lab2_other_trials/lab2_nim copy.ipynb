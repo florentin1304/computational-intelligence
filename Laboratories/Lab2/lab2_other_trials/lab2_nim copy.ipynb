{
 "cells": [
  {
   "cell_type": "markdown",
   "metadata": {
    "pycharm": {
     "name": "#%% md\n"
    }
   },
   "source": [
    "Copyright **`(c)`** 2022 Giovanni Squillero `<squillero@polito.it>`  \n",
    "[`https://github.com/squillero/computational-intelligence`](https://github.com/squillero/computational-intelligence)  \n",
    "Free for personal or classroom use; see [`LICENSE.md`](https://github.com/squillero/computational-intelligence/blob/master/LICENSE.md) for details.\n"
   ]
  },
  {
   "cell_type": "markdown",
   "metadata": {
    "pycharm": {
     "name": "#%%\n"
    }
   },
   "source": [
    "# Lab 3: ES\n",
    "\n",
    "## Task\n",
    "\n",
    "Write agents able to play [_Nim_](https://en.wikipedia.org/wiki/Nim), with an arbitrary number of rows and an upper bound $k$ on the number of objects that can be removed in a turn (a.k.a., _subtraction game_).\n",
    "\n",
    "The goal of the game is to **avoid** taking the last object.\n",
    "\n",
    "- Task2.1: An agent using fixed rules based on _nim-sum_ (i.e., an _expert system_)\n",
    "- Task2.2: An agent using evolved rules using ES\n",
    "\n",
    "## Instructions\n",
    "\n",
    "- Create the directory `lab2` inside the course repo\n",
    "- Put a `README.md` and your solution (all the files, code and auxiliary data if needed)\n",
    "\n",
    "## Notes\n",
    "\n",
    "- Working in group is not only allowed, but recommended (see: [Ubuntu](https://en.wikipedia.org/wiki/Ubuntu_philosophy) and [Cooperative Learning](https://files.eric.ed.gov/fulltext/EJ1096789.pdf)). Collaborations must be explicitly declared in the `README.md`.\n",
    "- [Yanking](https://www.emacswiki.org/emacs/KillingAndYanking) from the internet is allowed, but sources must be explicitly declared in the `README.md`.\n"
   ]
  },
  {
   "cell_type": "code",
   "execution_count": 217,
   "metadata": {},
   "outputs": [],
   "source": [
    "import logging\n",
    "from pprint import pprint, pformat\n",
    "from collections import namedtuple\n",
    "import random\n",
    "from copy import deepcopy"
   ]
  },
  {
   "cell_type": "markdown",
   "metadata": {},
   "source": [
    "## The _Nim_ and _Nimply_ classes\n"
   ]
  },
  {
   "cell_type": "code",
   "execution_count": 218,
   "metadata": {},
   "outputs": [],
   "source": [
    "Nimply = namedtuple(\"Nimply\", \"row, num_objects\")"
   ]
  },
  {
   "cell_type": "code",
   "execution_count": 219,
   "metadata": {},
   "outputs": [],
   "source": [
    "class Nim:\n",
    "    def __init__(self, num_rows: int, k: int = None) -> None:\n",
    "        self._rows = [i * 2 + 1 for i in range(num_rows)]\n",
    "        self._k = k\n",
    "        self.last_move = None\n",
    "        self.player = 0\n",
    "\n",
    "    def __bool__(self):\n",
    "        return sum(self._rows) > 0\n",
    "\n",
    "    def __str__(self):\n",
    "        return \"<\" + \" \".join(str(_) for _ in self._rows) + \">\"\n",
    "\n",
    "    @property\n",
    "    def rows(self) -> tuple:\n",
    "        return tuple(self._rows)\n",
    "\n",
    "    def nimming(self, ply: Nimply) -> None:\n",
    "        row, num_objects = ply\n",
    "        assert self._rows[row] >= num_objects\n",
    "        assert self._k is None or num_objects <= self._k\n",
    "        self._rows[row] -= num_objects\n",
    "        self.last_move = ply\n",
    "        self.player = (self.player+1)%2\n",
    "    \n",
    "    def undo_nim(self):\n",
    "        assert self.last_move != None\n",
    "\n",
    "        row, num_objects = self.last_move\n",
    "        self._rows[row] += num_objects\n",
    "        self.player = (self.player+1)%2"
   ]
  },
  {
   "cell_type": "markdown",
   "metadata": {},
   "source": [
    "- Class `Nim` is defined, with an initializer method `__init__`, three methods `__bool__`, `__str__`, and `nimming`, and a property `rows`.\n",
    "- The `__init__` method takes two arguments: `num_rows` and `k` (with a default value of `None`), and initializes `self._rows` with a list of odd numbers and stores `k` in `self._k`.\n",
    "- The `__bool__` method returns a boolean value indicating whether the sum of the numbers in `self._rows` is greater than 0.\n",
    "- The `__str__` method returns a string representation of the `Nim` instance by joining the numbers in `self._rows` into a string enclosed in angle brackets.\n",
    "- The `rows` property returns a tuple containing the numbers in `self._rows`.\n",
    "- The `nimming` method takes a `Nimply` instance (or a tuple), unpacks it into `row` and `num_objects`, and performs two assertions. It subtracts `num_objects` from the number of objects in the specified row if both assertions pass.\n"
   ]
  },
  {
   "cell_type": "markdown",
   "metadata": {},
   "source": [
    "## Sample (and silly) startegies\n"
   ]
  },
  {
   "cell_type": "code",
   "execution_count": 220,
   "metadata": {},
   "outputs": [],
   "source": [
    "def pure_random(state: Nim) -> Nimply:\n",
    "    \"\"\"A completely random move\"\"\"\n",
    "    row = random.choice(\n",
    "        [r for r, c in enumerate(state.rows) if c > 0]\n",
    "    )  # select random non empty row\n",
    "    num_objects = random.randint(\n",
    "        1, state.rows[row]\n",
    "    )  # select random number of objects to be removed from row\n",
    "    return Nimply(\n",
    "        row, num_objects\n",
    "    )  # return new Nimply object for that row with updated number of objects"
   ]
  },
  {
   "cell_type": "code",
   "execution_count": 221,
   "metadata": {},
   "outputs": [],
   "source": [
    "def gabriele(state: Nim) -> Nimply:\n",
    "    \"\"\"Pick always the maximum possible number of the lowest row\"\"\"\n",
    "    possible_moves = [\n",
    "        (r, o) for r, c in enumerate(state.rows) for o in range(1, c + 1)\n",
    "    ]  # create list of all possible moves\n",
    "    return Nimply(\n",
    "        *max(possible_moves, key=lambda m: (-m[0], m[1]))\n",
    "    )  # return Nimply object with maximum number of objects from lowest row"
   ]
  },
  {
   "cell_type": "code",
   "execution_count": 222,
   "metadata": {},
   "outputs": [],
   "source": [
    "def adaptive1(state: Nim) -> Nimply:\n",
    "    \"\"\"A strategy that can adapt its parameters\"\"\"\n",
    "    genome = {\"love_small\": 0.5}  # set initial value for love_small\n",
    "\n",
    "    if state.rows[0] <= 3:  # if lowest row has 3 or less objects\n",
    "        genome[\"love_small\"] = 0.9  # increase love_small\n",
    "    elif state.rows[0] >= 7:  # if lowest row has 7 or more objects\n",
    "        genome[\"love_small\"] = 0.1  # decrease love_small\n",
    "\n",
    "    row = min(\n",
    "        range(len(state.rows)), key=lambda r: state.rows[r]\n",
    "    )  # select row with lowest number of objects\n",
    "\n",
    "    num_objects = int(\n",
    "        genome[\"love_small\"] * state.rows[row]\n",
    "    )  # select number of objects to be removed from row\n",
    "\n",
    "    return Nimply(\n",
    "        row, num_objects\n",
    "    )  # return Nimply object for that row with updated number of objects"
   ]
  },
  {
   "cell_type": "code",
   "execution_count": 223,
   "metadata": {},
   "outputs": [],
   "source": [
    "import numpy as np\n",
    "\n",
    "\n",
    "def nim_sum(state: Nim) -> int:\n",
    "    \"\"\"\n",
    "    takes a `Nim` object and calculates the Nim-sum of the current game\n",
    "    state by converting the counts of objects in the rows to binary, summing\n",
    "    them, and taking the modulo 2 to obtain an integer Nim-sum\n",
    "    \"\"\"\n",
    "    tmp = np.array([tuple(int(x) for x in f\"{c:032b}\") for c in state.rows])\n",
    "    xor = tmp.sum(axis=0) % 2\n",
    "    return int(\"\".join(str(_) for _ in xor), base=2)\n",
    "\n",
    "\n",
    "def analize(raw: Nim) -> dict:\n",
    "    \"\"\"\n",
    "    takes a `Nim` object and returns a dictionary with a single key,\n",
    "    \"possible_moves,\" which maps each possible move to its resulting Nim-sum. To\n",
    "    calculate this, it iterates over all possible moves, makes a deep copy of\n",
    "    the game state, applies the move to the copy, and calculates the Nim-sum of\n",
    "    the resulting state\n",
    "    \"\"\"\n",
    "    cooked = dict()\n",
    "    cooked[\"possible_moves\"] = dict()\n",
    "    for ply in (Nimply(r, o) for r, c in enumerate(raw.rows) for o in range(1, c + 1)):\n",
    "        tmp = deepcopy(raw)\n",
    "        tmp.nimming(ply)\n",
    "        cooked[\"possible_moves\"][ply] = nim_sum(tmp)\n",
    "    return cooked\n",
    "\n",
    "\n",
    "def optimal(state: Nim) -> Nimply:\n",
    "    \"\"\"\n",
    "    takes a `Nim` object and returns an optimal move by analyzing the\n",
    "    current game state to get the Nim-sums of all possible moves. It selects\n",
    "    moves that result in a non-zero Nim-sum, representing \"winning\" moves.\n",
    "    If no such moves exist, it selects all moves and chooses one at random\n",
    "    to return as the optimal move\n",
    "    \"\"\"\n",
    "\n",
    "    # from archimedes-lab.org:\n",
    "\n",
    "    # To win at Nim-game, always make a move, whenever possible, that leaves a\n",
    "    # configuration with a ZERO “Nim sum”, that is with ZERO unpaired multiple(s)\n",
    "    # of 4, 2 or 1. Otherwise, your opponent has the advantage, and you have to\n",
    "    # depend on his/her committing an error in order to win.\n",
    "\n",
    "    analysis = analize(state)\n",
    "    logging.debug(f\"analysis:\\n{pformat(analysis)}\")\n",
    "    spicy_moves = [ply for ply, ns in analysis[\"possible_moves\"].items() if ns != 0]\n",
    "    if not spicy_moves:\n",
    "        spicy_moves = list(analysis[\"possible_moves\"].keys())\n",
    "    ply = random.choice(spicy_moves)\n",
    "    return ply"
   ]
  },
  {
   "cell_type": "markdown",
   "metadata": {},
   "source": [
    "## Oversimplified match\n",
    "\n",
    "- The line `logging.getLogger().setLevel(logging.INFO)` sets the logging level to `INFO`, indicating that all logging messages with level `INFO` or higher will be displayed.\n",
    "\n",
    "- The `strategy` tuple contains two functions, `optimal` and `pure_random`, which are used to determine the moves of the two players.\n",
    "\n",
    "- The `while nim:` loop continues as long as the game is not over, meaning there are objects remaining in the game. Inside the loop, the current player's strategy function is invoked with the current game state to determine the next move (`ply = strategy[player](nim)`). This move is then applied to the game (`nim.nimming(ply)`), and both the game state and the move are logged. Finally, the current player is switched using `player = 1 - player`.\n",
    "\n",
    "- After the loop, the final game state is logged, along with the player who won the game.\n"
   ]
  },
  {
   "cell_type": "code",
   "execution_count": 224,
   "metadata": {},
   "outputs": [
    {
     "name": "stdout",
     "output_type": "stream",
     "text": [
      "optimal\n",
      "(1, 3, 5, 7, 9)\n",
      "Nimply(row=3, num_objects=5)\n",
      "pure_random\n",
      "(1, 3, 5, 2, 9)\n",
      "Nimply(row=2, num_objects=1)\n",
      "optimal\n",
      "(1, 3, 4, 2, 9)\n",
      "Nimply(row=3, num_objects=2)\n",
      "pure_random\n",
      "(1, 3, 4, 0, 9)\n",
      "Nimply(row=1, num_objects=2)\n",
      "optimal\n",
      "(1, 1, 4, 0, 9)\n",
      "Nimply(row=1, num_objects=1)\n",
      "pure_random\n",
      "(1, 0, 4, 0, 9)\n",
      "Nimply(row=2, num_objects=2)\n",
      "optimal\n",
      "(1, 0, 2, 0, 9)\n",
      "Nimply(row=4, num_objects=2)\n",
      "pure_random\n",
      "(1, 0, 2, 0, 7)\n",
      "Nimply(row=2, num_objects=2)\n",
      "optimal\n",
      "(1, 0, 0, 0, 7)\n",
      "Nimply(row=4, num_objects=1)\n",
      "pure_random\n",
      "(1, 0, 0, 0, 6)\n",
      "Nimply(row=0, num_objects=1)\n",
      "optimal\n",
      "(0, 0, 0, 0, 6)\n",
      "Nimply(row=4, num_objects=5)\n",
      "pure_random\n",
      "(0, 0, 0, 0, 1)\n",
      "Nimply(row=4, num_objects=1)\n",
      "0.0\n"
     ]
    }
   ],
   "source": [
    "logging.getLogger().setLevel(logging.INFO)\n",
    "\n",
    "strategy = (optimal, pure_random)\n",
    "# strategy = (optimal, adaptive1)\n",
    "\n",
    "res = []\n",
    "for _ in range(1):\n",
    "    nim = Nim(5)\n",
    "    player = 0\n",
    "    while nim:\n",
    "        ply = strategy[player](nim)\n",
    "        print(strategy[player].__name__)\n",
    "        print(nim.rows)\n",
    "        print(ply)\n",
    "        nim.nimming(ply)\n",
    "        player = 1 - player\n",
    "    res.append(player)\n",
    "    # logging.info(f\"status: Player {player} won using {strategy[player].__name__} startegy!\")\n",
    "\n",
    "print(np.array(res).mean())"
   ]
  },
  {
   "cell_type": "markdown",
   "metadata": {},
   "source": [
    "# TEST\n",
    "\n",
    "Longest Nim Match is if every player takes away only one stick per turn -> numbersticks-1\n"
   ]
  },
  {
   "cell_type": "code",
   "execution_count": 225,
   "metadata": {},
   "outputs": [],
   "source": [
    "def finish_game_random(game, turn):\n",
    "    strategy = (pure_random, pure_random)\n",
    "\n",
    "    player = turn\n",
    "    while game:\n",
    "        ply = strategy[player](game)\n",
    "        game.nimming(ply)\n",
    "        player = 1 - player\n",
    "\n",
    "    return 1 - player  # 1 if agent won, 0 if expert won\n",
    "\n",
    "def my_strategy(nim):\n",
    "\n",
    "  sims = 0\n",
    "  plays = [Nimply(r, o) for r, c in enumerate(nim.rows) for o in range(1, c + 1)]\n",
    "  if len(plays) == 1:\n",
    "    return plays[0]\n",
    "\n",
    "  wins = [0 for i in range(len(plays))]\n",
    "  sim_counts = [0 for i in range(len(plays))]\n",
    "\n",
    "  while sims < 5000:\n",
    "    tmp_nim = deepcopy(nim)\n",
    "    \n",
    "    i = np.random.randint(len(plays))\n",
    "    tmp_nim.nimming(plays[i])\n",
    "    \n",
    "\n",
    "    who_won = finish_game_random(tmp_nim, turn=tmp_nim.player)\n",
    "    \n",
    "    \n",
    "    wins[i] += who_won\n",
    "    sim_counts[i] +=1\n",
    "    sims += 1\n",
    "\n",
    "  scores = np.array(wins)/np.array(sim_counts)\n",
    "  winnig_move = np.argmax(scores)\n",
    "  #print(scores)\n",
    "  \n",
    "  return plays[winnig_move]\n"
   ]
  },
  {
   "cell_type": "code",
   "execution_count": 226,
   "metadata": {},
   "outputs": [],
   "source": [
    "# evolutionary params\n",
    "POPULATION_SIZE = 15\n",
    "MUTATION_RATE = 0.5\n",
    "NUMBER_GENERATIONS = 50\n",
    "\n",
    "# game params\n",
    "NIM_DIM = 5\n",
    "\n",
    "# number on matches in fitness\n",
    "FITNESS_MATCHES = 15\n",
    "VS_AGENT = pure_random\n",
    "\n",
    "SIZE_NET_INPUT = NIM_DIM\n",
    "STD = 1\n"
   ]
  },
  {
   "cell_type": "code",
   "execution_count": 227,
   "metadata": {},
   "outputs": [],
   "source": [
    "def nim_match(agent1, vs_agent=VS_AGENT):\n",
    "    strategy = (agent1, VS_AGENT)\n",
    "\n",
    "    nim = Nim(NIM_DIM)\n",
    "    player = random.randint(0, 1)\n",
    "    number_moves = 0\n",
    "    while nim:\n",
    "        ply = strategy[player](nim)\n",
    "        nim.nimming(ply)\n",
    "        player = 1 - player\n",
    "\n",
    "    return 1 - player  # 1 if agent won, 0 if expert won\n"
   ]
  },
  {
   "cell_type": "code",
   "execution_count": 228,
   "metadata": {},
   "outputs": [
    {
     "name": "stdout",
     "output_type": "stream",
     "text": [
      "[0.45205479 0.51072961 0.50209205 0.51643192 0.54148472 0.49568966\n",
      " 0.49115044 0.44761905 0.56398104 0.48648649 0.53393665 0.51376147\n",
      " 0.50900901 0.43518519 0.50943396 0.52888889 0.42600897 0.49753695\n",
      " 0.51141553 0.50934579 0.61780105 0.51904762 0.51091703]\n",
      "[0.47826087 0.47098976 0.53581662 0.46229508 0.47663551 0.47301587\n",
      " 0.50537634 0.51212121 0.48366013 0.496875   0.43870968 0.44701987\n",
      " 0.52333333 0.49691358 0.55017301 0.51602564]\n",
      "[0.47731397 0.52249135 0.46153846 0.49542962 0.5026087  0.54166667\n",
      " 0.477842   0.50089767 0.48638838]\n"
     ]
    },
    {
     "name": "stdout",
     "output_type": "stream",
     "text": [
      "[0.50624291 0.49654378 0.50303767 0.48418491 0.51974522 0.51522533]\n",
      "[1.         0.         0.48878394]\n",
      "[0.44486692 0.48425197 0.52434457 0.50746269 0.47876448 0.54225352\n",
      " 0.53       0.49576271 0.5125     0.53284672 0.50511945 0.51652893\n",
      " 0.46153846 0.4738676  0.51449275 0.56226415 0.45299145 0.48698885\n",
      " 0.54117647]\n",
      "[0.47689076 0.51434879 0.48060345 0.53263158 0.47692308 0.44144144\n",
      " 0.53642384 0.5        0.47777778 0.48940678 0.469163  ]\n",
      "[0.48321624 0.51103843 1.         0.        ]\n",
      "[0.50777202 0.46907216 0.46524064 0.54545455 0.48039216 0.51891892\n",
      " 0.485      0.51528384 0.505      0.47087379 0.5492228  0.4863388\n",
      " 0.5        0.50761421 0.51741294 0.46190476 0.47668394 0.55813953\n",
      " 0.56281407 0.44607843 0.49765258 0.4562212  0.44230769 0.55263158\n",
      " 0.49748744]\n",
      "[0.51489362 0.53787879 0.48275862 0.51801802 0.53386454 0.468\n",
      " 0.53773585 0.45454545 0.51502146 0.48868778 0.51851852 0.5\n",
      " 0.46153846 0.49626866 0.54661017 0.48275862 0.5        0.45145631\n",
      " 0.49242424 0.54506438 0.49612403]\n",
      "[0.49131514 0.49156627 0.45742092 0.50123457 0.48831169 0.5\n",
      " 0.51674641 0.47438753 0.48628429 0.50238095 0.50580046 0.5215311 ]\n",
      "[0.50605144 0.48523207 0.         1.        ]\n",
      "[0.46046512 0.50251256 0.52968037 0.48275862 0.48148148 0.48087432\n",
      " 0.48214286 0.4741784  0.46       0.55339806 0.49479167 0.48878924\n",
      " 0.49758454 0.50220264 0.5678392  0.42774566 0.48241206 0.49740933\n",
      " 0.58333333 0.47120419 0.46192893 0.54166667 0.51190476 0.43352601\n",
      " 0.51630435]\n",
      "[0.50188679 0.46963563 0.488      0.47509579 0.51836735 0.53281853\n",
      " 0.48523207 0.52966102 0.55035971 0.50566038 0.51452282 0.50416667\n",
      " 0.50925926 0.52631579 0.4939759  0.50988142 0.53846154 0.516\n",
      " 0.49583333 0.51372549]\n",
      "[0.52173913 0.53198653 0.50666667 0.47959184 0.39473684 0.5\n",
      " 0.50179211 0.50342466 0.50163934 0.45733788 0.51811594 0.50847458\n",
      " 0.50883392 0.5221843  0.49216301 0.45422535 0.4877193 ]\n",
      "[0.52195122 0.48433735 0.45226131 0.51213592 0.5214447  0.55660377\n",
      " 0.47732181 0.50697674 0.49507389 0.51168831 0.5        0.49757282]\n",
      "[1. 1.]\n",
      "[0.5        0.55140187 0.5320197  0.51666667 0.42268041 0.49056604\n",
      " 0.46341463 0.55555556 0.54901961 0.47619048 0.46428571 0.53333333\n",
      " 0.49065421 0.53608247 0.51648352 0.48648649 0.54326923 0.48198198\n",
      " 0.50276243 0.48913043 0.49763033 0.53968254 0.48947368 0.48780488\n",
      " 0.47368421]\n",
      "[0.48582996 0.51769912 0.54104478 0.48319328 0.53875969 0.52123552\n",
      " 0.51153846 0.45381526 0.48163265 0.50420168 0.49781659 0.53012048\n",
      " 0.5204918  0.48917749 0.46564885 0.44578313 0.46289753 0.48373984\n",
      " 0.50775194 0.49425287]\n",
      "[0.46556474 0.48264984 0.47777778 0.54390935 0.4984326  0.53687316\n",
      " 0.4625     0.47774481 0.51156069 0.50314465 0.48013245 0.5398773\n",
      " 0.51895044 0.53030303 0.49847095]\n",
      "[0.50971922 0.50924025 0.51096491 0.48817204 0.46666667 0.50526316\n",
      " 0.46357616 0.50517598 0.47598253 1.         0.        ]\n",
      "[1. 1.]\n",
      "[0.55263158 0.44954128 0.52791878 0.41463415 0.46031746 0.51121076\n",
      " 0.51269036 0.51707317 0.484375   0.51813472 0.44919786 0.51256281\n",
      " 0.49047619 0.51219512 0.50282486 0.51612903 0.51891892 0.59192825\n",
      " 0.55072464 0.48584906 0.46766169 0.51136364 0.45502646 0.55769231\n",
      " 0.48230088]\n",
      "[0.55594406 0.46534653 0.42481203 0.5221843  0.49805447 0.46853147\n",
      " 0.52747253 0.46886447 0.44       0.43968872 0.50988142 0.51186441\n",
      " 0.48821549 0.52985075 0.49264706 0.4862069  0.4760274  0.5017301 ]\n",
      "[0.45098039 0.5282392  0.50135501 0.4972067  0.46857143 0.53034301\n",
      " 0.47787611 0.49041096 0.4893617  0.49044586 0.51662404 0.51742627\n",
      " 0.51267606 0.50670241]\n",
      "[0.49690722 0.4750499  0.51292247 0.49       0.50530786 0.45526839\n",
      " 0.51782364 0.51162791 0.49797571 0.5027933 ]\n",
      "[0.52179837 0.49657064 0.5227882  0.47016012 0.52186178 0.48942598\n",
      " 0.4952251 ]\n",
      "[0.48169717 0.50161812 0.         1.        ]\n",
      "[0.51010101 0.4921466  0.46153846 0.45412844 0.52631579 0.4973545\n",
      " 0.54545455 0.42583732 0.47089947 0.57065217 0.47849462 0.48529412\n",
      " 0.54098361 0.45       0.50505051 0.52252252 0.52284264 0.51794872\n",
      " 0.55223881 0.47540984 0.47368421 0.50234742 0.53424658 0.545\n",
      " 0.43049327]\n",
      "[0.5049505  0.51794872 0.51054852 0.46666667 0.53424658 0.48953975\n",
      " 0.49090909 0.58035714 0.46521739 0.57943925 0.48401826 0.41871921\n",
      " 0.48444444 0.48430493 0.51612903 0.53763441 0.51207729 0.52466368\n",
      " 0.53768844 0.5045045  0.52888889 0.45851528 0.56221198]\n",
      "[0.42767296 0.514377   0.50931677 0.51791531 0.52366864 0.53164557\n",
      " 0.48161765 0.45151515 0.44551282 0.52       0.51083591 0.47826087\n",
      " 0.52464789 0.49685535 0.50986842 0.55172414]\n",
      "[1. 1.]\n",
      "[0.47639485 0.51515152 0.52427184 0.47619048 0.50925926 0.55924171\n",
      " 0.48743719 0.48730964 0.55223881 0.48484848 0.54591837 0.53694581\n",
      " 0.46078431 0.50241546 0.56170213 0.5158371  0.45581395 0.46376812\n",
      " 0.45933014 0.56398104 0.49238579 0.53240741 0.47867299 0.54545455]\n",
      "[0.49210526 0.46857143 0.46223565 0.50759878 0.51558074 0.47480106\n",
      " 0.50404313 0.48823529 0.4933687  0.56473829 0.48595506 0.50903614\n",
      " 0.49604222 0.48066298]\n",
      "[0.52527076 0.51502146 0.50107527 0.50283554 0.53138075 0.52734375\n",
      " 0.45776031 0.48333333 0.50204918 0.44894027]\n",
      "[0.48626653 0.50162866 0.49056604 1.         0.        ]\n",
      "[0.45255474 0.51438849 0.48398577 0.54152824 0.52649007 0.48172757\n",
      " 0.46229508 0.50159744 0.54362416 0.46453901 0.50314465 0.46333333\n",
      " 0.48986486 0.45263158 0.49477352 0.52747253 0.46405229]\n",
      "[0.50746269 0.51685393 0.48741007 0.46167558 0.48727273 0.52846975\n",
      " 0.         1.         0.47952218]\n",
      "[0.45283019 0.4754902  0.47747748 0.44444444 0.55612245 0.53043478\n",
      " 0.52136752 0.45728643 0.55276382 0.47938144 0.56603774 0.46192893\n",
      " 0.5245098  0.52403846 0.53303965 0.51754386 0.47963801 0.51336898\n",
      " 0.5388601  0.44285714 0.47115385 0.54358974 0.54794521 0.48768473]\n"
     ]
    }
   ],
   "source": [
    "def fitness(agent, num_matches=FITNESS_MATCHES):\n",
    "    # plays against expert by exectuing in order the moves of the agent and the expert agent\n",
    "    # fitness is number of matches won by agent with max 10 matches\n",
    "    runs = [nim_match(agent) for _ in range(num_matches)]\n",
    "    return np.array(runs).mean()\n",
    "\n",
    "\n",
    "print(fitness(my_strategy, num_matches=100))\n",
    "input()"
   ]
  },
  {
   "cell_type": "code",
   "execution_count": null,
   "metadata": {},
   "outputs": [],
   "source": [
    "def mutate(agent, std=STD):\n",
    "    if random.random() < MUTATION_RATE:\n",
    "#        new_net = deepcopy(net)\n",
    "        with torch.no_grad():\n",
    "            for param in agent.parameters():\n",
    "                param += torch.normal(mean=0, std=std, size=param.shape)\n",
    "    return agent\n",
    "    \n",
    "\n",
    "def generate_random_agent():\n",
    "    return mutate(net(input_size=SIZE_NET_INPUT), 5)"
   ]
  },
  {
   "cell_type": "code",
   "execution_count": null,
   "metadata": {},
   "outputs": [],
   "source": [
    "def reproduce(agent1, agent2):\n",
    "    new_agent = net(input_size=SIZE_NET_INPUT)\n",
    "    a1_params = list(agent1.parameters())\n",
    "    a2_params = list(agent2.parameters())\n",
    "\n",
    "    child = []\n",
    "    split = np.random.rand()\n",
    "        \n",
    "    for p1l, p2l in zip(a1_params, a2_params):\n",
    "        splitpoint = int(len(p1l)*split)\n",
    "        new_param = nn.parameter.Parameter(torch.cat([p1l[:splitpoint], p2l[splitpoint:]]))\n",
    "        child.append(new_param)\n",
    "\n",
    "    for i, param in enumerate(new_agent.parameters()):\n",
    "        param = child[i]\n",
    "\n",
    "    return new_agent"
   ]
  },
  {
   "cell_type": "code",
   "execution_count": null,
   "metadata": {},
   "outputs": [
    {
     "ename": "NameError",
     "evalue": "name 'net' is not defined",
     "output_type": "error",
     "traceback": [
      "\u001b[1;31m---------------------------------------------------------------------------\u001b[0m",
      "\u001b[1;31mNameError\u001b[0m                                 Traceback (most recent call last)",
      "\u001b[1;32md:\\repositories\\scd\\computational-intelligence\\lab2_nim copy.ipynb Cell 22\u001b[0m line \u001b[0;36m1\n\u001b[0;32m     <a href='vscode-notebook-cell:/d%3A/repositories/scd/computational-intelligence/lab2_nim%20copy.ipynb#X30sZmlsZQ%3D%3D?line=15'>16</a>\u001b[0m max_list \u001b[39m=\u001b[39m []\n\u001b[0;32m     <a href='vscode-notebook-cell:/d%3A/repositories/scd/computational-intelligence/lab2_nim%20copy.ipynb#X30sZmlsZQ%3D%3D?line=16'>17</a>\u001b[0m mean_list \u001b[39m=\u001b[39m []\n\u001b[1;32m---> <a href='vscode-notebook-cell:/d%3A/repositories/scd/computational-intelligence/lab2_nim%20copy.ipynb#X30sZmlsZQ%3D%3D?line=17'>18</a>\u001b[0m population \u001b[39m=\u001b[39m [generate_random_agent() \u001b[39mfor\u001b[39;49;00m _ \u001b[39min\u001b[39;49;00m \u001b[39mrange\u001b[39;49m(POPULATION_SIZE)]\n\u001b[0;32m     <a href='vscode-notebook-cell:/d%3A/repositories/scd/computational-intelligence/lab2_nim%20copy.ipynb#X30sZmlsZQ%3D%3D?line=20'>21</a>\u001b[0m \u001b[39mfor\u001b[39;00m generation \u001b[39min\u001b[39;00m tqdm(\u001b[39mrange\u001b[39m(NUMBER_GENERATIONS)):\n\u001b[0;32m     <a href='vscode-notebook-cell:/d%3A/repositories/scd/computational-intelligence/lab2_nim%20copy.ipynb#X30sZmlsZQ%3D%3D?line=21'>22</a>\u001b[0m     STD \u001b[39m=\u001b[39m \u001b[39m0.1\u001b[39m\n",
      "\u001b[1;32md:\\repositories\\scd\\computational-intelligence\\lab2_nim copy.ipynb Cell 22\u001b[0m line \u001b[0;36m1\n\u001b[0;32m     <a href='vscode-notebook-cell:/d%3A/repositories/scd/computational-intelligence/lab2_nim%20copy.ipynb#X30sZmlsZQ%3D%3D?line=15'>16</a>\u001b[0m max_list \u001b[39m=\u001b[39m []\n\u001b[0;32m     <a href='vscode-notebook-cell:/d%3A/repositories/scd/computational-intelligence/lab2_nim%20copy.ipynb#X30sZmlsZQ%3D%3D?line=16'>17</a>\u001b[0m mean_list \u001b[39m=\u001b[39m []\n\u001b[1;32m---> <a href='vscode-notebook-cell:/d%3A/repositories/scd/computational-intelligence/lab2_nim%20copy.ipynb#X30sZmlsZQ%3D%3D?line=17'>18</a>\u001b[0m population \u001b[39m=\u001b[39m [generate_random_agent() \u001b[39mfor\u001b[39;00m _ \u001b[39min\u001b[39;00m \u001b[39mrange\u001b[39m(POPULATION_SIZE)]\n\u001b[0;32m     <a href='vscode-notebook-cell:/d%3A/repositories/scd/computational-intelligence/lab2_nim%20copy.ipynb#X30sZmlsZQ%3D%3D?line=20'>21</a>\u001b[0m \u001b[39mfor\u001b[39;00m generation \u001b[39min\u001b[39;00m tqdm(\u001b[39mrange\u001b[39m(NUMBER_GENERATIONS)):\n\u001b[0;32m     <a href='vscode-notebook-cell:/d%3A/repositories/scd/computational-intelligence/lab2_nim%20copy.ipynb#X30sZmlsZQ%3D%3D?line=21'>22</a>\u001b[0m     STD \u001b[39m=\u001b[39m \u001b[39m0.1\u001b[39m\n",
      "\u001b[1;32md:\\repositories\\scd\\computational-intelligence\\lab2_nim copy.ipynb Cell 22\u001b[0m line \u001b[0;36m1\n\u001b[0;32m     <a href='vscode-notebook-cell:/d%3A/repositories/scd/computational-intelligence/lab2_nim%20copy.ipynb#X30sZmlsZQ%3D%3D?line=9'>10</a>\u001b[0m \u001b[39mdef\u001b[39;00m \u001b[39mgenerate_random_agent\u001b[39m():\n\u001b[1;32m---> <a href='vscode-notebook-cell:/d%3A/repositories/scd/computational-intelligence/lab2_nim%20copy.ipynb#X30sZmlsZQ%3D%3D?line=10'>11</a>\u001b[0m     \u001b[39mreturn\u001b[39;00m mutate(net(input_size\u001b[39m=\u001b[39mSIZE_NET_INPUT), \u001b[39m5\u001b[39m)\n",
      "\u001b[1;31mNameError\u001b[0m: name 'net' is not defined"
     ]
    }
   ],
   "source": [
    "from tqdm import tqdm\n",
    "import threading\n",
    "import multiprocessing\n",
    "\n",
    "def thread_calculate_score(index, num_threads, population, results):\n",
    "    population_cut = (0 if (len(population) // num_threads) == 0 else 1) + (len(population) // num_threads)\n",
    "    start = index*population_cut\n",
    "    end = min((index+1)*population_cut, len(population))\n",
    "    results[index] = [fitness(lambda x: my_strategy(x, net=network)) \\\n",
    "                        for network in population[start : end]]\n",
    "\n",
    "\n",
    "\n",
    "# run the algo\n",
    "\n",
    "max_list = []\n",
    "mean_list = []\n",
    "population = [generate_random_agent() for _ in range(POPULATION_SIZE)]\n",
    "\n",
    "\n",
    "for generation in tqdm(range(NUMBER_GENERATIONS)):\n",
    "    STD = 0.1\n",
    "    # evaluate current generation\n",
    "    # fitness_scores1 = [fitness(lambda x: my_strategy(x, net=network)) for network in population]\n",
    "\n",
    "    \n",
    "    num_threads = multiprocessing.cpu_count() # num cpu - 1\n",
    "    threads = [None for _ in range(num_threads)]\n",
    "    results = [[] for _ in range(num_threads)]\n",
    "\n",
    "    for index in range(num_threads):\n",
    "        x = threading.Thread(target=thread_calculate_score, args=(index, num_threads, population, results))\n",
    "        threads[index] = x\n",
    "        x.start()\n",
    "\n",
    "    for index, thread in enumerate(threads):\n",
    "        thread.join()\n",
    "\n",
    "    fitness_scores = []\n",
    "    for i in range(num_threads):\n",
    "        fitness_scores += results[i]\n",
    "\n",
    "   \n",
    "    print(\"MAX_SCORE: \", max(fitness_scores), \" | \", end='')\n",
    "    max_list.append( max(fitness_scores) )\n",
    "    print(\"MEAN_SCORE\", np.array(fitness_scores).mean())\n",
    "    mean_list.append( np.array(fitness_scores).mean() )\n",
    "\n",
    "\n",
    "    # next gen parents\n",
    "    selected_size = POPULATION_SIZE//4\n",
    "    unselected_size = POPULATION_SIZE - selected_size\n",
    "    probabilities = [(score-min(fitness_scores)) / (max(fitness_scores)-min(fitness_scores)) for score in fitness_scores]\n",
    "    probabilities = np.array(probabilities)/sum(probabilities)\n",
    "    selected_parents = [population[i] for i in np.random.choice(np.arange(POPULATION_SIZE), \\\n",
    "                                                                size=selected_size, \\\n",
    "                                                                replace=False,\\\n",
    "                                                                p=probabilities)]\n",
    "\n",
    "\n",
    "    # create next gen\n",
    "    new_population = []\n",
    "    \n",
    "    for i in range(unselected_size):\n",
    "        agent1 = random.choice(selected_parents)\n",
    "        agent2 = random.choice(selected_parents)\n",
    "        new_population.append(mutate(reproduce(agent1, agent2)))\n",
    "\n",
    "    for i in range(len(selected_parents)): \n",
    "        new_population.append(selected_parents[i])\n",
    "\n",
    "    population = new_population\n",
    "\n"
   ]
  },
  {
   "cell_type": "code",
   "execution_count": null,
   "metadata": {},
   "outputs": [
    {
     "name": "stdout",
     "output_type": "stream",
     "text": [
      "\n",
      "Fitness    -> 1.0\n"
     ]
    }
   ],
   "source": [
    "\n",
    "# print best agent\n",
    "fitness_scores = [fitness(lambda x: my_strategy(x, net=network)) for network in population]\n",
    "i_best = np.argmax(fitness_scores)\n",
    "best_net = population[i_best]\n",
    "print()\n",
    "#print(\"Best Agent ->\", best_agent_weights)\n",
    "print(\"Fitness    ->\", fitness(lambda x: my_strategy(x, net=best_net), num_matches=1000))"
   ]
  },
  {
   "cell_type": "code",
   "execution_count": null,
   "metadata": {},
   "outputs": [
    {
     "data": {
      "image/png": "[encoded data removed]",
      "text/plain": [
       "<Figure size 640x480 with 1 Axes>"
      ]
     },
     "metadata": {},
     "output_type": "display_data"
    }
   ],
   "source": [
    "import matplotlib.pyplot as plt\n",
    "\n",
    "plt.plot(max_list)\n",
    "plt.plot(mean_list)\n",
    "plt.show()"
   ]
  },
  {
   "cell_type": "code",
   "execution_count": null,
   "metadata": {},
   "outputs": [
    {
     "data": {
      "text/plain": [
       "1.0"
      ]
     },
     "execution_count": 117,
     "metadata": {},
     "output_type": "execute_result"
    }
   ],
   "source": [
    "fitness(pure_random, num_matches=1000)"
   ]
  }
 ],
 "metadata": {
  "kernelspec": {
   "display_name": "Python 3.10.7 ('ci22-dPIXJ0_o-py3.10')",
   "language": "python",
   "name": "python3"
  },
  "language_info": {
   "codemirror_mode": {
    "name": "ipython",
    "version": 3
   },
   "file_extension": ".py",
   "mimetype": "text/x-python",
   "name": "python",
   "nbconvert_exporter": "python",
   "pygments_lexer": "ipython3",
   "version": "3.11.3"
  },
  "vscode": {
   "interpreter": {
    "hash": "10197e8e2f2aa67e2c349105091c77f4cd384fce4877865f002d9ec653f96bc0"
   }
  }
 },
 "nbformat": 4,
 "nbformat_minor": 2
}
