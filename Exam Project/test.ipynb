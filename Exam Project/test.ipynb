{
 "cells": [
  {
   "cell_type": "code",
   "execution_count": 3,
   "metadata": {},
   "outputs": [
    {
     "name": "stdout",
     "output_type": "stream",
     "text": [
      "Defaulting to user installation because normal site-packages is not writeable\n",
      "Collecting stable-baselines3\n",
      "  Using cached stable_baselines3-2.2.1-py3-none-any.whl (181 kB)\n",
      "Requirement already satisfied: gymnasium<0.30,>=0.28.1 in c:\\users\\florentin\\appdata\\roaming\\python\\python311\\site-packages (from stable-baselines3) (0.29.1)\n",
      "Requirement already satisfied: numpy>=1.20 in c:\\users\\florentin\\appdata\\roaming\\python\\python311\\site-packages (from stable-baselines3) (1.26.2)\n",
      "Requirement already satisfied: torch>=1.13 in c:\\users\\florentin\\appdata\\roaming\\python\\python311\\site-packages (from stable-baselines3) (2.0.1+cu118)\n",
      "Requirement already satisfied: cloudpickle in c:\\users\\florentin\\appdata\\roaming\\python\\python311\\site-packages (from stable-baselines3) (3.0.0)\n",
      "Requirement already satisfied: pandas in c:\\users\\florentin\\appdata\\roaming\\python\\python311\\site-packages (from stable-baselines3) (2.1.3)\n",
      "Requirement already satisfied: matplotlib in c:\\users\\florentin\\appdata\\roaming\\python\\python311\\site-packages (from stable-baselines3) (3.8.2)\n",
      "Requirement already satisfied: typing-extensions>=4.3.0 in c:\\users\\florentin\\appdata\\roaming\\python\\python311\\site-packages (from gymnasium<0.30,>=0.28.1->stable-baselines3) (4.8.0)\n",
      "Requirement already satisfied: farama-notifications>=0.0.1 in c:\\users\\florentin\\appdata\\roaming\\python\\python311\\site-packages (from gymnasium<0.30,>=0.28.1->stable-baselines3) (0.0.4)\n",
      "Requirement already satisfied: filelock in c:\\users\\florentin\\appdata\\roaming\\python\\python311\\site-packages (from torch>=1.13->stable-baselines3) (3.13.1)\n",
      "Requirement already satisfied: sympy in c:\\users\\florentin\\appdata\\roaming\\python\\python311\\site-packages (from torch>=1.13->stable-baselines3) (1.12)\n",
      "Requirement already satisfied: networkx in c:\\users\\florentin\\appdata\\roaming\\python\\python311\\site-packages (from torch>=1.13->stable-baselines3) (3.2.1)\n",
      "Requirement already satisfied: jinja2 in c:\\users\\florentin\\appdata\\roaming\\python\\python311\\site-packages (from torch>=1.13->stable-baselines3) (3.1.2)\n",
      "Requirement already satisfied: contourpy>=1.0.1 in c:\\users\\florentin\\appdata\\roaming\\python\\python311\\site-packages (from matplotlib->stable-baselines3) (1.2.0)\n",
      "Requirement already satisfied: cycler>=0.10 in c:\\users\\florentin\\appdata\\roaming\\python\\python311\\site-packages (from matplotlib->stable-baselines3) (0.12.1)\n",
      "Requirement already satisfied: fonttools>=4.22.0 in c:\\users\\florentin\\appdata\\roaming\\python\\python311\\site-packages (from matplotlib->stable-baselines3) (4.45.1)\n",
      "Requirement already satisfied: kiwisolver>=1.3.1 in c:\\users\\florentin\\appdata\\roaming\\python\\python311\\site-packages (from matplotlib->stable-baselines3) (1.4.5)\n",
      "Requirement already satisfied: packaging>=20.0 in c:\\users\\florentin\\appdata\\roaming\\python\\python311\\site-packages (from matplotlib->stable-baselines3) (23.2)\n",
      "Requirement already satisfied: pillow>=8 in c:\\users\\florentin\\appdata\\roaming\\python\\python311\\site-packages (from matplotlib->stable-baselines3) (10.1.0)\n",
      "Requirement already satisfied: pyparsing>=2.3.1 in c:\\users\\florentin\\appdata\\roaming\\python\\python311\\site-packages (from matplotlib->stable-baselines3) (3.1.1)\n",
      "Requirement already satisfied: python-dateutil>=2.7 in c:\\users\\florentin\\appdata\\roaming\\python\\python311\\site-packages (from matplotlib->stable-baselines3) (2.8.2)\n",
      "Requirement already satisfied: pytz>=2020.1 in c:\\users\\florentin\\appdata\\roaming\\python\\python311\\site-packages (from pandas->stable-baselines3) (2023.3.post1)\n",
      "Requirement already satisfied: tzdata>=2022.1 in c:\\users\\florentin\\appdata\\roaming\\python\\python311\\site-packages (from pandas->stable-baselines3) (2023.3)\n",
      "Requirement already satisfied: six>=1.5 in c:\\users\\florentin\\appdata\\roaming\\python\\python311\\site-packages (from python-dateutil>=2.7->matplotlib->stable-baselines3) (1.16.0)\n",
      "Requirement already satisfied: MarkupSafe>=2.0 in c:\\users\\florentin\\appdata\\roaming\\python\\python311\\site-packages (from jinja2->torch>=1.13->stable-baselines3) (2.1.3)\n",
      "Requirement already satisfied: mpmath>=0.19 in c:\\users\\florentin\\appdata\\roaming\\python\\python311\\site-packages (from sympy->torch>=1.13->stable-baselines3) (1.3.0)\n",
      "Installing collected packages: stable-baselines3\n",
      "Successfully installed stable-baselines3-2.2.1\n"
     ]
    },
    {
     "name": "stderr",
     "output_type": "stream",
     "text": [
      "\n",
      "[notice] A new release of pip is available: 23.1.2 -> 23.3.2\n",
      "[notice] To update, run: python.exe -m pip install --upgrade pip\n"
     ]
    }
   ],
   "source": [
    "!pip install stable-baselines3"
   ]
  },
  {
   "cell_type": "code",
   "execution_count": 20,
   "metadata": {},
   "outputs": [
    {
     "name": "stdout",
     "output_type": "stream",
     "text": [
      "Wrapping the env with a `Monitor` wrapper\n",
      "Wrapping the env in a DummyVecEnv.\n"
     ]
    },
    {
     "data": {
      "text/plain": [
       "(tensor([17], device='cuda:0'),\n",
       " tensor([[5.6430]], device='cuda:0', grad_fn=<AddmmBackward0>),\n",
       " tensor([-0.7942], device='cuda:0', grad_fn=<SqueezeBackward1>))"
      ]
     },
     "execution_count": 20,
     "metadata": {},
     "output_type": "execute_result"
    }
   ],
   "source": [
    "import random\n",
    "import numpy as np\n",
    "import tqdm\n",
    "import torch\n",
    "\n",
    "from game import Game, Move, Player\n",
    "from Agent import PPOAgent\n",
    "from QuixoEnv import QuixoEnv\n",
    "from ActionDecoder import ActionDecoder\n",
    "from StateEncoder import StateEncoder\n",
    "\n",
    "\n",
    "g = Game()\n",
    "b = g.get_board()\n",
    "\n",
    "me_player = \"models/checkpoints_selfplay/ppo_last_selfplay.ai\"\n",
    "p1 = PPOAgent(me_player)\n",
    "\n",
    "state = p1.state_encoder(b, 0)\n",
    "policy = p1.model.policy\n",
    "policy(torch.Tensor(state, deterministic=True).cuda())\n"
   ]
  },
  {
   "cell_type": "code",
   "execution_count": 155,
   "metadata": {},
   "outputs": [
    {
     "name": "stdout",
     "output_type": "stream",
     "text": [
      "True\n",
      "[[[ 0  0  0  0  0]\n",
      "  [ 0  0  0  0  0]\n",
      "  [ 0  0  0  0  0]\n",
      "  [ 0  0  0  0  0]\n",
      "  [-1  0  0  0  0]]]\n",
      "====================\n",
      "done=False\n",
      "((0, 3), <Move.RIGHT: 3>)\n",
      "[[[ 0  0  0 -1  0]\n",
      "  [ 0  0  0  0  0]\n",
      "  [ 0  0  0  0  0]\n",
      "  [ 0  0  0  0  1]\n",
      "  [-1  0  0  0  0]]]\n",
      "====================\n",
      "done=False\n",
      "((4, 0), <Move.LEFT: 2>)\n",
      "[[[ 1  0  0 -1 -1]\n",
      "  [ 0  0  0  0  0]\n",
      "  [ 0  0  0  0  0]\n",
      "  [ 0  0  0  0  1]\n",
      "  [-1  0  0  0  0]]]\n"
     ]
    }
   ],
   "source": [
    "env = QuixoEnv()\n",
    "ad = ActionDecoder()\n",
    "print(env.adversary_first)\n",
    "print(env._get_state())\n",
    "\n",
    "print(\"=\"*20)\n",
    "obs, _, done, _, _ = env.step(10)\n",
    "print(f\"{done=}\")\n",
    "print(ad(10))\n",
    "print(obs)\n",
    "\n",
    "print(\"=\"*20)\n",
    "obs, _, done, _, _ = env.step(32)\n",
    "print(f\"{done=}\")\n",
    "print(ad(32))\n",
    "print(obs)\n"
   ]
  }
 ],
 "metadata": {
  "kernelspec": {
   "display_name": "venv",
   "language": "python",
   "name": "python3"
  },
  "language_info": {
   "codemirror_mode": {
    "name": "ipython",
    "version": 3
   },
   "file_extension": ".py",
   "mimetype": "text/x-python",
   "name": "python",
   "nbconvert_exporter": "python",
   "pygments_lexer": "ipython3",
   "version": "3.11.3"
  }
 },
 "nbformat": 4,
 "nbformat_minor": 2
}
