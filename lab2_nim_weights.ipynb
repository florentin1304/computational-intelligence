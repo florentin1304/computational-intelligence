{
 "cells": [
  {
   "cell_type": "markdown",
   "metadata": {
    "pycharm": {
     "name": "#%% md\n"
    }
   },
   "source": [
    "Copyright **`(c)`** 2022 Giovanni Squillero `<squillero@polito.it>`  \n",
    "[`https://github.com/squillero/computational-intelligence`](https://github.com/squillero/computational-intelligence)  \n",
    "Free for personal or classroom use; see [`LICENSE.md`](https://github.com/squillero/computational-intelligence/blob/master/LICENSE.md) for details.\n"
   ]
  },
  {
   "cell_type": "markdown",
   "metadata": {
    "pycharm": {
     "name": "#%%\n"
    }
   },
   "source": [
    "# Lab 3: ES\n",
    "\n",
    "## Task\n",
    "\n",
    "Write agents able to play [_Nim_](https://en.wikipedia.org/wiki/Nim), with an arbitrary number of rows and an upper bound $k$ on the number of objects that can be removed in a turn (a.k.a., _subtraction game_).\n",
    "\n",
    "The goal of the game is to **avoid** taking the last object.\n",
    "\n",
    "- Task2.1: An agent using fixed rules based on _nim-sum_ (i.e., an _expert system_)\n",
    "- Task2.2: An agent using evolved rules using ES\n",
    "\n",
    "## Instructions\n",
    "\n",
    "- Create the directory `lab2` inside the course repo\n",
    "- Put a `README.md` and your solution (all the files, code and auxiliary data if needed)\n",
    "\n",
    "## Notes\n",
    "\n",
    "- Working in group is not only allowed, but recommended (see: [Ubuntu](https://en.wikipedia.org/wiki/Ubuntu_philosophy) and [Cooperative Learning](https://files.eric.ed.gov/fulltext/EJ1096789.pdf)). Collaborations must be explicitly declared in the `README.md`.\n",
    "- [Yanking](https://www.emacswiki.org/emacs/KillingAndYanking) from the internet is allowed, but sources must be explicitly declared in the `README.md`.\n"
   ]
  },
  {
   "cell_type": "code",
   "execution_count": 128,
   "metadata": {},
   "outputs": [],
   "source": [
    "import logging\n",
    "from pprint import pprint, pformat\n",
    "from collections import namedtuple\n",
    "import random\n",
    "from copy import deepcopy\n",
    "from functools import reduce\n"
   ]
  },
  {
   "cell_type": "markdown",
   "metadata": {},
   "source": [
    "## The _Nim_ and _Nimply_ classes\n"
   ]
  },
  {
   "cell_type": "code",
   "execution_count": 129,
   "metadata": {},
   "outputs": [],
   "source": [
    "Nimply = namedtuple(\"Nimply\", \"row, num_objects\")"
   ]
  },
  {
   "cell_type": "code",
   "execution_count": 130,
   "metadata": {},
   "outputs": [],
   "source": [
    "class Nim:\n",
    "    def __init__(self, num_rows: int, k: int = None) -> None:\n",
    "        self._rows = [i * 2 + 1 for i in range(num_rows)]\n",
    "        self._k = k\n",
    "\n",
    "    def __bool__(self):\n",
    "        return sum(self._rows) > 0\n",
    "\n",
    "    def __str__(self):\n",
    "        return \"<\" + \" \".join(str(_) for _ in self._rows) + \">\"\n",
    "\n",
    "    @property\n",
    "    def rows(self) -> tuple:\n",
    "        return tuple(self._rows)\n",
    "\n",
    "    def nimming(self, ply: Nimply) -> None:\n",
    "        row, num_objects = ply\n",
    "        assert self._rows[row] >= num_objects\n",
    "        assert self._k is None or num_objects <= self._k\n",
    "        self._rows[row] -= num_objects"
   ]
  },
  {
   "cell_type": "markdown",
   "metadata": {},
   "source": [
    "- Class `Nim` is defined, with an initializer method `__init__`, three methods `__bool__`, `__str__`, and `nimming`, and a property `rows`.\n",
    "- The `__init__` method takes two arguments: `num_rows` and `k` (with a default value of `None`), and initializes `self._rows` with a list of odd numbers and stores `k` in `self._k`.\n",
    "- The `__bool__` method returns a boolean value indicating whether the sum of the numbers in `self._rows` is greater than 0.\n",
    "- The `__str__` method returns a string representation of the `Nim` instance by joining the numbers in `self._rows` into a string enclosed in angle brackets.\n",
    "- The `rows` property returns a tuple containing the numbers in `self._rows`.\n",
    "- The `nimming` method takes a `Nimply` instance (or a tuple), unpacks it into `row` and `num_objects`, and performs two assertions. It subtracts `num_objects` from the number of objects in the specified row if both assertions pass.\n"
   ]
  },
  {
   "cell_type": "markdown",
   "metadata": {},
   "source": [
    "## Sample (and silly) startegies\n"
   ]
  },
  {
   "cell_type": "code",
   "execution_count": 131,
   "metadata": {},
   "outputs": [],
   "source": [
    "def pure_random(state: Nim) -> Nimply:\n",
    "    \"\"\"A completely random move\"\"\"\n",
    "    row = random.choice(\n",
    "        [r for r, c in enumerate(state.rows) if c > 0]\n",
    "    )  # select random non empty row\n",
    "    num_objects = random.randint(\n",
    "        1, state.rows[row]\n",
    "    )  # select random number of objects to be removed from row\n",
    "    return Nimply(\n",
    "        row, num_objects\n",
    "    )  # return new Nimply object for that row with updated number of objects"
   ]
  },
  {
   "cell_type": "code",
   "execution_count": 132,
   "metadata": {},
   "outputs": [],
   "source": [
    "def gabriele(state: Nim) -> Nimply:\n",
    "    \"\"\"Pick always the maximum possible number of the lowest row\"\"\"\n",
    "    possible_moves = [\n",
    "        (r, o) for r, c in enumerate(state.rows) for o in range(1, c + 1)\n",
    "    ]  # create list of all possible moves\n",
    "    return Nimply(\n",
    "        *max(possible_moves, key=lambda m: (-m[0], m[1]))\n",
    "    )  # return Nimply object with maximum number of objects from lowest row"
   ]
  },
  {
   "cell_type": "code",
   "execution_count": 133,
   "metadata": {},
   "outputs": [],
   "source": [
    "def adaptive1(state: Nim) -> Nimply:\n",
    "    \"\"\"A strategy that can adapt its parameters\"\"\"\n",
    "    genome = {\"love_small\": 0.5}  # set initial value for love_small\n",
    "\n",
    "    if state.rows[0] <= 3:  # if lowest row has 3 or less objects\n",
    "        genome[\"love_small\"] = 0.9  # increase love_small\n",
    "    elif state.rows[0] >= 7:  # if lowest row has 7 or more objects\n",
    "        genome[\"love_small\"] = 0.1  # decrease love_small\n",
    "\n",
    "    row = min(\n",
    "        range(len(state.rows)), key=lambda r: state.rows[r]\n",
    "    )  # select row with lowest number of objects\n",
    "\n",
    "    num_objects = int(\n",
    "        genome[\"love_small\"] * state.rows[row]\n",
    "    )  # select number of objects to be removed from row\n",
    "\n",
    "    return Nimply(\n",
    "        row, num_objects\n",
    "    )  # return Nimply object for that row with updated number of objects"
   ]
  },
  {
   "cell_type": "code",
   "execution_count": 134,
   "metadata": {},
   "outputs": [],
   "source": [
    "import numpy as np\n",
    "\n",
    "\n",
    "def nim_sum(state: Nim) -> int:\n",
    "    \"\"\"\n",
    "    takes a `Nim` object and calculates the Nim-sum of the current game\n",
    "    state by converting the counts of objects in the rows to binary, summing\n",
    "    them, and taking the modulo 2 to obtain an integer Nim-sum\n",
    "    \"\"\"\n",
    "    tmp = np.array([tuple(int(x) for x in f\"{c:032b}\") for c in state.rows])\n",
    "    xor = tmp.sum(axis=0) % 2\n",
    "    return int(\"\".join(str(_) for _ in xor), base=2)\n",
    "\n",
    "\n",
    "def analize(raw: Nim) -> dict:\n",
    "    \"\"\"\n",
    "    takes a `Nim` object and returns a dictionary with a single key,\n",
    "    \"possible_moves,\" which maps each possible move to its resulting Nim-sum. To\n",
    "    calculate this, it iterates over all possible moves, makes a deep copy of\n",
    "    the game state, applies the move to the copy, and calculates the Nim-sum of\n",
    "    the resulting state\n",
    "    \"\"\"\n",
    "    cooked = dict()\n",
    "    cooked[\"possible_moves\"] = dict()\n",
    "    for ply in (Nimply(r, o) for r, c in enumerate(raw.rows) for o in range(1, c + 1)):\n",
    "        tmp = deepcopy(raw)\n",
    "        tmp.nimming(ply)\n",
    "        cooked[\"possible_moves\"][ply] = nim_sum(tmp)\n",
    "    return cooked\n",
    "\n",
    "\n",
    "def optimal(state: Nim) -> Nimply:\n",
    "    \"\"\"\n",
    "    takes a `Nim` object and returns an optimal move by analyzing the\n",
    "    current game state to get the Nim-sums of all possible moves. It selects\n",
    "    moves that result in a non-zero Nim-sum, representing \"winning\" moves.\n",
    "    If no such moves exist, it selects all moves and chooses one at random\n",
    "    to return as the optimal move\n",
    "    \"\"\"\n",
    "\n",
    "    # from archimedes-lab.org:\n",
    "\n",
    "    # To win at Nim-game, always make a move, whenever possible, that leaves a\n",
    "    # configuration with a ZERO “Nim sum”, that is with ZERO unpaired multiple(s)\n",
    "    # of 4, 2 or 1. Otherwise, your opponent has the advantage, and you have to\n",
    "    # depend on his/her committing an error in order to win.\n",
    "\n",
    "    analysis = analize(state)\n",
    "    logging.debug(f\"analysis:\\n{pformat(analysis)}\")\n",
    "    spicy_moves = [ply for ply, ns in analysis[\"possible_moves\"].items() if ns != 0]\n",
    "    if not spicy_moves:\n",
    "        spicy_moves = list(analysis[\"possible_moves\"].keys())\n",
    "    ply = random.choice(spicy_moves)\n",
    "    return ply"
   ]
  },
  {
   "cell_type": "code",
   "execution_count": 135,
   "metadata": {},
   "outputs": [],
   "source": [
    "def my_strategy(nim, weights):\n",
    "    \n",
    "    # Pija la riga\n",
    "    pick_lower_threshold = weights[0]\n",
    "    pick_lower = np.random.rand() < pick_lower_threshold\n",
    "\n",
    "    non_zero_rows = [i for i in range(len(nim.rows)) if nim.rows[i] > 0]\n",
    "    i_row = abs(np.min( (1 if pick_lower else -1 )*np.array(non_zero_rows) ))\n",
    "\n",
    "    # Pija il numero di nims\n",
    "    pick_threshold = weights[1]\n",
    "    \n",
    "    num_objects = 1\n",
    "    for i in range(nim.rows[i_row]-1):\n",
    "        pick = np.random.rand() < pick_threshold\n",
    "        num_objects += 1 if pick else 0\n",
    "\n",
    "    return Nimply(i_row, num_objects)\n",
    "\n",
    "#Best Agent -> [1.         0.         0.         1.         0.71682349]\n",
    "NUM_WEIGHTS = 5\n",
    "def rule_based_strategy(nim, weights):\n",
    "    #### CHOOSE ROWS\n",
    "    pick_odd_threshold = weights[0]\n",
    "    pick_primehaving_threshold = weights[1]\n",
    "\n",
    "    pick_odd = np.random.rand() < pick_odd_threshold\n",
    "    pick_prime = np.random.rand() < pick_primehaving_threshold\n",
    "\n",
    "    take_rows = []\n",
    "    feasible_rows = [True if x > 0 else False for i, x in enumerate(nim.rows)]\n",
    "    take_rows.append(feasible_rows)\n",
    "    if pick_odd:\n",
    "        take_rows.append([True if x % 2 != 0 else False for i, x in enumerate(nim.rows)])\n",
    "    if pick_prime:\n",
    "        primes = [2,3,5,7,11,13,17,19]\n",
    "        take_rows.append([True if x in primes else False for i, x in enumerate(nim.rows)])\n",
    "    \n",
    "    good_rows = reduce(np.logical_and, take_rows)\n",
    "    good_rows_index = [i for i,x in enumerate(good_rows) if x == True]\n",
    "    \n",
    "    if good_rows_index == []:\n",
    "        i_row = np.random.choice([i for i,x in enumerate(feasible_rows) if x == True])\n",
    "    else:\n",
    "        pick_random_threshold = weights[2]\n",
    "        pick_min_threshold = weights[3]\n",
    "        \n",
    "        pick_random = np.random.rand() < pick_random_threshold\n",
    "        if pick_random:\n",
    "            i_row = np.random.choice(good_rows_index)\n",
    "        else:\n",
    "            pick_min = np.random.rand() < pick_min_threshold\n",
    "            i_row = sorted(good_rows_index, key = lambda i: nim.rows[i], reverse=not(pick_min))[0]\n",
    "\n",
    "    ### Pick Num Objects\n",
    "\n",
    "    pick_all_threshold = weights[4]\n",
    "    pick_all = np.random.rand() < pick_all_threshold\n",
    "    how_many_objects = nim.rows[i_row] if pick_all else 1\n",
    "    #how_many_perc = weights[4]\n",
    "    #how_many_objects = max(1, round(how_many_perc*nim.rows[i_row]) )\n",
    "    #print(\"ROWS:\", nim.rows)\n",
    "    #print(\"ROW:\",i_row)\n",
    "    #print(\"NUM:\",nim.rows[i_row])\n",
    "\n",
    "    return Nimply(i_row, how_many_objects)\n"
   ]
  },
  {
   "cell_type": "markdown",
   "metadata": {},
   "source": [
    "## Oversimplified match\n",
    "\n",
    "- The line `logging.getLogger().setLevel(logging.INFO)` sets the logging level to `INFO`, indicating that all logging messages with level `INFO` or higher will be displayed.\n",
    "\n",
    "- The `strategy` tuple contains two functions, `optimal` and `pure_random`, which are used to determine the moves of the two players.\n",
    "\n",
    "- The `while nim:` loop continues as long as the game is not over, meaning there are objects remaining in the game. Inside the loop, the current player's strategy function is invoked with the current game state to determine the next move (`ply = strategy[player](nim)`). This move is then applied to the game (`nim.nimming(ply)`), and both the game state and the move are logged. Finally, the current player is switched using `player = 1 - player`.\n",
    "\n",
    "- After the loop, the final game state is logged, along with the player who won the game.\n"
   ]
  },
  {
   "cell_type": "code",
   "execution_count": 136,
   "metadata": {},
   "outputs": [
    {
     "name": "stdout",
     "output_type": "stream",
     "text": [
      "<lambda>\n",
      "(1, 3, 5, 7, 9)\n",
      "Nimply(row=4, num_objects=3)\n",
      "pure_random\n",
      "(1, 3, 5, 7, 6)\n",
      "Nimply(row=1, num_objects=2)\n",
      "<lambda>\n",
      "(1, 1, 5, 7, 6)\n",
      "Nimply(row=4, num_objects=4)\n",
      "pure_random\n",
      "(1, 1, 5, 7, 2)\n",
      "Nimply(row=3, num_objects=3)\n",
      "<lambda>\n",
      "(1, 1, 5, 4, 2)\n",
      "Nimply(row=4, num_objects=1)\n",
      "pure_random\n",
      "(1, 1, 5, 4, 1)\n",
      "Nimply(row=2, num_objects=1)\n",
      "<lambda>\n",
      "(1, 1, 4, 4, 1)\n",
      "Nimply(row=0, num_objects=1)\n",
      "pure_random\n",
      "(0, 1, 4, 4, 1)\n",
      "Nimply(row=3, num_objects=2)\n",
      "<lambda>\n",
      "(0, 1, 4, 2, 1)\n",
      "Nimply(row=4, num_objects=1)\n",
      "pure_random\n",
      "(0, 1, 4, 2, 0)\n",
      "Nimply(row=2, num_objects=4)\n",
      "<lambda>\n",
      "(0, 1, 0, 2, 0)\n",
      "Nimply(row=1, num_objects=1)\n",
      "pure_random\n",
      "(0, 0, 0, 2, 0)\n",
      "Nimply(row=3, num_objects=2)\n",
      "0.0\n"
     ]
    }
   ],
   "source": [
    "logging.getLogger().setLevel(logging.INFO)\n",
    "\n",
    "# strategy = (optimal, pure_random)\n",
    "strategy = (lambda x: my_strategy(x, weights=np.array([0.5 for _ in range(NUM_WEIGHTS)])),\\\n",
    "             pure_random)\n",
    "# strategy = (optimal, adaptive1)\n",
    "\n",
    "res = []\n",
    "for _ in range(1):\n",
    "    nim = Nim(5)\n",
    "    player = 0\n",
    "    while nim:\n",
    "        ply = strategy[player](nim)\n",
    "        print(strategy[player].__name__)\n",
    "        print(nim.rows)\n",
    "        print(ply)\n",
    "        nim.nimming(ply)\n",
    "        player = 1 - player\n",
    "    res.append(player)\n",
    "    # logging.info(f\"status: Player {player} won using {strategy[player].__name__} startegy!\")\n",
    "\n",
    "print(np.array(res).mean())"
   ]
  },
  {
   "cell_type": "markdown",
   "metadata": {},
   "source": [
    "# TEST\n",
    "\n",
    "Longest Nim Match is if every player takes away only one stick per turn -> numbersticks-1\n"
   ]
  },
  {
   "cell_type": "code",
   "execution_count": 137,
   "metadata": {},
   "outputs": [],
   "source": [
    "# evolutionary params\n",
    "POPULATION_SIZE = 50\n",
    "MUTATION_RATE = 0.15\n",
    "NUMBER_GENERATIONS = 150\n",
    "\n",
    "# game params\n",
    "NIM_DIM = 5\n",
    "# number on matches in fitness\n",
    "FITNESS_MATCHES = 500\n",
    "\n",
    "VS_AGENT = pure_random\n"
   ]
  },
  {
   "cell_type": "code",
   "execution_count": 138,
   "metadata": {},
   "outputs": [],
   "source": [
    "def nim_match(agent1):\n",
    "    strategy = (agent1, VS_AGENT)\n",
    "\n",
    "    nim = Nim(5)\n",
    "    player = random.randint(0, 1)\n",
    "    number_moves = 0\n",
    "    while nim:\n",
    "        ply = strategy[player](nim)\n",
    "        nim.nimming(ply)\n",
    "        player = 1 - player\n",
    "\n",
    "    return 1 - player  # 1 if agent won, 0 if expert won\n"
   ]
  },
  {
   "cell_type": "code",
   "execution_count": 139,
   "metadata": {},
   "outputs": [],
   "source": [
    "def fitness(agent, num_matches=FITNESS_MATCHES):\n",
    "    # plays against expert by exectuing in order the moves of the agent and the expert agent\n",
    "    # fitness is number of matches won by agent with max 10 matches\n",
    "    runs = [nim_match(agent) for _ in range(num_matches)]\n",
    "    return np.array(runs).mean()"
   ]
  },
  {
   "cell_type": "code",
   "execution_count": 140,
   "metadata": {},
   "outputs": [],
   "source": [
    "def mutate(agent):\n",
    "    # # swap two move strategies\n",
    "    # if random.random() < MUTATION_RATE:\n",
    "    #     swap_index1, swap_index2 = random.sample(range(MAX_NUMBER_MOVES), 2)\n",
    "    #     agent[swap_index1], agent[swap_index2] = (\n",
    "    #         agent[swap_index2],\n",
    "    #         agent[swap_index1],\n",
    "    #     )\n",
    "\n",
    "    # change one move strategy to another strategy\n",
    "    \n",
    "    if random.random() < MUTATION_RATE:\n",
    "        agent[np.random.randint(NUM_WEIGHTS)] += np.random.normal(loc=0.0, scale=0.2, size=1)\n",
    "\n",
    "\n",
    "    return agent\n",
    "\n",
    "def generate_random_agent():\n",
    "    return mutate(np.array([0.5 for _ in range(NUM_WEIGHTS)]))\n",
    "    #return mutate(np.random.rand(NUM_WEIGHTS))"
   ]
  },
  {
   "cell_type": "code",
   "execution_count": 141,
   "metadata": {},
   "outputs": [],
   "source": [
    "def reproduce(agent1, agent2):\n",
    "    # crossover\n",
    "    # random split of the two agents and then concatenate them\n",
    "    agent1_index = random.randint(0, NUM_WEIGHTS - 1)\n",
    "    return np.concatenate((agent1[:agent1_index], agent2[agent1_index:]))\n",
    "    #return (agent1 + agent2)/2"
   ]
  },
  {
   "cell_type": "code",
   "execution_count": 142,
   "metadata": {},
   "outputs": [
    {
     "name": "stderr",
     "output_type": "stream",
     "text": [
      "C:\\Users\\User\\AppData\\Local\\Temp\\ipykernel_24732\\1302525233.py:13: DeprecationWarning: Conversion of an array with ndim > 0 to a scalar is deprecated, and will error in future. Ensure you extract a single element from your array before performing this operation. (Deprecated NumPy 1.25.)\n",
      "  agent[np.random.randint(NUM_WEIGHTS)] += np.random.normal(loc=0.0, scale=0.2, size=1)\n",
      "100%|██████████| 150/150 [12:24<00:00,  4.96s/it]\n"
     ]
    }
   ],
   "source": [
    "from tqdm import tqdm\n",
    "import os \n",
    "import threading\n",
    "\n",
    "# run the algo\n",
    "def thread_fitness(index, num_threads, population, result):\n",
    "    l_pop = len(population)\n",
    "    slice_size = 1 + (l_pop // num_threads)\n",
    "    start = index*slice_size\n",
    "    end = min(l_pop, (index+1)*slice_size)\n",
    "    fitness_scores = [fitness(lambda x: rule_based_strategy(x, weights=weights)) for weights in population[start:end]]\n",
    "    result[index] = fitness_scores\n",
    "\n",
    "population = [generate_random_agent() for _ in range(POPULATION_SIZE)]\n",
    "population = [np.clip(a, 0, 1) for a in population]\n",
    "\n",
    "max_hist = []\n",
    "mean_hist = []\n",
    "\n",
    "for generation in tqdm(range(NUMBER_GENERATIONS)):\n",
    "    # evaluate current generation\n",
    "    fitness_scores = [fitness(lambda x: rule_based_strategy(x, weights=weights)) for weights in population]\n",
    "    \n",
    "    # n_threads = os.cpu_count()\n",
    "    # result = [[] for _ in range(n_threads)]\n",
    "    # threads = [None for _ in range(n_threads)]\n",
    " \n",
    "    # for index in range(n_threads):\n",
    "    #     x = threading.Thread(target=thread_fitness, args=(index, n_threads, population, result))\n",
    "    #     threads[index] = x\n",
    "    #     x.start()\n",
    "\n",
    "    # for index, thread in enumerate(threads):\n",
    "    #     thread.join()\n",
    "\n",
    "    # fitness_scores = []\n",
    "    # for scores in result:\n",
    "    #     fitness_scores += scores\n",
    "\n",
    "    # next gen parents\n",
    "    num_parents = POPULATION_SIZE//4\n",
    "    children = 2*(POPULATION_SIZE - num_parents)//3\n",
    "    new_people = POPULATION_SIZE - num_parents - children\n",
    "\n",
    "    selected_parents_i = np.argsort(fitness_scores)[::-1][:num_parents]\n",
    "    selected_parents = [population[i] for i in selected_parents_i]\n",
    "    #random.choices(\n",
    "    #    population, weights=fitness_scores, k=num_parents\n",
    "    #)\n",
    "\n",
    "    # create next gen\n",
    "    new_population = []\n",
    "    max_hist.append(np.array(fitness_scores).max())\n",
    "    mean_hist.append(np.array(fitness_scores).mean())\n",
    "    \n",
    "    for i in range(children):\n",
    "        agent1 = random.choice(selected_parents)\n",
    "        agent2 = random.choice(selected_parents)\n",
    "        new_population.append(mutate(reproduce(agent1, agent2)))\n",
    "\n",
    "    for i in range(num_parents): \n",
    "        new_population.append(selected_parents[i])\n",
    "\n",
    "    for i in range(new_people):\n",
    "        new_population.append(generate_random_agent())\n",
    "\n",
    "    population = new_population\n",
    "    population = [np.clip(a, 0, 1) for a in population]\n"
   ]
  },
  {
   "cell_type": "code",
   "execution_count": 143,
   "metadata": {},
   "outputs": [
    {
     "data": {
      "image/png": "[encoded data removed]",
      "text/plain": [
       "<Figure size 640x480 with 1 Axes>"
      ]
     },
     "metadata": {},
     "output_type": "display_data"
    }
   ],
   "source": [
    "import matplotlib.pyplot as plt\n",
    "\n",
    "plt.plot(max_hist)\n",
    "plt.plot(mean_hist)\n",
    "plt.show()"
   ]
  },
  {
   "cell_type": "code",
   "execution_count": 145,
   "metadata": {},
   "outputs": [
    {
     "name": "stdout",
     "output_type": "stream",
     "text": [
      "\n",
      "Best Agent -> [1.         0.         0.46388101 0.50765397 0.        ]\n",
      "Fitness    -> 0.65\n"
     ]
    }
   ],
   "source": [
    "# print best agent\n",
    "fitness_scores = [fitness(lambda x: rule_based_strategy(x, weights=weights)) for weights in population]\n",
    "i_best = np.argmax(fitness_scores)\n",
    "best_agent_weights = population[i_best]\n",
    "print()\n",
    "print(\"Best Agent ->\", best_agent_weights)\n",
    "print(\"Fitness    ->\", fitness(lambda x: rule_based_strategy(x, weights=best_agent_weights), num_matches=1000))"
   ]
  }
 ],
 "metadata": {
  "kernelspec": {
   "display_name": "Python 3.10.7 ('ci22-dPIXJ0_o-py3.10')",
   "language": "python",
   "name": "python3"
  },
  "language_info": {
   "codemirror_mode": {
    "name": "ipython",
    "version": 3
   },
   "file_extension": ".py",
   "mimetype": "text/x-python",
   "name": "python",
   "nbconvert_exporter": "python",
   "pygments_lexer": "ipython3",
   "version": "3.10.4"
  },
  "vscode": {
   "interpreter": {
    "hash": "10197e8e2f2aa67e2c349105091c77f4cd384fce4877865f002d9ec653f96bc0"
   }
  }
 },
 "nbformat": 4,
 "nbformat_minor": 2
}
