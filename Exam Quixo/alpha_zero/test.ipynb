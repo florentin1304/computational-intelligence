{
 "cells": [
  {
   "cell_type": "code",
   "execution_count": 1,
   "metadata": {},
   "outputs": [],
   "source": [
    "import logging\n",
    "\n",
    "import coloredlogs\n",
    "\n",
    "from Coach import Coach\n",
    "from quixo.QuixoGame import QuixoGame as Game\n",
    "from quixo.pytorch.QuixoNetWrapper import QuixoNetWrapper as nn\n",
    "from utils import *\n",
    "\n",
    "log = logging.getLogger(__name__)\n",
    "\n",
    "coloredlogs.install(level='INFO')  # Change this to DEBUG to see more info.\n",
    "\n",
    "args = dotdict({\n",
    "    'numIters': 1000,\n",
    "    'numEps': 100,              # Number of complete self-play games to simulate during a new iteration.\n",
    "    'tempThreshold': 1000,       # Temperature for exploration in training\n",
    "    'updateThreshold': 0.55,    # During arena playoff, new neural net will be accepted if threshold or more of games are won.\n",
    "    'maxlenOfQueue': 256_000,   # Number of game examples to train the neural networks.\n",
    "    'numMCTSSims': 100,          # Number of games moves for MCTS to simulate.\n",
    "    'arenaCompare': 30,         # Number of games to play during arena play to determine if new net will be accepted.\n",
    "    'cpuct': 2,             \n",
    "    \n",
    "    'parallelSelfPlay': True,\n",
    "    'parallelArena': True,\n",
    "    'pitVsRandom': False,\n",
    "\n",
    "    'load_model': True,\n",
    "    'checkpoint': './checkpoints/',\n",
    "    'load_folder_file': ('checkpoints','checkpoint_0.pth.tar'),\n",
    "    'numItersForTrainExamplesHistory': 20,\n",
    "\n",
    "})\n",
    "\n",
    "\n",
    "def main():\n",
    "    log.info('Loading %s...', Game.__name__)\n",
    "    g = Game()\n",
    "\n",
    "    log.info('Loading %s...', nn.__name__)\n",
    "    nnet = nn(g)\n",
    "\n",
    "    if args.load_model:\n",
    "        log.info('Loading checkpoint \"%s/%s\"...', args.load_folder_file[0], args.load_folder_file[1])\n",
    "        nnet.load_checkpoint(args.load_folder_file[0], args.load_folder_file[1])\n",
    "    else:\n",
    "        log.warning('Not loading a checkpoint!')\n",
    "\n",
    "    log.info('Loading the Coach...')\n",
    "    c = Coach(g, nnet, args)\n",
    "    c.pitVsOld()\n",
    "\n",
    "main()"
   ]
  }
 ],
 "metadata": {
  "kernelspec": {
   "display_name": "alphazero",
   "language": "python",
   "name": "python3"
  },
  "language_info": {
   "codemirror_mode": {
    "name": "ipython",
    "version": 3
   },
   "file_extension": ".py",
   "mimetype": "text/x-python",
   "name": "python",
   "nbconvert_exporter": "python",
   "pygments_lexer": "ipython3",
   "version": "3.11.7"
  }
 },
 "nbformat": 4,
 "nbformat_minor": 2
}
