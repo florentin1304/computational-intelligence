{
 "cells": [
  {
   "cell_type": "code",
   "execution_count": 8,
   "metadata": {},
   "outputs": [],
   "source": [
    "import random\n",
    "import tqdm\n",
    "from game import Game, Move, Player\n",
    "\n",
    "from AlphaZeroPlayer import AlphaZeroPlayer\n",
    "from MinMaxPlayer import MinMaxPlayer"
   ]
  },
  {
   "cell_type": "code",
   "execution_count": 9,
   "metadata": {},
   "outputs": [],
   "source": [
    "class RandomPlayer(Player):\n",
    "    def __init__(self) -> None:\n",
    "        super().__init__()\n",
    "\n",
    "    def make_move(self, game: 'Game') -> tuple[tuple[int, int], Move]:\n",
    "        from_pos = (random.randint(0, 4), random.randint(0, 4))\n",
    "        move = random.choice([Move.TOP, Move.BOTTOM, Move.LEFT, Move.RIGHT])\n",
    "        return from_pos, move"
   ]
  },
  {
   "cell_type": "code",
   "execution_count": 10,
   "metadata": {},
   "outputs": [],
   "source": [
    "alpha_zero_players = {\n",
    "    \"AlphaZeroPlayer(num_searches=800, C=2)\": lambda: AlphaZeroPlayer(num_searches=800, C=2, verbose=False),\n",
    "    \"AlphaZeroPlayer(num_searches=1600, C=2)\": lambda: AlphaZeroPlayer(num_searches=1600, C=2, verbose=False),\n",
    "    \"AlphaZeroPlayer(num_searches=2400, C=2)\": lambda: AlphaZeroPlayer(num_searches=2400, C=2, verbose=False),\n",
    "    \"AlphaZeroPlayer(num_searches=3200, C=2)\": lambda: AlphaZeroPlayer(num_searches=3200, C=2, verbose=False)\n",
    "}\n",
    "\n",
    "minmax_players = {\n",
    "    \"MinMaxPlayer(depth=1)\": lambda: MinMaxPlayer(depth=1, verbose=False),\n",
    "    \"MinMaxPlayer(depth=2)\": lambda: MinMaxPlayer(depth=2, verbose=False),\n",
    "    \"MinMaxPlayer(depth=3)\": lambda: MinMaxPlayer(depth=3, verbose=False),\n",
    "    \"MinMaxPlayer(depth=4)\": lambda: MinMaxPlayer(depth=4, verbose=False)\n",
    "}"
   ]
  },
  {
   "cell_type": "markdown",
   "metadata": {},
   "source": [
    "# All vs Random benchmark"
   ]
  },
  {
   "cell_type": "code",
   "execution_count": 11,
   "metadata": {},
   "outputs": [],
   "source": [
    "def play_games(p1, p2, num_games, starts_first):\n",
    "\n",
    "        # (wins, loses, draws)\n",
    "        statistics = [0,0,0]\n",
    "        for i in tqdm.tqdm(range(num_games)):\n",
    "            g = Game()\n",
    "            if starts_first:\n",
    "                player1 = p1()\n",
    "                player2 = p2()\n",
    "            else:\n",
    "                player1 = p2()\n",
    "                player2 = p1()         \n",
    "\n",
    "            # Play the game   \n",
    "            # if winner == 0: p1 wins\n",
    "            # if winner == 1: p2 wins\n",
    "            # if winner == -1: draw\n",
    "            winner = g.play(player1, player2)\n",
    "\n",
    "            if starts_first:\n",
    "                if winner == 0:\n",
    "                    statistics[0] += 1\n",
    "                if winner == 1:\n",
    "                    statistics[1] += 1\n",
    "                if winner == -1:\n",
    "                    statistics[2] += 1\n",
    "            else:\n",
    "                if winner == 1:\n",
    "                    statistics[0] += 1\n",
    "                if winner == 0:\n",
    "                    statistics[1] += 1\n",
    "                if winner == -1:\n",
    "                    statistics[2] += 1\n",
    "            \n",
    "        return statistics"
   ]
  },
  {
   "cell_type": "code",
   "execution_count": 12,
   "metadata": {},
   "outputs": [
    {
     "name": "stdout",
     "output_type": "stream",
     "text": [
      "======================================================================\n",
      "AlphaZeroPlayer(num_searches=800, C=2) vs RandomPlayer"
     ]
    },
    {
     "name": "stderr",
     "output_type": "stream",
     "text": [
      "100%|██████████| 10/10 [06:58<00:00, 41.84s/it]\n"
     ]
    },
    {
     "name": "stdout",
     "output_type": "stream",
     "text": [
      "\n",
      "Results for AlphaZeroPlayer(num_searches=800, C=2):\n",
      "100.0% winrate\n",
      "0.0% loserate\n",
      "0.0% drawrate\n",
      "Over 10 games\n",
      "======================================================================\n",
      "RandomPlayer vs AlphaZeroPlayer(num_searches=800, C=2)"
     ]
    },
    {
     "name": "stderr",
     "output_type": "stream",
     "text": [
      "100%|██████████| 10/10 [07:08<00:00, 42.86s/it]\n"
     ]
    },
    {
     "name": "stdout",
     "output_type": "stream",
     "text": [
      "\n",
      "Results for AlphaZeroPlayer(num_searches=800, C=2):\n",
      "100.0% winrate\n",
      "0.0% loserate\n",
      "0.0% drawrate\n",
      "Over 10 games\n",
      "======================================================================\n",
      "AlphaZeroPlayer(num_searches=1600, C=2) vs RandomPlayer"
     ]
    },
    {
     "name": "stderr",
     "output_type": "stream",
     "text": [
      "100%|██████████| 10/10 [12:32<00:00, 75.24s/it]\n"
     ]
    },
    {
     "name": "stdout",
     "output_type": "stream",
     "text": [
      "\n",
      "Results for AlphaZeroPlayer(num_searches=1600, C=2):\n",
      "100.0% winrate\n",
      "0.0% loserate\n",
      "0.0% drawrate\n",
      "Over 10 games\n",
      "======================================================================\n",
      "RandomPlayer vs AlphaZeroPlayer(num_searches=1600, C=2)"
     ]
    },
    {
     "name": "stderr",
     "output_type": "stream",
     "text": [
      "100%|██████████| 10/10 [12:15<00:00, 73.52s/it]\n"
     ]
    },
    {
     "name": "stdout",
     "output_type": "stream",
     "text": [
      "\n",
      "Results for AlphaZeroPlayer(num_searches=1600, C=2):\n",
      "100.0% winrate\n",
      "0.0% loserate\n",
      "0.0% drawrate\n",
      "Over 10 games\n",
      "======================================================================\n",
      "AlphaZeroPlayer(num_searches=2400, C=2) vs RandomPlayer"
     ]
    },
    {
     "name": "stderr",
     "output_type": "stream",
     "text": [
      "100%|██████████| 10/10 [26:53<00:00, 161.37s/it]\n"
     ]
    },
    {
     "name": "stdout",
     "output_type": "stream",
     "text": [
      "\n",
      "Results for AlphaZeroPlayer(num_searches=2400, C=2):\n",
      "100.0% winrate\n",
      "0.0% loserate\n",
      "0.0% drawrate\n",
      "Over 10 games\n",
      "======================================================================\n",
      "RandomPlayer vs AlphaZeroPlayer(num_searches=2400, C=2)"
     ]
    },
    {
     "name": "stderr",
     "output_type": "stream",
     "text": [
      "100%|██████████| 10/10 [23:04<00:00, 138.49s/it]\n"
     ]
    },
    {
     "name": "stdout",
     "output_type": "stream",
     "text": [
      "\n",
      "Results for AlphaZeroPlayer(num_searches=2400, C=2):\n",
      "100.0% winrate\n",
      "0.0% loserate\n",
      "0.0% drawrate\n",
      "Over 10 games\n",
      "======================================================================\n",
      "AlphaZeroPlayer(num_searches=3200, C=2) vs RandomPlayer"
     ]
    },
    {
     "name": "stderr",
     "output_type": "stream",
     "text": [
      "100%|██████████| 10/10 [33:25<00:00, 200.55s/it]\n"
     ]
    },
    {
     "name": "stdout",
     "output_type": "stream",
     "text": [
      "\n",
      "Results for AlphaZeroPlayer(num_searches=3200, C=2):\n",
      "100.0% winrate\n",
      "0.0% loserate\n",
      "0.0% drawrate\n",
      "Over 10 games\n",
      "======================================================================\n",
      "RandomPlayer vs AlphaZeroPlayer(num_searches=3200, C=2)"
     ]
    },
    {
     "name": "stderr",
     "output_type": "stream",
     "text": [
      "100%|██████████| 10/10 [34:13<00:00, 205.35s/it]\n"
     ]
    },
    {
     "name": "stdout",
     "output_type": "stream",
     "text": [
      "\n",
      "Results for AlphaZeroPlayer(num_searches=3200, C=2):\n",
      "100.0% winrate\n",
      "0.0% loserate\n",
      "0.0% drawrate\n",
      "Over 10 games\n",
      "======================================================================\n",
      "MinMaxPlayer(depth=1) vs RandomPlayer"
     ]
    },
    {
     "name": "stderr",
     "output_type": "stream",
     "text": [
      "100%|██████████| 10/10 [00:01<00:00,  9.71it/s]\n"
     ]
    },
    {
     "name": "stdout",
     "output_type": "stream",
     "text": [
      "\n",
      "Results for MinMaxPlayer(depth=1):\n",
      "100.0% winrate\n",
      "0.0% loserate\n",
      "0.0% drawrate\n",
      "Over 10 games\n",
      "======================================================================\n",
      "RandomPlayer vs MinMaxPlayer(depth=1)"
     ]
    },
    {
     "name": "stderr",
     "output_type": "stream",
     "text": [
      "100%|██████████| 10/10 [00:00<00:00, 10.86it/s]\n"
     ]
    },
    {
     "name": "stdout",
     "output_type": "stream",
     "text": [
      "\n",
      "Results for MinMaxPlayer(depth=1):\n",
      "100.0% winrate\n",
      "0.0% loserate\n",
      "0.0% drawrate\n",
      "Over 10 games\n",
      "======================================================================\n",
      "MinMaxPlayer(depth=2) vs RandomPlayer"
     ]
    },
    {
     "name": "stderr",
     "output_type": "stream",
     "text": [
      "100%|██████████| 10/10 [00:19<00:00,  1.99s/it]\n"
     ]
    },
    {
     "name": "stdout",
     "output_type": "stream",
     "text": [
      "\n",
      "Results for MinMaxPlayer(depth=2):\n",
      "100.0% winrate\n",
      "0.0% loserate\n",
      "0.0% drawrate\n",
      "Over 10 games\n",
      "======================================================================\n",
      "RandomPlayer vs MinMaxPlayer(depth=2)"
     ]
    },
    {
     "name": "stderr",
     "output_type": "stream",
     "text": [
      "100%|██████████| 10/10 [00:18<00:00,  1.86s/it]\n"
     ]
    },
    {
     "name": "stdout",
     "output_type": "stream",
     "text": [
      "\n",
      "Results for MinMaxPlayer(depth=2):\n",
      "100.0% winrate\n",
      "0.0% loserate\n",
      "0.0% drawrate\n",
      "Over 10 games\n",
      "======================================================================\n",
      "MinMaxPlayer(depth=3) vs RandomPlayer"
     ]
    },
    {
     "name": "stderr",
     "output_type": "stream",
     "text": [
      "100%|██████████| 10/10 [01:15<00:00,  7.53s/it]\n"
     ]
    },
    {
     "name": "stdout",
     "output_type": "stream",
     "text": [
      "\n",
      "Results for MinMaxPlayer(depth=3):\n",
      "100.0% winrate\n",
      "0.0% loserate\n",
      "0.0% drawrate\n",
      "Over 10 games\n",
      "======================================================================\n",
      "RandomPlayer vs MinMaxPlayer(depth=3)"
     ]
    },
    {
     "name": "stderr",
     "output_type": "stream",
     "text": [
      "100%|██████████| 10/10 [01:02<00:00,  6.29s/it]\n"
     ]
    },
    {
     "name": "stdout",
     "output_type": "stream",
     "text": [
      "\n",
      "Results for MinMaxPlayer(depth=3):\n",
      "100.0% winrate\n",
      "0.0% loserate\n",
      "0.0% drawrate\n",
      "Over 10 games\n",
      "======================================================================\n",
      "MinMaxPlayer(depth=4) vs RandomPlayer"
     ]
    },
    {
     "name": "stderr",
     "output_type": "stream",
     "text": [
      "100%|██████████| 10/10 [10:58<00:00, 65.81s/it]\n"
     ]
    },
    {
     "name": "stdout",
     "output_type": "stream",
     "text": [
      "\n",
      "Results for MinMaxPlayer(depth=4):\n",
      "100.0% winrate\n",
      "0.0% loserate\n",
      "0.0% drawrate\n",
      "Over 10 games\n",
      "======================================================================\n",
      "RandomPlayer vs MinMaxPlayer(depth=4)"
     ]
    },
    {
     "name": "stderr",
     "output_type": "stream",
     "text": [
      "100%|██████████| 10/10 [07:55<00:00, 47.53s/it]"
     ]
    },
    {
     "name": "stdout",
     "output_type": "stream",
     "text": [
      "\n",
      "Results for MinMaxPlayer(depth=4):\n",
      "100.0% winrate\n",
      "0.0% loserate\n",
      "0.0% drawrate\n",
      "Over 10 games\n"
     ]
    },
    {
     "name": "stderr",
     "output_type": "stream",
     "text": [
      "\n"
     ]
    }
   ],
   "source": [
    "vsrandom_num_games = 10\n",
    "for player_category in [alpha_zero_players, minmax_players]:\n",
    "    for myplayer_name, myplayer in player_category.items():\n",
    "        for starts_first in [True, False]:\n",
    "            print(\"=\"*70)\n",
    "            print(f\"{myplayer_name if starts_first else 'RandomPlayer'} vs {'RandomPlayer' if starts_first else myplayer_name}\", end=\"\")              \n",
    "                 \n",
    "\n",
    "            statistics = play_games(myplayer, lambda: RandomPlayer(), vsrandom_num_games, starts_first)\n",
    "\n",
    "            print()\n",
    "            print(f\"Results for {myplayer_name}:\")\n",
    "            print(f\"{100*statistics[0]/vsrandom_num_games}% winrate\")\n",
    "            print(f\"{100*statistics[1]/vsrandom_num_games}% loserate\")\n",
    "            print(f\"{100*statistics[2]/vsrandom_num_games}% drawrate\")\n",
    "            print(f\"Over {vsrandom_num_games} games\")"
   ]
  },
  {
   "cell_type": "code",
   "execution_count": 13,
   "metadata": {},
   "outputs": [
    {
     "name": "stdout",
     "output_type": "stream",
     "text": [
      "======================================================================\n",
      "AlphaZeroPlayer(num_searches=800, C=2) vs MinMaxPlayer(depth=1)"
     ]
    },
    {
     "name": "stderr",
     "output_type": "stream",
     "text": [
      "100%|██████████| 3/3 [02:36<00:00, 52.18s/it]\n"
     ]
    },
    {
     "name": "stdout",
     "output_type": "stream",
     "text": [
      "\n",
      "Results for AlphaZeroPlayer(num_searches=800, C=2)\n",
      "100.0% winrate\n",
      "0.0% loserate\n",
      "0.0% drawrate\n",
      "Over 3 games\n",
      "======================================================================\n",
      "MinMaxPlayer(depth=1) vs AlphaZeroPlayer(num_searches=800, C=2)"
     ]
    },
    {
     "name": "stderr",
     "output_type": "stream",
     "text": [
      "100%|██████████| 3/3 [02:44<00:00, 54.67s/it]\n"
     ]
    },
    {
     "name": "stdout",
     "output_type": "stream",
     "text": [
      "\n",
      "Results for AlphaZeroPlayer(num_searches=800, C=2)\n",
      "100.0% winrate\n",
      "0.0% loserate\n",
      "0.0% drawrate\n",
      "Over 3 games\n",
      "======================================================================\n",
      "AlphaZeroPlayer(num_searches=800, C=2) vs MinMaxPlayer(depth=2)"
     ]
    },
    {
     "name": "stderr",
     "output_type": "stream",
     "text": [
      "100%|██████████| 3/3 [03:10<00:00, 63.50s/it]\n"
     ]
    },
    {
     "name": "stdout",
     "output_type": "stream",
     "text": [
      "\n",
      "Results for AlphaZeroPlayer(num_searches=800, C=2)\n",
      "100.0% winrate\n",
      "0.0% loserate\n",
      "0.0% drawrate\n",
      "Over 3 games\n",
      "======================================================================\n",
      "MinMaxPlayer(depth=2) vs AlphaZeroPlayer(num_searches=800, C=2)"
     ]
    },
    {
     "name": "stderr",
     "output_type": "stream",
     "text": [
      "100%|██████████| 3/3 [03:21<00:00, 67.08s/it]\n"
     ]
    },
    {
     "name": "stdout",
     "output_type": "stream",
     "text": [
      "\n",
      "Results for AlphaZeroPlayer(num_searches=800, C=2)\n",
      "0.0% winrate\n",
      "0.0% loserate\n",
      "100.0% drawrate\n",
      "Over 3 games\n",
      "======================================================================\n",
      "AlphaZeroPlayer(num_searches=800, C=2) vs MinMaxPlayer(depth=3)"
     ]
    },
    {
     "name": "stderr",
     "output_type": "stream",
     "text": [
      "100%|██████████| 3/3 [04:19<00:00, 86.60s/it]\n"
     ]
    },
    {
     "name": "stdout",
     "output_type": "stream",
     "text": [
      "\n",
      "Results for AlphaZeroPlayer(num_searches=800, C=2)\n",
      "0.0% winrate\n",
      "0.0% loserate\n",
      "100.0% drawrate\n",
      "Over 3 games\n",
      "======================================================================\n",
      "MinMaxPlayer(depth=3) vs AlphaZeroPlayer(num_searches=800, C=2)"
     ]
    },
    {
     "name": "stderr",
     "output_type": "stream",
     "text": [
      "100%|██████████| 3/3 [04:50<00:00, 96.86s/it]\n"
     ]
    },
    {
     "name": "stdout",
     "output_type": "stream",
     "text": [
      "\n",
      "Results for AlphaZeroPlayer(num_searches=800, C=2)\n",
      "0.0% winrate\n",
      "0.0% loserate\n",
      "100.0% drawrate\n",
      "Over 3 games\n",
      "======================================================================\n",
      "AlphaZeroPlayer(num_searches=800, C=2) vs MinMaxPlayer(depth=4)"
     ]
    },
    {
     "name": "stderr",
     "output_type": "stream",
     "text": [
      "100%|██████████| 3/3 [07:38<00:00, 152.84s/it]\n"
     ]
    },
    {
     "name": "stdout",
     "output_type": "stream",
     "text": [
      "\n",
      "Results for AlphaZeroPlayer(num_searches=800, C=2)\n",
      "100.0% winrate\n",
      "0.0% loserate\n",
      "0.0% drawrate\n",
      "Over 3 games\n",
      "======================================================================\n",
      "MinMaxPlayer(depth=4) vs AlphaZeroPlayer(num_searches=800, C=2)"
     ]
    },
    {
     "name": "stderr",
     "output_type": "stream",
     "text": [
      "100%|██████████| 3/3 [08:00<00:00, 160.05s/it]\n"
     ]
    },
    {
     "name": "stdout",
     "output_type": "stream",
     "text": [
      "\n",
      "Results for AlphaZeroPlayer(num_searches=800, C=2)\n",
      "0.0% winrate\n",
      "0.0% loserate\n",
      "100.0% drawrate\n",
      "Over 3 games\n",
      "======================================================================\n",
      "AlphaZeroPlayer(num_searches=1600, C=2) vs MinMaxPlayer(depth=1)"
     ]
    },
    {
     "name": "stderr",
     "output_type": "stream",
     "text": [
      "100%|██████████| 3/3 [03:20<00:00, 66.78s/it]\n"
     ]
    },
    {
     "name": "stdout",
     "output_type": "stream",
     "text": [
      "\n",
      "Results for AlphaZeroPlayer(num_searches=1600, C=2)\n",
      "100.0% winrate\n",
      "0.0% loserate\n",
      "0.0% drawrate\n",
      "Over 3 games\n",
      "======================================================================\n",
      "MinMaxPlayer(depth=1) vs AlphaZeroPlayer(num_searches=1600, C=2)"
     ]
    },
    {
     "name": "stderr",
     "output_type": "stream",
     "text": [
      "100%|██████████| 3/3 [05:19<00:00, 106.44s/it]\n"
     ]
    },
    {
     "name": "stdout",
     "output_type": "stream",
     "text": [
      "\n",
      "Results for AlphaZeroPlayer(num_searches=1600, C=2)\n",
      "100.0% winrate\n",
      "0.0% loserate\n",
      "0.0% drawrate\n",
      "Over 3 games\n",
      "======================================================================\n",
      "AlphaZeroPlayer(num_searches=1600, C=2) vs MinMaxPlayer(depth=2)"
     ]
    },
    {
     "name": "stderr",
     "output_type": "stream",
     "text": [
      "100%|██████████| 3/3 [06:07<00:00, 122.50s/it]\n"
     ]
    },
    {
     "name": "stdout",
     "output_type": "stream",
     "text": [
      "\n",
      "Results for AlphaZeroPlayer(num_searches=1600, C=2)\n",
      "100.0% winrate\n",
      "0.0% loserate\n",
      "0.0% drawrate\n",
      "Over 3 games\n",
      "======================================================================\n",
      "MinMaxPlayer(depth=2) vs AlphaZeroPlayer(num_searches=1600, C=2)"
     ]
    },
    {
     "name": "stderr",
     "output_type": "stream",
     "text": [
      "100%|██████████| 3/3 [06:27<00:00, 129.23s/it]\n"
     ]
    },
    {
     "name": "stdout",
     "output_type": "stream",
     "text": [
      "\n",
      "Results for AlphaZeroPlayer(num_searches=1600, C=2)\n",
      "0.0% winrate\n",
      "0.0% loserate\n",
      "100.0% drawrate\n",
      "Over 3 games\n",
      "======================================================================\n",
      "AlphaZeroPlayer(num_searches=1600, C=2) vs MinMaxPlayer(depth=3)"
     ]
    },
    {
     "name": "stderr",
     "output_type": "stream",
     "text": [
      "100%|██████████| 3/3 [06:21<00:00, 127.18s/it]\n"
     ]
    },
    {
     "name": "stdout",
     "output_type": "stream",
     "text": [
      "\n",
      "Results for AlphaZeroPlayer(num_searches=1600, C=2)\n",
      "100.0% winrate\n",
      "0.0% loserate\n",
      "0.0% drawrate\n",
      "Over 3 games\n",
      "======================================================================\n",
      "MinMaxPlayer(depth=3) vs AlphaZeroPlayer(num_searches=1600, C=2)"
     ]
    },
    {
     "name": "stderr",
     "output_type": "stream",
     "text": [
      "100%|██████████| 3/3 [08:47<00:00, 175.85s/it]\n"
     ]
    },
    {
     "name": "stdout",
     "output_type": "stream",
     "text": [
      "\n",
      "Results for AlphaZeroPlayer(num_searches=1600, C=2)\n",
      "0.0% winrate\n",
      "0.0% loserate\n",
      "100.0% drawrate\n",
      "Over 3 games\n",
      "======================================================================\n",
      "AlphaZeroPlayer(num_searches=1600, C=2) vs MinMaxPlayer(depth=4)"
     ]
    },
    {
     "name": "stderr",
     "output_type": "stream",
     "text": [
      "100%|██████████| 3/3 [10:59<00:00, 219.86s/it]\n"
     ]
    },
    {
     "name": "stdout",
     "output_type": "stream",
     "text": [
      "\n",
      "Results for AlphaZeroPlayer(num_searches=1600, C=2)\n",
      "100.0% winrate\n",
      "0.0% loserate\n",
      "0.0% drawrate\n",
      "Over 3 games\n",
      "======================================================================\n",
      "MinMaxPlayer(depth=4) vs AlphaZeroPlayer(num_searches=1600, C=2)"
     ]
    },
    {
     "name": "stderr",
     "output_type": "stream",
     "text": [
      "100%|██████████| 3/3 [11:16<00:00, 225.62s/it]\n"
     ]
    },
    {
     "name": "stdout",
     "output_type": "stream",
     "text": [
      "\n",
      "Results for AlphaZeroPlayer(num_searches=1600, C=2)\n",
      "0.0% winrate\n",
      "0.0% loserate\n",
      "100.0% drawrate\n",
      "Over 3 games\n",
      "======================================================================\n",
      "AlphaZeroPlayer(num_searches=2400, C=2) vs MinMaxPlayer(depth=1)"
     ]
    },
    {
     "name": "stderr",
     "output_type": "stream",
     "text": [
      "100%|██████████| 3/3 [04:59<00:00, 99.70s/it]\n"
     ]
    },
    {
     "name": "stdout",
     "output_type": "stream",
     "text": [
      "\n",
      "Results for AlphaZeroPlayer(num_searches=2400, C=2)\n",
      "100.0% winrate\n",
      "0.0% loserate\n",
      "0.0% drawrate\n",
      "Over 3 games\n",
      "======================================================================\n",
      "MinMaxPlayer(depth=1) vs AlphaZeroPlayer(num_searches=2400, C=2)"
     ]
    },
    {
     "name": "stderr",
     "output_type": "stream",
     "text": [
      "100%|██████████| 3/3 [07:55<00:00, 158.48s/it]\n"
     ]
    },
    {
     "name": "stdout",
     "output_type": "stream",
     "text": [
      "\n",
      "Results for AlphaZeroPlayer(num_searches=2400, C=2)\n",
      "100.0% winrate\n",
      "0.0% loserate\n",
      "0.0% drawrate\n",
      "Over 3 games\n",
      "======================================================================\n",
      "AlphaZeroPlayer(num_searches=2400, C=2) vs MinMaxPlayer(depth=2)"
     ]
    },
    {
     "name": "stderr",
     "output_type": "stream",
     "text": [
      "100%|██████████| 3/3 [09:03<00:00, 181.00s/it]\n"
     ]
    },
    {
     "name": "stdout",
     "output_type": "stream",
     "text": [
      "\n",
      "Results for AlphaZeroPlayer(num_searches=2400, C=2)\n",
      "100.0% winrate\n",
      "0.0% loserate\n",
      "0.0% drawrate\n",
      "Over 3 games\n",
      "======================================================================\n",
      "MinMaxPlayer(depth=2) vs AlphaZeroPlayer(num_searches=2400, C=2)"
     ]
    },
    {
     "name": "stderr",
     "output_type": "stream",
     "text": [
      "100%|██████████| 3/3 [09:28<00:00, 189.57s/it]\n"
     ]
    },
    {
     "name": "stdout",
     "output_type": "stream",
     "text": [
      "\n",
      "Results for AlphaZeroPlayer(num_searches=2400, C=2)\n",
      "0.0% winrate\n",
      "0.0% loserate\n",
      "100.0% drawrate\n",
      "Over 3 games\n",
      "======================================================================\n",
      "AlphaZeroPlayer(num_searches=2400, C=2) vs MinMaxPlayer(depth=3)"
     ]
    },
    {
     "name": "stderr",
     "output_type": "stream",
     "text": [
      "100%|██████████| 3/3 [12:08<00:00, 242.67s/it]\n"
     ]
    },
    {
     "name": "stdout",
     "output_type": "stream",
     "text": [
      "\n",
      "Results for AlphaZeroPlayer(num_searches=2400, C=2)\n",
      "0.0% winrate\n",
      "0.0% loserate\n",
      "100.0% drawrate\n",
      "Over 3 games\n",
      "======================================================================\n",
      "MinMaxPlayer(depth=3) vs AlphaZeroPlayer(num_searches=2400, C=2)"
     ]
    },
    {
     "name": "stderr",
     "output_type": "stream",
     "text": [
      "100%|██████████| 3/3 [12:51<00:00, 257.22s/it]\n"
     ]
    },
    {
     "name": "stdout",
     "output_type": "stream",
     "text": [
      "\n",
      "Results for AlphaZeroPlayer(num_searches=2400, C=2)\n",
      "0.0% winrate\n",
      "0.0% loserate\n",
      "100.0% drawrate\n",
      "Over 3 games\n",
      "======================================================================\n",
      "AlphaZeroPlayer(num_searches=2400, C=2) vs MinMaxPlayer(depth=4)"
     ]
    },
    {
     "name": "stderr",
     "output_type": "stream",
     "text": [
      "100%|██████████| 3/3 [14:19<00:00, 286.58s/it]\n"
     ]
    },
    {
     "name": "stdout",
     "output_type": "stream",
     "text": [
      "\n",
      "Results for AlphaZeroPlayer(num_searches=2400, C=2)\n",
      "100.0% winrate\n",
      "0.0% loserate\n",
      "0.0% drawrate\n",
      "Over 3 games\n",
      "======================================================================\n",
      "MinMaxPlayer(depth=4) vs AlphaZeroPlayer(num_searches=2400, C=2)"
     ]
    },
    {
     "name": "stderr",
     "output_type": "stream",
     "text": [
      "100%|██████████| 3/3 [14:32<00:00, 290.99s/it]\n"
     ]
    },
    {
     "name": "stdout",
     "output_type": "stream",
     "text": [
      "\n",
      "Results for AlphaZeroPlayer(num_searches=2400, C=2)\n",
      "0.0% winrate\n",
      "0.0% loserate\n",
      "100.0% drawrate\n",
      "Over 3 games\n",
      "======================================================================\n",
      "AlphaZeroPlayer(num_searches=3200, C=2) vs MinMaxPlayer(depth=1)"
     ]
    },
    {
     "name": "stderr",
     "output_type": "stream",
     "text": [
      "100%|██████████| 3/3 [09:38<00:00, 192.84s/it]\n"
     ]
    },
    {
     "name": "stdout",
     "output_type": "stream",
     "text": [
      "\n",
      "Results for AlphaZeroPlayer(num_searches=3200, C=2)\n",
      "100.0% winrate\n",
      "0.0% loserate\n",
      "0.0% drawrate\n",
      "Over 3 games\n",
      "======================================================================\n",
      "MinMaxPlayer(depth=1) vs AlphaZeroPlayer(num_searches=3200, C=2)"
     ]
    },
    {
     "name": "stderr",
     "output_type": "stream",
     "text": [
      "100%|██████████| 3/3 [09:47<00:00, 195.83s/it]\n"
     ]
    },
    {
     "name": "stdout",
     "output_type": "stream",
     "text": [
      "\n",
      "Results for AlphaZeroPlayer(num_searches=3200, C=2)\n",
      "100.0% winrate\n",
      "0.0% loserate\n",
      "0.0% drawrate\n",
      "Over 3 games\n",
      "======================================================================\n",
      "AlphaZeroPlayer(num_searches=3200, C=2) vs MinMaxPlayer(depth=2)"
     ]
    },
    {
     "name": "stderr",
     "output_type": "stream",
     "text": [
      "100%|██████████| 3/3 [11:33<00:00, 231.15s/it]\n"
     ]
    },
    {
     "name": "stdout",
     "output_type": "stream",
     "text": [
      "\n",
      "Results for AlphaZeroPlayer(num_searches=3200, C=2)\n",
      "100.0% winrate\n",
      "0.0% loserate\n",
      "0.0% drawrate\n",
      "Over 3 games\n",
      "======================================================================\n",
      "MinMaxPlayer(depth=2) vs AlphaZeroPlayer(num_searches=3200, C=2)"
     ]
    },
    {
     "name": "stderr",
     "output_type": "stream",
     "text": [
      "100%|██████████| 3/3 [12:36<00:00, 252.06s/it]\n"
     ]
    },
    {
     "name": "stdout",
     "output_type": "stream",
     "text": [
      "\n",
      "Results for AlphaZeroPlayer(num_searches=3200, C=2)\n",
      "100.0% winrate\n",
      "0.0% loserate\n",
      "0.0% drawrate\n",
      "Over 3 games\n",
      "======================================================================\n",
      "AlphaZeroPlayer(num_searches=3200, C=2) vs MinMaxPlayer(depth=3)"
     ]
    },
    {
     "name": "stderr",
     "output_type": "stream",
     "text": [
      "100%|██████████| 3/3 [14:40<00:00, 293.56s/it]\n"
     ]
    },
    {
     "name": "stdout",
     "output_type": "stream",
     "text": [
      "\n",
      "Results for AlphaZeroPlayer(num_searches=3200, C=2)\n",
      "0.0% winrate\n",
      "0.0% loserate\n",
      "100.0% drawrate\n",
      "Over 3 games\n",
      "======================================================================\n",
      "MinMaxPlayer(depth=3) vs AlphaZeroPlayer(num_searches=3200, C=2)"
     ]
    },
    {
     "name": "stderr",
     "output_type": "stream",
     "text": [
      "100%|██████████| 3/3 [11:53<00:00, 237.93s/it]\n"
     ]
    },
    {
     "name": "stdout",
     "output_type": "stream",
     "text": [
      "\n",
      "Results for AlphaZeroPlayer(num_searches=3200, C=2)\n",
      "100.0% winrate\n",
      "0.0% loserate\n",
      "0.0% drawrate\n",
      "Over 3 games\n",
      "======================================================================\n",
      "AlphaZeroPlayer(num_searches=3200, C=2) vs MinMaxPlayer(depth=4)"
     ]
    },
    {
     "name": "stderr",
     "output_type": "stream",
     "text": [
      "100%|██████████| 3/3 [16:26<00:00, 328.81s/it]\n"
     ]
    },
    {
     "name": "stdout",
     "output_type": "stream",
     "text": [
      "\n",
      "Results for AlphaZeroPlayer(num_searches=3200, C=2)\n",
      "0.0% winrate\n",
      "0.0% loserate\n",
      "100.0% drawrate\n",
      "Over 3 games\n",
      "======================================================================\n",
      "MinMaxPlayer(depth=4) vs AlphaZeroPlayer(num_searches=3200, C=2)"
     ]
    },
    {
     "name": "stderr",
     "output_type": "stream",
     "text": [
      "100%|██████████| 3/3 [22:01<00:00, 440.47s/it]"
     ]
    },
    {
     "name": "stdout",
     "output_type": "stream",
     "text": [
      "\n",
      "Results for AlphaZeroPlayer(num_searches=3200, C=2)\n",
      "0.0% winrate\n",
      "0.0% loserate\n",
      "100.0% drawrate\n",
      "Over 3 games\n"
     ]
    },
    {
     "name": "stderr",
     "output_type": "stream",
     "text": [
      "\n"
     ]
    }
   ],
   "source": [
    "num_games = 3\n",
    "for az_player_name, az_player in alpha_zero_players.items():\n",
    "    for mm_player_name, mm_player in minmax_players.items():\n",
    "        for starts_first in [True, False]:\n",
    "            print(\"=\"*70)\n",
    "            print(f\"{az_player_name if starts_first else mm_player_name} vs {mm_player_name if starts_first else az_player_name}\", end=\"\")              \n",
    "\n",
    "            statistics = play_games(az_player, mm_player, num_games=num_games, starts_first=starts_first)\n",
    "\n",
    "            print()\n",
    "            print(f\"Results for {az_player_name}\")\n",
    "            print(f\"{100*statistics[0]/num_games}% winrate\")\n",
    "            print(f\"{100*statistics[1]/num_games}% loserate\")\n",
    "            print(f\"{100*statistics[2]/num_games}% drawrate\")\n",
    "            print(f\"Over {num_games} games\")"
   ]
  }
 ],
 "metadata": {
  "kernelspec": {
   "display_name": "Python 3",
   "language": "python",
   "name": "python3"
  },
  "language_info": {
   "codemirror_mode": {
    "name": "ipython",
    "version": 3
   },
   "file_extension": ".py",
   "mimetype": "text/x-python",
   "name": "python",
   "nbconvert_exporter": "python",
   "pygments_lexer": "ipython3",
   "version": "3.11.3"
  }
 },
 "nbformat": 4,
 "nbformat_minor": 2
}
