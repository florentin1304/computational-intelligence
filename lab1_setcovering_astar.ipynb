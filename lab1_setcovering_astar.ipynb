{
 "cells": [
  {
   "cell_type": "markdown",
   "metadata": {},
   "source": [
    "Copyright **`(c)`** 2023 Giovanni Squillero `<giovanni.squillero@polito.it>`  \n",
    "[`https://github.com/squillero/computational-intelligence`](https://github.com/squillero/computational-intelligence)  \n",
    "Free for personal or classroom use; see [`LICENSE.md`](https://github.com/squillero/computational-intelligence/blob/master/LICENSE.md) for details.  "
   ]
  },
  {
   "cell_type": "code",
   "execution_count": 42,
   "metadata": {},
   "outputs": [],
   "source": [
    "from random import random\n",
    "from functools import reduce\n",
    "from collections import namedtuple\n",
    "from queue import PriorityQueue, SimpleQueue, LifoQueue\n",
    "\n",
    "import numpy as np"
   ]
  },
  {
   "cell_type": "code",
   "execution_count": 43,
   "metadata": {},
   "outputs": [],
   "source": [
    "PROBLEM_SIZE = 100\n",
    "NUM_SETS = 500\n",
    "SETS = tuple(\n",
    "    np.array([random() < 1/PROBLEM_SIZE for _ in range(PROBLEM_SIZE)])\n",
    "    for _ in range(NUM_SETS)\n",
    ")\n",
    "State = namedtuple('State', ['taken'])"
   ]
  },
  {
   "cell_type": "code",
   "execution_count": 44,
   "metadata": {},
   "outputs": [
    {
     "name": "stdout",
     "output_type": "stream",
     "text": [
      "7\n"
     ]
    }
   ],
   "source": [
    "\n",
    "def get_unique_sets():\n",
    "    item_covered_by_sets = []\n",
    "    for i in range(PROBLEM_SIZE):\n",
    "        item_covered_by_sets.append([])\n",
    "        for j in range(NUM_SETS):\n",
    "            if SETS[j][i] == True:\n",
    "                item_covered_by_sets[i].append(j)\n",
    "    \n",
    "    unique_sets = []\n",
    "    for i, sets_covering in enumerate(item_covered_by_sets):\n",
    "        if len(sets_covering) == 1:\n",
    "            unique_sets.append(sets_covering[0])\n",
    "    print(len(unique_sets))\n",
    "    return unique_sets\n",
    "us = get_unique_sets()\n"
   ]
  },
  {
   "cell_type": "code",
   "execution_count": 48,
   "metadata": {},
   "outputs": [],
   "source": [
    "def goal_check(state):\n",
    "    return np.all(reduce(\n",
    "        np.logical_or,\n",
    "        [SETS[i] for i in state.taken],\n",
    "        np.array([False for _ in range(PROBLEM_SIZE)]),\n",
    "    ))\n",
    "\n",
    "def distance(state):\n",
    "    # What about “special sets”? -> special set = the only one that has that specific element or that has only one element\n",
    "    # What about the order of the sets? -> maybe I want the most covering sets first\n",
    "\n",
    "    uncovered = PROBLEM_SIZE-sum(\n",
    "        reduce(\n",
    "            np.logical_or,\n",
    "            [SETS[i] for i in state.taken],\n",
    "            np.array([False for _ in range(PROBLEM_SIZE)]),\n",
    "        ))\n",
    "    \n",
    "    unique_sets_covered = 0\n",
    "    for unique_set in us:\n",
    "        if unique_set in state.taken:\n",
    "            unique_sets_covered += 1\n",
    "        \n",
    "    return uncovered# - PROBLEM_SIZE*unique_sets_covered\n",
    "\n",
    "def cost(state):\n",
    "    return len(state[0])\n",
    "\n",
    "def astar_cost(state):\n",
    "    return cost(state)+distance(state)\n"
   ]
  },
  {
   "cell_type": "code",
   "execution_count": 49,
   "metadata": {},
   "outputs": [],
   "source": [
    "assert goal_check(\n",
    "    State(set(range(NUM_SETS)))\n",
    "), \"Probelm not solvable\"\n"
   ]
  },
  {
   "cell_type": "code",
   "execution_count": 50,
   "metadata": {},
   "outputs": [],
   "source": [
    "frontier = PriorityQueue()\n",
    "#frontier = SimpleQueue()\n",
    "state = State(set())\n",
    "frontier.put((astar_cost(state), state))\n",
    "\n",
    "counter = 0\n",
    "_, current_state = frontier.get()\n",
    "while not goal_check(current_state):\n",
    "    counter += 1\n",
    "    for action in range(NUM_SETS):\n",
    "        if action in current_state.taken:\n",
    "            continue\n",
    "        new_state = State(\n",
    "            current_state.taken ^ {action}\n",
    "        )\n",
    "        frontier.put((astar_cost(new_state), new_state))\n",
    "    _, current_state = frontier.get()\n",
    "#\n",
    "print(\n",
    "    f\"Solved in {counter:,} steps ({len(current_state.taken)} tiles)\"\n",
    ")"
   ]
  },
  {
   "cell_type": "code",
   "execution_count": null,
   "metadata": {},
   "outputs": [
    {
     "data": {
      "text/plain": [
       "State(taken={5, 389, 7, 136, 272, 145, 274, 20, 149, 23, 283, 40, 42, 47, 53, 58, 192, 66, 67, 69, 74, 342, 87, 216, 488, 115, 253})"
      ]
     },
     "execution_count": 41,
     "metadata": {},
     "output_type": "execute_result"
    }
   ],
   "source": [
    "current_state"
   ]
  },
  {
   "cell_type": "code",
   "execution_count": null,
   "metadata": {},
   "outputs": [],
   "source": []
  },
  {
   "cell_type": "code",
   "execution_count": null,
   "metadata": {},
   "outputs": [],
   "source": []
  }
 ],
 "metadata": {
  "kernelspec": {
   "display_name": "ci-P-7LqQ3C-py3.11",
   "language": "python",
   "name": "python3"
  },
  "language_info": {
   "codemirror_mode": {
    "name": "ipython",
    "version": 3
   },
   "file_extension": ".py",
   "mimetype": "text/x-python",
   "name": "python",
   "nbconvert_exporter": "python",
   "pygments_lexer": "ipython3",
   "version": "3.10.4"
  }
 },
 "nbformat": 4,
 "nbformat_minor": 2
}
