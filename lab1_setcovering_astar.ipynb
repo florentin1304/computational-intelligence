{
 "cells": [
  {
   "cell_type": "markdown",
   "metadata": {},
   "source": [
    "Copyright **`(c)`** 2023 Giovanni Squillero `<giovanni.squillero@polito.it>`  \n",
    "[`https://github.com/squillero/computational-intelligence`](https://github.com/squillero/computational-intelligence)  \n",
    "Free for personal or classroom use; see [`LICENSE.md`](https://github.com/squillero/computational-intelligence/blob/master/LICENSE.md) for details.  "
   ]
  },
  {
   "cell_type": "code",
   "execution_count": 47,
   "metadata": {},
   "outputs": [],
   "source": [
    "from random import random\n",
    "from math import ceil\n",
    "from functools import reduce\n",
    "from collections import namedtuple, deque\n",
    "from queue import PriorityQueue\n",
    "\n",
    "import numpy as np\n",
    "from tqdm.auto import tqdm\n",
    "from collections import defaultdict\n"
   ]
  },
  {
   "cell_type": "code",
   "execution_count": 48,
   "metadata": {},
   "outputs": [],
   "source": [
    "State = namedtuple('State', ['taken', 'not_taken'])\n",
    "\n",
    "\n",
    "def covered(problem, state):\n",
    "    SETS = problem[\"SETS\"]\n",
    "    PROBLEM_SIZE = problem[\"PROBLEM_SIZE\"]\n",
    "    \n",
    "    return reduce(\n",
    "        np.logical_or,\n",
    "        [SETS[i] for i in state.taken],\n",
    "        np.array([False for _ in range(PROBLEM_SIZE)]),\n",
    "    )\n",
    "\n",
    "\n",
    "def goal_check(problem, state):\n",
    "    return np.all(covered(problem, state))"
   ]
  },
  {
   "cell_type": "code",
   "execution_count": 49,
   "metadata": {},
   "outputs": [],
   "source": [
    "# PROBLEM_SIZE = 50\n",
    "# NUM_SETS = 200\n",
    "# PROBABILITY = 0.2\n",
    "\n",
    "def generate_problem(p_size, n_sets, prob):\n",
    "    max_tries = 1000\n",
    "    count = 0\n",
    "\n",
    "    SETS = tuple(np.array([random() < prob for _ in range(p_size)]) for _ in range(n_sets))\n",
    "    problem = {\"PROBLEM_SIZE\": p_size,\n",
    "               \"NUM_SETS\": n_sets,\n",
    "               \"PROBABILITY\": prob,\n",
    "               \"SETS\": SETS}\n",
    "    \n",
    "    while goal_check(problem, State(set(range(n_sets)), set())) != True:\n",
    "        SETS = tuple(np.array([random() < prob for _ in range(p_size)]) for _ in range(n_sets))\n",
    "        count += 1\n",
    "        if count > max_tries:\n",
    "            raise Exception(\"Solvable problem is too dificult to create!\")\n",
    "    \n",
    "\n",
    "    \n",
    "    return problem\n",
    "\n",
    "    "
   ]
  },
  {
   "cell_type": "markdown",
   "metadata": {},
   "source": [
    "## Depth First"
   ]
  },
  {
   "cell_type": "code",
   "execution_count": 50,
   "metadata": {},
   "outputs": [],
   "source": [
    "def dfs(problem, verbose=False):\n",
    "    NUM_SETS = problem[\"NUM_SETS\"]\n",
    "    PROBLEM_SIZE = problem[\"PROBLEM_SIZE\"]\n",
    "\n",
    "    frontier = deque()\n",
    "    state = State(set(), set(range(NUM_SETS)))\n",
    "    frontier.append(state)\n",
    "\n",
    "    counter = 0\n",
    "    current_state = frontier.pop()\n",
    "    while not goal_check(problem, current_state):\n",
    "        counter += 1\n",
    "        for action in current_state[1]:\n",
    "            new_state = State(\n",
    "                current_state.taken ^ {action},\n",
    "                current_state.not_taken ^ {action},\n",
    "            )\n",
    "            frontier.append(new_state)\n",
    "        current_state = frontier.pop()\n",
    "    if verbose:\n",
    "        print(f\"DFS: Solved in {counter:,} steps ({len(current_state.taken)} tiles)\")\n",
    "        \n",
    "    return counter, len(current_state.taken)\n"
   ]
  },
  {
   "cell_type": "markdown",
   "metadata": {},
   "source": [
    "## Breadth First"
   ]
  },
  {
   "cell_type": "code",
   "execution_count": 51,
   "metadata": {},
   "outputs": [],
   "source": [
    "def bfs(problem, verbose=False):\n",
    "    NUM_SETS = problem[\"NUM_SETS\"]\n",
    "    PROBLEM_SIZE = problem[\"PROBLEM_SIZE\"]\n",
    "\n",
    "    frontier = deque()\n",
    "    state = State(set(), set(range(NUM_SETS)))\n",
    "    frontier.append(state)\n",
    "\n",
    "    counter = 0\n",
    "    current_state = frontier.popleft()\n",
    "    while not goal_check(problem, current_state):\n",
    "        counter += 1\n",
    "        for action in current_state[1]:\n",
    "            new_state = State(\n",
    "                current_state.taken ^ {action},\n",
    "                current_state.not_taken ^ {action},\n",
    "            )\n",
    "            frontier.append(new_state)\n",
    "        current_state = frontier.popleft()\n",
    "    if verbose:\n",
    "        print(f\"BFS: Solved in {counter:,} steps ({len(current_state.taken)} tiles)\")\n",
    "        \n",
    "    return counter, len(current_state.taken)\n",
    "\n"
   ]
  },
  {
   "cell_type": "markdown",
   "metadata": {},
   "source": [
    "## Greedy Best First"
   ]
  },
  {
   "cell_type": "code",
   "execution_count": 52,
   "metadata": {},
   "outputs": [],
   "source": [
    "def greedy(problem, verbose=False):\n",
    "    NUM_SETS = problem[\"NUM_SETS\"]\n",
    "    PROBLEM_SIZE = problem[\"PROBLEM_SIZE\"]\n",
    "\n",
    "    def f(state):\n",
    "        missing_size = PROBLEM_SIZE - sum(covered(problem, state))\n",
    "        return missing_size\n",
    "\n",
    "\n",
    "    frontier = PriorityQueue()\n",
    "    state = State(set(), set(range(NUM_SETS)))\n",
    "    frontier.put((f(state), state))\n",
    "\n",
    "    counter = 0\n",
    "    _, current_state = frontier.get()\n",
    "    while not goal_check(problem, current_state):\n",
    "        counter += 1\n",
    "        for action in current_state[1]:\n",
    "            new_state = State(\n",
    "                current_state.taken ^ {action},\n",
    "                current_state.not_taken ^ {action},\n",
    "            )\n",
    "            frontier.put((f(new_state), new_state))\n",
    "        _, current_state = frontier.get()\n",
    "    if verbose:\n",
    "        print(f\"Greedy: Solved in {counter:,} steps ({len(current_state.taken)} tiles)\")\n",
    "\n",
    "        \n",
    "    return counter, len(current_state.taken)\n"
   ]
  },
  {
   "cell_type": "markdown",
   "metadata": {},
   "source": [
    "## A*"
   ]
  },
  {
   "cell_type": "code",
   "execution_count": 57,
   "metadata": {},
   "outputs": [],
   "source": [
    "def h(problem, state):\n",
    "    SETS = problem[\"SETS\"]\n",
    "    PROBLEM_SIZE = problem[\"PROBLEM_SIZE\"]\n",
    "\n",
    "    largest_set_size = max(sum(s) for s in SETS)\n",
    "    missing_size = PROBLEM_SIZE - sum(covered(problem, state))\n",
    "    optimistic_estimate = ceil(missing_size / largest_set_size)\n",
    "    return optimistic_estimate\n",
    "\n",
    "\n",
    "def h2(problem, state):\n",
    "    SETS = problem[\"SETS\"]\n",
    "    PROBLEM_SIZE = problem[\"PROBLEM_SIZE\"]\n",
    "\n",
    "    already_covered = covered(problem, state)\n",
    "    if np.all(already_covered):\n",
    "        return 0\n",
    "    largest_set_size = max(sum(np.logical_and(s, np.logical_not(already_covered))) for s in SETS)\n",
    "    missing_size = PROBLEM_SIZE - sum(already_covered)\n",
    "    optimistic_estimate = ceil(missing_size / largest_set_size)\n",
    "    return optimistic_estimate\n",
    "\n",
    "\n",
    "def h3(problem, state):\n",
    "    SETS = problem[\"SETS\"]\n",
    "    PROBLEM_SIZE = problem[\"PROBLEM_SIZE\"]\n",
    "\n",
    "    already_covered = covered(problem, state)\n",
    "    if np.all(already_covered):\n",
    "        return 0\n",
    "    missing_size = PROBLEM_SIZE - sum(already_covered)\n",
    "    candidates = sorted((sum(np.logical_and(s, np.logical_not(already_covered))) for s in SETS), reverse=True)\n",
    "    taken = 1\n",
    "    while sum(candidates[:taken]) < missing_size:\n",
    "        taken += 1\n",
    "    return taken\n",
    "\n",
    "def my_h(problem, state):\n",
    "    SETS = problem[\"SETS\"]\n",
    "    PROBLEM_SIZE = problem[\"PROBLEM_SIZE\"]\n",
    "\n",
    "    already_covered = covered(problem, state)\n",
    "    if np.all(already_covered):\n",
    "        return 0\n",
    "    candidates = sorted([tuple([sum(np.logical_and(s, np.logical_not(already_covered))), s]) for s in SETS], key=lambda a:a[0], reverse=True)\n",
    "    \n",
    "    h = 0\n",
    "    while not np.all(already_covered):\n",
    "        already_covered = np.logical_or(candidates[h][1], already_covered)\n",
    "        candidates = sorted([tuple([sum(np.logical_and(s, np.logical_not(already_covered))), s]) for s in SETS], key=lambda a:a[0], reverse=True)\n",
    "        h += 1\n",
    "\n",
    "    return h\n",
    "\n",
    "def my_h2(problem, state):\n",
    "    PROBLEM_SIZE = problem[\"PROBLEM_SIZE\"]\n",
    "    missing_size = PROBLEM_SIZE - sum(covered(problem, state))\n",
    "    return missing_size"
   ]
  },
  {
   "cell_type": "code",
   "execution_count": 61,
   "metadata": {},
   "outputs": [],
   "source": [
    "def astar(problem, heuristic, verbose=False):\n",
    "    NUM_SETS = problem[\"NUM_SETS\"]\n",
    "    PROBLEM_SIZE = problem[\"PROBLEM_SIZE\"]\n",
    "\n",
    "    def f(state):\n",
    "        return len(state.taken) + heuristic(problem, state)\n",
    "        \n",
    "    frontier = PriorityQueue()\n",
    "    state = State(set(), set(range(NUM_SETS)))\n",
    "    frontier.put((f(state), state))\n",
    "\n",
    "    counter = 0\n",
    "    _, current_state = frontier.get()\n",
    "    while not goal_check(problem, current_state):\n",
    "        counter += 1\n",
    "        for action in current_state[1]:\n",
    "            new_state = State(\n",
    "                current_state.taken ^ {action},\n",
    "                current_state.not_taken ^ {action},\n",
    "            )\n",
    "            frontier.put((f(new_state), new_state))\n",
    "        _, current_state = frontier.get()\n",
    "            \n",
    "    if verbose:\n",
    "        print(f\"Solved in {counter:,} steps ({len(current_state.taken)} tiles)\")\n",
    "    \n",
    "    return counter, len(current_state.taken)\n"
   ]
  },
  {
   "cell_type": "code",
   "execution_count": 62,
   "metadata": {},
   "outputs": [
    {
     "data": {
      "application/vnd.jupyter.widget-view+json": {
       "model_id": "bffd6b6f98454377a79f6a50628438ac",
       "version_major": 2,
       "version_minor": 0
      },
      "text/plain": [
       "  0%|          | 0/10 [00:00<?, ?it/s]"
      ]
     },
     "metadata": {},
     "output_type": "display_data"
    }
   ],
   "source": [
    "NUM_PROBLEMS = 10\n",
    "\n",
    "counters = defaultdict(lambda: [])\n",
    "\n",
    "for i in tqdm(range(NUM_PROBLEMS)):\n",
    "    problem = generate_problem(p_size=10, n_sets=40, prob=0.3)\n",
    "    counters[\"dfs\"].append(   dfs(problem)   )\n",
    "    counters[\"bfs\"].append(   bfs(problem)   )\n",
    "    counters[\"greedy\"].append(   greedy(problem)   )\n",
    "    counters[\"astar_h\"].append(   astar(problem, heuristic=h)   )\n",
    "    counters[\"astar_h2\"].append(   astar(problem, heuristic=h2)   )\n",
    "    counters[\"astar_h3\"].append(   astar(problem, heuristic=h3)   )\n",
    "    counters[\"astar_my_heuristic\"].append(   astar(problem, heuristic=my_h)   )\n",
    "    counters[\"astar_my_heuristic2\"].append(   astar(problem, heuristic=my_h2)   )\n",
    "\n"
   ]
  },
  {
   "cell_type": "code",
   "execution_count": 63,
   "metadata": {},
   "outputs": [
    {
     "name": "stdout",
     "output_type": "stream",
     "text": [
      "Mean dfs steps: 12.5 finding 12.5 tiles\n",
      "Mean bfs steps: 2049.5 finding 2.8 tiles\n",
      "Mean greedy steps: 2.8 finding 2.8 tiles\n",
      "Mean astar_h steps: 54.6 finding 2.8 tiles\n",
      "Mean astar_h2 steps: 17.5 finding 2.8 tiles\n",
      "Mean astar_h3 steps: 17.5 finding 2.8 tiles\n",
      "Mean astar_my_heuristic steps: 13.9 finding 2.8 tiles\n",
      "Mean astar_my_heuristic2 steps: 50.2 finding 4.4 tiles\n"
     ]
    }
   ],
   "source": [
    "for k,v in counters.items():\n",
    "    print(f\"Mean {k} steps: {sum([c[0] for c in v])/len(v)} finding {sum([c[1] for c in v])/len(v)} tiles\")\n",
    "    "
   ]
  }
 ],
 "metadata": {
  "kernelspec": {
   "display_name": "Python 3 (ipykernel)",
   "language": "python",
   "name": "python3"
  },
  "language_info": {
   "codemirror_mode": {
    "name": "ipython",
    "version": 3
   },
   "file_extension": ".py",
   "mimetype": "text/x-python",
   "name": "python",
   "nbconvert_exporter": "python",
   "pygments_lexer": "ipython3",
   "version": "3.10.4"
  }
 },
 "nbformat": 4,
 "nbformat_minor": 4
}
