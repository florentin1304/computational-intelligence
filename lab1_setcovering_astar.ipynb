{
 "cells": [
  {
   "cell_type": "markdown",
   "metadata": {},
   "source": [
    "Copyright **`(c)`** 2023 Florentin-Cristian Udrea (udrea.florentin00@gmail.com)  "
   ]
  },
  {
   "cell_type": "code",
   "execution_count": 1,
   "metadata": {},
   "outputs": [],
   "source": [
    "from random import random\n",
    "from math import ceil\n",
    "from functools import reduce\n",
    "from collections import namedtuple, deque\n",
    "from queue import PriorityQueue\n",
    "\n",
    "import numpy as np\n",
    "from tqdm.auto import tqdm\n",
    "from collections import defaultdict\n"
   ]
  },
  {
   "cell_type": "code",
   "execution_count": 2,
   "metadata": {},
   "outputs": [],
   "source": [
    "State = namedtuple('State', ['taken', 'not_taken'])\n",
    "\n",
    "\n",
    "def covered(problem, state):\n",
    "    SETS = problem[\"SETS\"]\n",
    "    PROBLEM_SIZE = problem[\"PROBLEM_SIZE\"]\n",
    "    \n",
    "    return reduce(\n",
    "        np.logical_or,\n",
    "        [SETS[i] for i in state.taken],\n",
    "        np.array([False for _ in range(PROBLEM_SIZE)]),\n",
    "    )\n",
    "\n",
    "\n",
    "def goal_check(problem, state):\n",
    "    return np.all(covered(problem, state))"
   ]
  },
  {
   "cell_type": "code",
   "execution_count": 3,
   "metadata": {},
   "outputs": [],
   "source": [
    "# PROBLEM_SIZE = 50\n",
    "# NUM_SETS = 200\n",
    "# PROBABILITY = 0.2\n",
    "\n",
    "def generate_problem(p_size, n_sets, prob):\n",
    "    max_tries = 1000\n",
    "    count = 0\n",
    "\n",
    "    SETS = tuple(np.array([random() < prob for _ in range(p_size)]) for _ in range(n_sets))\n",
    "    problem = {\"PROBLEM_SIZE\": p_size,\n",
    "               \"NUM_SETS\": n_sets,\n",
    "               \"PROBABILITY\": prob,\n",
    "               \"SETS\": SETS}\n",
    "    \n",
    "    while goal_check(problem, State(set(range(n_sets)), set())) != True:\n",
    "        SETS = tuple(np.array([random() < prob for _ in range(p_size)]) for _ in range(n_sets))\n",
    "        count += 1\n",
    "        if count > max_tries:\n",
    "            raise Exception(\"Solvable problem is too dificult to create!\")\n",
    "    \n",
    "\n",
    "    \n",
    "    return problem\n",
    "\n",
    "    "
   ]
  },
  {
   "cell_type": "markdown",
   "metadata": {},
   "source": [
    "## Depth First"
   ]
  },
  {
   "cell_type": "code",
   "execution_count": 4,
   "metadata": {},
   "outputs": [],
   "source": [
    "def dfs(problem, verbose=False):\n",
    "    NUM_SETS = problem[\"NUM_SETS\"]\n",
    "    PROBLEM_SIZE = problem[\"PROBLEM_SIZE\"]\n",
    "\n",
    "    frontier = deque()\n",
    "    state = State(set(), set(range(NUM_SETS)))\n",
    "    frontier.append(state)\n",
    "\n",
    "    counter = 0\n",
    "    current_state = frontier.pop()\n",
    "    while not goal_check(problem, current_state):\n",
    "        counter += 1\n",
    "        for action in current_state[1]:\n",
    "            new_state = State(\n",
    "                current_state.taken ^ {action},\n",
    "                current_state.not_taken ^ {action},\n",
    "            )\n",
    "            frontier.append(new_state)\n",
    "        current_state = frontier.pop()\n",
    "    if verbose:\n",
    "        print(f\"DFS: Solved in {counter:,} steps ({len(current_state.taken)} tiles)\")\n",
    "        \n",
    "    return counter, len(current_state.taken)\n"
   ]
  },
  {
   "cell_type": "markdown",
   "metadata": {},
   "source": [
    "## Breadth First"
   ]
  },
  {
   "cell_type": "code",
   "execution_count": 5,
   "metadata": {},
   "outputs": [],
   "source": [
    "def bfs(problem, verbose=False):\n",
    "    NUM_SETS = problem[\"NUM_SETS\"]\n",
    "    PROBLEM_SIZE = problem[\"PROBLEM_SIZE\"]\n",
    "\n",
    "    frontier = deque()\n",
    "    state = State(set(), set(range(NUM_SETS)))\n",
    "    frontier.append(state)\n",
    "\n",
    "    counter = 0\n",
    "    current_state = frontier.popleft()\n",
    "    while not goal_check(problem, current_state):\n",
    "        counter += 1\n",
    "        for action in current_state[1]:\n",
    "            new_state = State(\n",
    "                current_state.taken ^ {action},\n",
    "                current_state.not_taken ^ {action},\n",
    "            )\n",
    "            frontier.append(new_state)\n",
    "        current_state = frontier.popleft()\n",
    "    if verbose:\n",
    "        print(f\"BFS: Solved in {counter:,} steps ({len(current_state.taken)} tiles)\")\n",
    "        \n",
    "    return counter, len(current_state.taken)\n",
    "\n"
   ]
  },
  {
   "cell_type": "markdown",
   "metadata": {},
   "source": [
    "## Greedy Best First"
   ]
  },
  {
   "cell_type": "code",
   "execution_count": 6,
   "metadata": {},
   "outputs": [],
   "source": [
    "def greedy(problem, verbose=False):\n",
    "    NUM_SETS = problem[\"NUM_SETS\"]\n",
    "    PROBLEM_SIZE = problem[\"PROBLEM_SIZE\"]\n",
    "\n",
    "    def f(state):\n",
    "        missing_size = PROBLEM_SIZE - sum(covered(problem, state))\n",
    "        return missing_size\n",
    "\n",
    "\n",
    "    frontier = PriorityQueue()\n",
    "    state = State(set(), set(range(NUM_SETS)))\n",
    "    frontier.put((f(state), state))\n",
    "\n",
    "    counter = 0\n",
    "    _, current_state = frontier.get()\n",
    "    while not goal_check(problem, current_state):\n",
    "        counter += 1\n",
    "        for action in current_state[1]:\n",
    "            new_state = State(\n",
    "                current_state.taken ^ {action},\n",
    "                current_state.not_taken ^ {action},\n",
    "            )\n",
    "            frontier.put((f(new_state), new_state))\n",
    "        _, current_state = frontier.get()\n",
    "    if verbose:\n",
    "        print(f\"Greedy: Solved in {counter:,} steps ({len(current_state.taken)} tiles)\")\n",
    "\n",
    "        \n",
    "    return counter, len(current_state.taken)\n"
   ]
  },
  {
   "cell_type": "markdown",
   "metadata": {},
   "source": [
    "## A*"
   ]
  },
  {
   "cell_type": "code",
   "execution_count": 7,
   "metadata": {},
   "outputs": [],
   "source": [
    "def h(problem, state):\n",
    "    SETS = problem[\"SETS\"]\n",
    "    PROBLEM_SIZE = problem[\"PROBLEM_SIZE\"]\n",
    "\n",
    "    largest_set_size = max(sum(s) for s in SETS)\n",
    "    missing_size = PROBLEM_SIZE - sum(covered(problem, state))\n",
    "    optimistic_estimate = ceil(missing_size / largest_set_size)\n",
    "    return optimistic_estimate\n",
    "\n",
    "\n",
    "def h2(problem, state):\n",
    "    SETS = problem[\"SETS\"]\n",
    "    PROBLEM_SIZE = problem[\"PROBLEM_SIZE\"]\n",
    "\n",
    "    already_covered = covered(problem, state)\n",
    "    if np.all(already_covered):\n",
    "        return 0\n",
    "    largest_set_size = max(sum(np.logical_and(s, np.logical_not(already_covered))) for s in SETS)\n",
    "    missing_size = PROBLEM_SIZE - sum(already_covered)\n",
    "    optimistic_estimate = ceil(missing_size / largest_set_size)\n",
    "    return optimistic_estimate\n",
    "\n",
    "\n",
    "def h3(problem, state):\n",
    "    SETS = problem[\"SETS\"]\n",
    "    PROBLEM_SIZE = problem[\"PROBLEM_SIZE\"]\n",
    "\n",
    "    already_covered = covered(problem, state)\n",
    "    if np.all(already_covered):\n",
    "        return 0\n",
    "    missing_size = PROBLEM_SIZE - sum(already_covered)\n",
    "    candidates = sorted((sum(np.logical_and(s, np.logical_not(already_covered))) for s in SETS), reverse=True)\n",
    "    taken = 1\n",
    "    while sum(candidates[:taken]) < missing_size:\n",
    "        taken += 1\n",
    "    return taken\n",
    "\n",
    "def my_h(problem, state):\n",
    "    SETS = problem[\"SETS\"]\n",
    "    PROBLEM_SIZE = problem[\"PROBLEM_SIZE\"]\n",
    "\n",
    "    already_covered = covered(problem, state)\n",
    "    if np.all(already_covered):\n",
    "        return 0\n",
    "    candidates = sorted([tuple([sum(np.logical_and(s, np.logical_not(already_covered))), s]) for s in SETS], key=lambda a:a[0], reverse=True)\n",
    "    \n",
    "    h = 0\n",
    "    while not np.all(already_covered):\n",
    "        already_covered = np.logical_or(candidates[h][1], already_covered)\n",
    "        candidates = sorted([tuple([sum(np.logical_and(s, np.logical_not(already_covered))), s]) for s in SETS], key=lambda a:a[0], reverse=True)\n",
    "        h += 1\n",
    "\n",
    "    return h\n",
    "\n",
    "def h_wrong(problem, state):\n",
    "    PROBLEM_SIZE = problem[\"PROBLEM_SIZE\"]\n",
    "    missing_size = PROBLEM_SIZE - sum(covered(problem, state))\n",
    "    return missing_size"
   ]
  },
  {
   "cell_type": "code",
   "execution_count": 8,
   "metadata": {},
   "outputs": [],
   "source": [
    "def astar(problem, heuristic, verbose=False):\n",
    "    NUM_SETS = problem[\"NUM_SETS\"]\n",
    "    PROBLEM_SIZE = problem[\"PROBLEM_SIZE\"]\n",
    "\n",
    "    def f(state):\n",
    "        return len(state.taken) + heuristic(problem, state)\n",
    "        \n",
    "    frontier = PriorityQueue()\n",
    "    state = State(set(), set(range(NUM_SETS)))\n",
    "    frontier.put((f(state), state))\n",
    "\n",
    "    counter = 0\n",
    "    _, current_state = frontier.get()\n",
    "    while not goal_check(problem, current_state):\n",
    "        counter += 1\n",
    "        for action in current_state[1]:\n",
    "            new_state = State(\n",
    "                current_state.taken ^ {action},\n",
    "                current_state.not_taken ^ {action},\n",
    "            )\n",
    "            frontier.put((f(new_state), new_state))\n",
    "        _, current_state = frontier.get()\n",
    "            \n",
    "    if verbose:\n",
    "        print(f\"Solved in {counter:,} steps ({len(current_state.taken)} tiles)\")\n",
    "    \n",
    "    return counter, len(current_state.taken)\n"
   ]
  },
  {
   "cell_type": "code",
   "execution_count": 16,
   "metadata": {},
   "outputs": [
    {
     "data": {
      "application/vnd.jupyter.widget-view+json": {
       "model_id": "2bb97c3298a64430b13f5f73e3737a51",
       "version_major": 2,
       "version_minor": 0
      },
      "text/plain": [
       "  0%|          | 0/10 [00:00<?, ?it/s]"
      ]
     },
     "metadata": {},
     "output_type": "display_data"
    }
   ],
   "source": [
    "NUM_PROBLEMS = 10\n",
    "\n",
    "counters = defaultdict(lambda: [])\n",
    "\n",
    "for i in tqdm(range(NUM_PROBLEMS)):\n",
    "    problem = generate_problem(p_size=30, n_sets=50, prob=0.4)\n",
    "    counters[\"dfs\"].append(   dfs(problem)   )\n",
    "    counters[\"bfs\"].append(   bfs(problem)   )\n",
    "    counters[\"greedy\"].append(   greedy(problem)   )\n",
    "    counters[\"astar_h\"].append(   astar(problem, heuristic=h)   )\n",
    "    counters[\"astar_h2\"].append(   astar(problem, heuristic=h2)   )\n",
    "    counters[\"astar_h3\"].append(   astar(problem, heuristic=h3)   )\n",
    "    counters[\"astar_my_heuristic\"].append(   astar(problem, heuristic=my_h)   )\n",
    "    counters[\"astar_wrong_heuristic\"].append(   astar(problem, heuristic=h_wrong)   )\n",
    "\n"
   ]
  },
  {
   "cell_type": "code",
   "execution_count": 17,
   "metadata": {},
   "outputs": [
    {
     "name": "stdout",
     "output_type": "stream",
     "text": [
      "+-----------------------+--------+-------+\n",
      "|         method        | steps  | tiles |\n",
      "+-----------------------+--------+-------+\n",
      "|          dfs          |  8.9   |  8.9  |\n",
      "|          bfs          | 8961.4 |  3.0  |\n",
      "|         greedy        |  3.4   |  3.4  |\n",
      "|        astar_h        | 297.4  |  3.0  |\n",
      "|        astar_h2       |  21.3  |  3.0  |\n",
      "|        astar_h3       |  21.3  |  3.0  |\n",
      "|   astar_my_heuristic  |  8.9   |  3.0  |\n",
      "| astar_wrong_heuristic |  4.2   |  3.4  |\n",
      "+-----------------------+--------+-------+\n"
     ]
    }
   ],
   "source": [
    "from prettytable import PrettyTable\n",
    "\n",
    "x = PrettyTable()\n",
    "\n",
    "x.field_names = [\"method\", \"steps\", \"tiles\"]\n",
    "\n",
    "\n",
    "for k,v in counters.items():\n",
    "    x.add_row([k, sum([c[0] for c in v])/len(v), sum([c[1] for c in v])/len(v)])\n",
    "\n",
    "print(x)"
   ]
  },
  {
   "cell_type": "markdown",
   "metadata": {},
   "source": [
    "# Conclusions"
   ]
  },
  {
   "cell_type": "markdown",
   "metadata": {},
   "source": [
    "A* algorithm usually outperforms the other algorithms while also getting the (presumably) optimal solutions\n",
    "\n",
    "Of course it heavily depends on the heuristic implemented:\n",
    "- the professors heuristic does heavily improve over the brute-force BFS or DFS, going down in two orders of magnitude\n",
    "- my heuristic, instead, outperforms the professor's, going down one more order of magnitude, while keeping its optimality"
   ]
  }
 ],
 "metadata": {
  "kernelspec": {
   "display_name": "Python 3 (ipykernel)",
   "language": "python",
   "name": "python3"
  },
  "language_info": {
   "codemirror_mode": {
    "name": "ipython",
    "version": 3
   },
   "file_extension": ".py",
   "mimetype": "text/x-python",
   "name": "python",
   "nbconvert_exporter": "python",
   "pygments_lexer": "ipython3",
   "version": "3.10.4"
  }
 },
 "nbformat": 4,
 "nbformat_minor": 4
}
